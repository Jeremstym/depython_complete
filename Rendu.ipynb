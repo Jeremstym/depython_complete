{
  "nbformat": 4,
  "nbformat_minor": 0,
  "metadata": {
    "colab": {
      "name": "Rendu.ipynb",
      "provenance": [],
      "collapsed_sections": [],
      "authorship_tag": "ABX9TyNxT9b6GGfKya4r8jlpRgl/",
      "include_colab_link": true
    },
    "kernelspec": {
      "name": "python3",
      "display_name": "Python 3"
    }
  },
  "cells": [
    {
      "cell_type": "markdown",
      "metadata": {
        "id": "view-in-github",
        "colab_type": "text"
      },
      "source": [
        "<a href=\"https://colab.research.google.com/github/rturquier/depythons/blob/main/Rendu.ipynb\" target=\"_parent\"><img src=\"https://colab.research.google.com/assets/colab-badge.svg\" alt=\"Open In Colab\"/></a>"
      ]
    },
    {
      "cell_type": "markdown",
      "metadata": {
        "id": "AyDgk7w54dfJ"
      },
      "source": [
        "#### Projet informatique - Python pour le data scientist\n",
        "##### Jérémie Stym-Popper, Luca Teodorescu, Rémi Turquier\n",
        "# Les députés de l'opposition s'expriment-il différemment de ceux de la majorité ?\n",
        "\n",
        "[Titre temporaire, c'est juste pour voir si ça marche]"
      ]
    },
    {
      "cell_type": "code",
      "metadata": {
        "id": "u6CCHVOX7XDx"
      },
      "source": [
        "# Imports\n",
        "import pandas as pd\n"
      ],
      "execution_count": 2,
      "outputs": []
    },
    {
      "cell_type": "markdown",
      "metadata": {
        "id": "H6wrFWawkgh1"
      },
      "source": [
        "## Récupération des données\n",
        "Les données ont été récupérées par l'intermédiaire de [l'API](https://github.com/regardscitoyens/nosdeputes.fr/blob/master/doc/api.md) mise à disposition par l'association Regards citoyens.\n",
        "\n",
        "[à compléter]"
      ]
    },
    {
      "cell_type": "markdown",
      "metadata": {
        "id": "xM3XXd3KlFz0"
      },
      "source": [
        "## Nettoyage des données\n",
        "Après une exploration préliminaire, nous avons choisi de nous concentrer sur deux groupes parlementaires. Les groupes LFI et LR nous ont paru ceux les plus susceptibles d'utiliser un discours différent et que nous pourrions distinguer dans notre modèle. "
      ]
    },
    {
      "cell_type": "code",
      "metadata": {
        "colab": {
          "base_uri": "https://localhost:8080/",
          "height": 204
        },
        "id": "im9QOPF57LlX",
        "outputId": "e67f2123-484a-448a-8d5d-cbae3bb1281a"
      },
      "source": [
        "# Import des données brutes récupérées avec l'API\n",
        "data_url = \"https://raw.githubusercontent.com/rturquier/depythons/main/Stock_csv/gd_inter.csv\"\n",
        "df_brut = pd.read_csv(data_url)\n",
        "df_brut.sample(n=5)"
      ],
      "execution_count": 152,
      "outputs": [
        {
          "output_type": "execute_result",
          "data": {
            "text/html": [
              "<div>\n",
              "<style scoped>\n",
              "    .dataframe tbody tr th:only-of-type {\n",
              "        vertical-align: middle;\n",
              "    }\n",
              "\n",
              "    .dataframe tbody tr th {\n",
              "        vertical-align: top;\n",
              "    }\n",
              "\n",
              "    .dataframe thead th {\n",
              "        text-align: right;\n",
              "    }\n",
              "</style>\n",
              "<table border=\"1\" class=\"dataframe\">\n",
              "  <thead>\n",
              "    <tr style=\"text-align: right;\">\n",
              "      <th></th>\n",
              "      <th>Unnamed: 0</th>\n",
              "      <th>groupe</th>\n",
              "      <th>nom</th>\n",
              "      <th>interventions</th>\n",
              "    </tr>\n",
              "  </thead>\n",
              "  <tbody>\n",
              "    <tr>\n",
              "      <th>4</th>\n",
              "      <td>4</td>\n",
              "      <td>LFI</td>\n",
              "      <td>Bastien Lachaud</td>\n",
              "      <td>[\" C'est limpide. \", ' Ils le font déjà ! ', '...</td>\n",
              "    </tr>\n",
              "    <tr>\n",
              "      <th>130</th>\n",
              "      <td>130</td>\n",
              "      <td>LR</td>\n",
              "      <td>Philippe Benassaya</td>\n",
              "      <td>[\" Non, mais je voudrais remercier monsieur le...</td>\n",
              "    </tr>\n",
              "    <tr>\n",
              "      <th>35</th>\n",
              "      <td>35</td>\n",
              "      <td>LR</td>\n",
              "      <td>Ian Boucard</td>\n",
              "      <td>[\" Depuis le début de la séance, nos collègues...</td>\n",
              "    </tr>\n",
              "    <tr>\n",
              "      <th>51</th>\n",
              "      <td>51</td>\n",
              "      <td>LR</td>\n",
              "      <td>Jean-Pierre Door</td>\n",
              "      <td>[' Eh oui ! ', \" Cet été, le Gouvernement a dé...</td>\n",
              "    </tr>\n",
              "    <tr>\n",
              "      <th>1</th>\n",
              "      <td>1</td>\n",
              "      <td>LFI</td>\n",
              "      <td>Muriel Ressiguier</td>\n",
              "      <td>[\" L'engagement de la procédure accélérée sur ...</td>\n",
              "    </tr>\n",
              "  </tbody>\n",
              "</table>\n",
              "</div>"
            ],
            "text/plain": [
              "     Unnamed: 0  ...                                      interventions\n",
              "4             4  ...  [\" C'est limpide. \", ' Ils le font déjà ! ', '...\n",
              "130         130  ...  [\" Non, mais je voudrais remercier monsieur le...\n",
              "35           35  ...  [\" Depuis le début de la séance, nos collègues...\n",
              "51           51  ...  [' Eh oui ! ', \" Cet été, le Gouvernement a dé...\n",
              "1             1  ...  [\" L'engagement de la procédure accélérée sur ...\n",
              "\n",
              "[5 rows x 4 columns]"
            ]
          },
          "metadata": {
            "tags": []
          },
          "execution_count": 152
        }
      ]
    },
    {
      "cell_type": "code",
      "metadata": {
        "id": "KhTIgGQn73gU",
        "colab": {
          "base_uri": "https://localhost:8080/",
          "height": 204
        },
        "outputId": "4ab419d5-647e-44a7-e67d-e2b8ea0d9002"
      },
      "source": [
        "# Création d'une indicatrice `droite` qui sera la cible de la classification\n",
        "df_brut = df_brut.\\\n",
        "            assign(droite = df_brut[\"groupe\"] == \"LR\").\\\n",
        "            sort_values(by = [\"droite\"], ascending = False)\n",
        "df_brut.head()"
      ],
      "execution_count": 154,
      "outputs": [
        {
          "output_type": "execute_result",
          "data": {
            "text/html": [
              "<div>\n",
              "<style scoped>\n",
              "    .dataframe tbody tr th:only-of-type {\n",
              "        vertical-align: middle;\n",
              "    }\n",
              "\n",
              "    .dataframe tbody tr th {\n",
              "        vertical-align: top;\n",
              "    }\n",
              "\n",
              "    .dataframe thead th {\n",
              "        text-align: right;\n",
              "    }\n",
              "</style>\n",
              "<table border=\"1\" class=\"dataframe\">\n",
              "  <thead>\n",
              "    <tr style=\"text-align: right;\">\n",
              "      <th></th>\n",
              "      <th>Unnamed: 0</th>\n",
              "      <th>groupe</th>\n",
              "      <th>nom</th>\n",
              "      <th>interventions</th>\n",
              "      <th>droite</th>\n",
              "    </tr>\n",
              "  </thead>\n",
              "  <tbody>\n",
              "    <tr>\n",
              "      <th>84</th>\n",
              "      <td>84</td>\n",
              "      <td>LR</td>\n",
              "      <td>Gilles Lurton</td>\n",
              "      <td>[\" Monsieur le Premier ministre, vous nous ave...</td>\n",
              "      <td>True</td>\n",
              "    </tr>\n",
              "    <tr>\n",
              "      <th>34</th>\n",
              "      <td>34</td>\n",
              "      <td>LR</td>\n",
              "      <td>Éric Ciotti</td>\n",
              "      <td>[\" J'entends votre argumentation. J'ai évoqué ...</td>\n",
              "      <td>True</td>\n",
              "    </tr>\n",
              "    <tr>\n",
              "      <th>22</th>\n",
              "      <td>22</td>\n",
              "      <td>LR</td>\n",
              "      <td>Philippe Gosselin</td>\n",
              "      <td>[' Excellent rapport ! ', \" C'est très inquiét...</td>\n",
              "      <td>True</td>\n",
              "    </tr>\n",
              "    <tr>\n",
              "      <th>23</th>\n",
              "      <td>23</td>\n",
              "      <td>LR</td>\n",
              "      <td>Vincent Descoeur</td>\n",
              "      <td>[\" C'est vrai ! \", \" C'est une anomalie ! \", '...</td>\n",
              "      <td>True</td>\n",
              "    </tr>\n",
              "    <tr>\n",
              "      <th>86</th>\n",
              "      <td>86</td>\n",
              "      <td>LR</td>\n",
              "      <td>Jean-François Parigi</td>\n",
              "      <td>[' Restez modeste ! ', ' Manipulation ! ', ' C...</td>\n",
              "      <td>True</td>\n",
              "    </tr>\n",
              "  </tbody>\n",
              "</table>\n",
              "</div>"
            ],
            "text/plain": [
              "    Unnamed: 0  ... droite\n",
              "84          84  ...   True\n",
              "34          34  ...   True\n",
              "22          22  ...   True\n",
              "23          23  ...   True\n",
              "86          86  ...   True\n",
              "\n",
              "[5 rows x 5 columns]"
            ]
          },
          "metadata": {
            "tags": []
          },
          "execution_count": 154
        }
      ]
    },
    {
      "cell_type": "code",
      "metadata": {
        "id": "a6SDD_yytQU6",
        "colab": {
          "base_uri": "https://localhost:8080/"
        },
        "outputId": "abdc0eaa-4501-48f7-c6c2-d3dcea900fed"
      },
      "source": [
        "# Équilibrage du nombre de députés\n",
        "def balance_left_right(df):\n",
        "  count = df.droite.value_counts()\n",
        "  n_droite, n_gauche = count[True], count[False]\n",
        "  df = df.sort_values(by = [\"droite\"], ascending = False)\n",
        "  \n",
        "  if n_droite > n_gauche :\n",
        "    df = df[n_droite - n_gauche:]\n",
        "  elif n_droite < n_gauche :\n",
        "    df = df[2 * n_droite:]\n",
        "\n",
        "  return df\n",
        "\n",
        "df_brut = balance_left_right(df_brut)\n",
        "df_brut.droite.value_counts()"
      ],
      "execution_count": 155,
      "outputs": [
        {
          "output_type": "execute_result",
          "data": {
            "text/plain": [
              "True     51\n",
              "False    51\n",
              "Name: droite, dtype: int64"
            ]
          },
          "metadata": {
            "tags": []
          },
          "execution_count": 155
        }
      ]
    },
    {
      "cell_type": "code",
      "metadata": {
        "colab": {
          "base_uri": "https://localhost:8080/",
          "height": 419
        },
        "id": "O0lFEGtugn2k",
        "outputId": "1514b6d3-6d2c-4796-c7d1-ba2c2e4122b9"
      },
      "source": [
        "# Régler un problème de type\n",
        "from ast import literal_eval\n",
        "def convert_to_list(interventions):\n",
        "  return literal_eval(str(interventions))\n",
        "\n",
        "df_brut[\"interventions\"] = df_brut[\"interventions\"].apply(convert_to_list)\n",
        "df_brut"
      ],
      "execution_count": 156,
      "outputs": [
        {
          "output_type": "execute_result",
          "data": {
            "text/html": [
              "<div>\n",
              "<style scoped>\n",
              "    .dataframe tbody tr th:only-of-type {\n",
              "        vertical-align: middle;\n",
              "    }\n",
              "\n",
              "    .dataframe tbody tr th {\n",
              "        vertical-align: top;\n",
              "    }\n",
              "\n",
              "    .dataframe thead th {\n",
              "        text-align: right;\n",
              "    }\n",
              "</style>\n",
              "<table border=\"1\" class=\"dataframe\">\n",
              "  <thead>\n",
              "    <tr style=\"text-align: right;\">\n",
              "      <th></th>\n",
              "      <th>Unnamed: 0</th>\n",
              "      <th>groupe</th>\n",
              "      <th>nom</th>\n",
              "      <th>interventions</th>\n",
              "      <th>droite</th>\n",
              "    </tr>\n",
              "  </thead>\n",
              "  <tbody>\n",
              "    <tr>\n",
              "      <th>68</th>\n",
              "      <td>68</td>\n",
              "      <td>LR</td>\n",
              "      <td>Jean-Marie Sermier</td>\n",
              "      <td>[ Ce sont les départements qui payent ! ,  Pou...</td>\n",
              "      <td>True</td>\n",
              "    </tr>\n",
              "    <tr>\n",
              "      <th>71</th>\n",
              "      <td>71</td>\n",
              "      <td>LR</td>\n",
              "      <td>Laurence Trastour-Isnart</td>\n",
              "      <td>[ Il vise à supprimer la part salariale de la ...</td>\n",
              "      <td>True</td>\n",
              "    </tr>\n",
              "    <tr>\n",
              "      <th>66</th>\n",
              "      <td>66</td>\n",
              "      <td>LR</td>\n",
              "      <td>Marc Le Fur</td>\n",
              "      <td>[Marc Le Fur  Prochaine séance, demain, à neuf...</td>\n",
              "      <td>True</td>\n",
              "    </tr>\n",
              "    <tr>\n",
              "      <th>41</th>\n",
              "      <td>41</td>\n",
              "      <td>LR</td>\n",
              "      <td>Nicolas Forissier</td>\n",
              "      <td>[ Je ne vais pas reprendre les excellents argu...</td>\n",
              "      <td>True</td>\n",
              "    </tr>\n",
              "    <tr>\n",
              "      <th>39</th>\n",
              "      <td>39</td>\n",
              "      <td>LR</td>\n",
              "      <td>Jean-Jacques Gaultier</td>\n",
              "      <td>[ … mais contre votre gestion de la crise. Mai...</td>\n",
              "      <td>True</td>\n",
              "    </tr>\n",
              "    <tr>\n",
              "      <th>...</th>\n",
              "      <td>...</td>\n",
              "      <td>...</td>\n",
              "      <td>...</td>\n",
              "      <td>...</td>\n",
              "      <td>...</td>\n",
              "    </tr>\n",
              "    <tr>\n",
              "      <th>136</th>\n",
              "      <td>136</td>\n",
              "      <td>SOC</td>\n",
              "      <td>Marietta Karamanli</td>\n",
              "      <td>[ Je vous remercie de ces éléments et de votre...</td>\n",
              "      <td>False</td>\n",
              "    </tr>\n",
              "    <tr>\n",
              "      <th>137</th>\n",
              "      <td>137</td>\n",
              "      <td>SOC</td>\n",
              "      <td>Joël Aviragnet</td>\n",
              "      <td>[ Il vise, lui aussi, à supprimer l'article in...</td>\n",
              "      <td>False</td>\n",
              "    </tr>\n",
              "    <tr>\n",
              "      <th>138</th>\n",
              "      <td>138</td>\n",
              "      <td>SOC</td>\n",
              "      <td>Boris Vallaud</td>\n",
              "      <td>[ Quelle incongruité que la majorité pénale so...</td>\n",
              "      <td>False</td>\n",
              "    </tr>\n",
              "    <tr>\n",
              "      <th>139</th>\n",
              "      <td>139</td>\n",
              "      <td>SOC</td>\n",
              "      <td>Alain David</td>\n",
              "      <td>[ Déposé par le groupe Socialistes et apparent...</td>\n",
              "      <td>False</td>\n",
              "    </tr>\n",
              "    <tr>\n",
              "      <th>167</th>\n",
              "      <td>167</td>\n",
              "      <td>SOC</td>\n",
              "      <td>Isabelle Santiago</td>\n",
              "      <td>[ Les jeunes de l'ASE, l'Aide sociale à l'enfa...</td>\n",
              "      <td>False</td>\n",
              "    </tr>\n",
              "  </tbody>\n",
              "</table>\n",
              "<p>102 rows × 5 columns</p>\n",
              "</div>"
            ],
            "text/plain": [
              "     Unnamed: 0  ... droite\n",
              "68           68  ...   True\n",
              "71           71  ...   True\n",
              "66           66  ...   True\n",
              "41           41  ...   True\n",
              "39           39  ...   True\n",
              "..          ...  ...    ...\n",
              "136         136  ...  False\n",
              "137         137  ...  False\n",
              "138         138  ...  False\n",
              "139         139  ...  False\n",
              "167         167  ...  False\n",
              "\n",
              "[102 rows x 5 columns]"
            ]
          },
          "metadata": {
            "tags": []
          },
          "execution_count": 156
        }
      ]
    },
    {
      "cell_type": "code",
      "metadata": {
        "id": "K0wHQO2L-MBX"
      },
      "source": [
        "# Séparer toutes les interventions en colonnes différentes\n",
        "df_brut = df_brut.explode(\"interventions\")"
      ],
      "execution_count": 161,
      "outputs": []
    },
    {
      "cell_type": "code",
      "metadata": {
        "colab": {
          "base_uri": "https://localhost:8080/",
          "height": 419
        },
        "id": "2byMHZf7ZDsj",
        "outputId": "14293485-2624-4066-f5d8-66c6862b41c4"
      },
      "source": [
        "# Créer une feature \"longeur de l'intervention\"\n",
        "df_brut = df_brut.assign(longeur = df_brut[\"interventions\"].str.len())\n",
        "df_brut"
      ],
      "execution_count": 170,
      "outputs": [
        {
          "output_type": "execute_result",
          "data": {
            "text/html": [
              "<div>\n",
              "<style scoped>\n",
              "    .dataframe tbody tr th:only-of-type {\n",
              "        vertical-align: middle;\n",
              "    }\n",
              "\n",
              "    .dataframe tbody tr th {\n",
              "        vertical-align: top;\n",
              "    }\n",
              "\n",
              "    .dataframe thead th {\n",
              "        text-align: right;\n",
              "    }\n",
              "</style>\n",
              "<table border=\"1\" class=\"dataframe\">\n",
              "  <thead>\n",
              "    <tr style=\"text-align: right;\">\n",
              "      <th></th>\n",
              "      <th>Unnamed: 0</th>\n",
              "      <th>groupe</th>\n",
              "      <th>nom</th>\n",
              "      <th>interventions</th>\n",
              "      <th>droite</th>\n",
              "      <th>longeur</th>\n",
              "    </tr>\n",
              "  </thead>\n",
              "  <tbody>\n",
              "    <tr>\n",
              "      <th>61</th>\n",
              "      <td>61</td>\n",
              "      <td>LR</td>\n",
              "      <td>Valérie Bazin-Malgras</td>\n",
              "      <td>Exactement ! Que faisons-nous donc ici ?</td>\n",
              "      <td>True</td>\n",
              "      <td>42</td>\n",
              "    </tr>\n",
              "    <tr>\n",
              "      <th>61</th>\n",
              "      <td>61</td>\n",
              "      <td>LR</td>\n",
              "      <td>Valérie Bazin-Malgras</td>\n",
              "      <td>Je rejoins les propos de mon collègue Larive ...</td>\n",
              "      <td>True</td>\n",
              "      <td>312</td>\n",
              "    </tr>\n",
              "    <tr>\n",
              "      <th>61</th>\n",
              "      <td>61</td>\n",
              "      <td>LR</td>\n",
              "      <td>Valérie Bazin-Malgras</td>\n",
              "      <td>Il a été rédigé par ma collègue Emmanuelle An...</td>\n",
              "      <td>True</td>\n",
              "      <td>200</td>\n",
              "    </tr>\n",
              "    <tr>\n",
              "      <th>60</th>\n",
              "      <td>60</td>\n",
              "      <td>LR</td>\n",
              "      <td>Nathalie Bassire</td>\n",
              "      <td>Les différents exposés de nos collègues ont b...</td>\n",
              "      <td>True</td>\n",
              "      <td>655</td>\n",
              "    </tr>\n",
              "    <tr>\n",
              "      <th>60</th>\n",
              "      <td>60</td>\n",
              "      <td>LR</td>\n",
              "      <td>Nathalie Bassire</td>\n",
              "      <td>Ce sous-amendement vise à compléter l'amendem...</td>\n",
              "      <td>True</td>\n",
              "      <td>651</td>\n",
              "    </tr>\n",
              "    <tr>\n",
              "      <th>...</th>\n",
              "      <td>...</td>\n",
              "      <td>...</td>\n",
              "      <td>...</td>\n",
              "      <td>...</td>\n",
              "      <td>...</td>\n",
              "      <td>...</td>\n",
              "    </tr>\n",
              "    <tr>\n",
              "      <th>156</th>\n",
              "      <td>156</td>\n",
              "      <td>SOC</td>\n",
              "      <td>George Pau-Langevin</td>\n",
              "      <td>Avec cet amendement, nous voulons à nouveau e...</td>\n",
              "      <td>False</td>\n",
              "      <td>663</td>\n",
              "    </tr>\n",
              "    <tr>\n",
              "      <th>156</th>\n",
              "      <td>156</td>\n",
              "      <td>SOC</td>\n",
              "      <td>George Pau-Langevin</td>\n",
              "      <td>Nous appelons ici l'attention sur le fait que...</td>\n",
              "      <td>False</td>\n",
              "      <td>578</td>\n",
              "    </tr>\n",
              "    <tr>\n",
              "      <th>156</th>\n",
              "      <td>156</td>\n",
              "      <td>SOC</td>\n",
              "      <td>George Pau-Langevin</td>\n",
              "      <td>Il vise à supprimer l'alinéa 9, qui rend poss...</td>\n",
              "      <td>False</td>\n",
              "      <td>660</td>\n",
              "    </tr>\n",
              "    <tr>\n",
              "      <th>156</th>\n",
              "      <td>156</td>\n",
              "      <td>SOC</td>\n",
              "      <td>George Pau-Langevin</td>\n",
              "      <td>Le groupe Socialistes et apparentés propose d...</td>\n",
              "      <td>False</td>\n",
              "      <td>421</td>\n",
              "    </tr>\n",
              "    <tr>\n",
              "      <th>167</th>\n",
              "      <td>167</td>\n",
              "      <td>SOC</td>\n",
              "      <td>Isabelle Santiago</td>\n",
              "      <td>Monsieur le Premier ministre, dimanche dernie...</td>\n",
              "      <td>False</td>\n",
              "      <td>669</td>\n",
              "    </tr>\n",
              "  </tbody>\n",
              "</table>\n",
              "<p>4908 rows × 6 columns</p>\n",
              "</div>"
            ],
            "text/plain": [
              "     Unnamed: 0 groupe  ... droite longeur\n",
              "61           61     LR  ...   True      42\n",
              "61           61     LR  ...   True     312\n",
              "61           61     LR  ...   True     200\n",
              "60           60     LR  ...   True     655\n",
              "60           60     LR  ...   True     651\n",
              "..          ...    ...  ...    ...     ...\n",
              "156         156    SOC  ...  False     663\n",
              "156         156    SOC  ...  False     578\n",
              "156         156    SOC  ...  False     660\n",
              "156         156    SOC  ...  False     421\n",
              "167         167    SOC  ...  False     669\n",
              "\n",
              "[4908 rows x 6 columns]"
            ]
          },
          "metadata": {
            "tags": []
          },
          "execution_count": 170
        }
      ]
    }
  ]
}