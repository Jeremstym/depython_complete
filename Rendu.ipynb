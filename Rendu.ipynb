{
  "nbformat": 4,
  "nbformat_minor": 0,
  "metadata": {
    "colab": {
      "name": "Rendu.ipynb",
      "provenance": [],
      "collapsed_sections": [],
      "authorship_tag": "ABX9TyODEe1kv/WMcv5eTE/sm0nR",
      "include_colab_link": true
    },
    "kernelspec": {
      "name": "python3",
      "display_name": "Python 3"
    }
  },
  "cells": [
    {
      "cell_type": "markdown",
      "metadata": {
        "id": "view-in-github",
        "colab_type": "text"
      },
      "source": [
        "<a href=\"https://colab.research.google.com/github/rturquier/depythons/blob/main/Rendu.ipynb\" target=\"_parent\"><img src=\"https://colab.research.google.com/assets/colab-badge.svg\" alt=\"Open In Colab\"/></a>"
      ]
    },
    {
      "cell_type": "markdown",
      "metadata": {
        "id": "AyDgk7w54dfJ"
      },
      "source": [
        "#### Projet informatique - Python pour le data scientist\n",
        "##### Jérémie Stym-Popper, Luca Teodorescu, Rémi Turquier\n",
        "# Les députés de l'opposition s'expriment-il différemment de ceux de la majorité ?\n",
        "\n",
        "[Titre temporaire, c'est juste pour voir si ça marche]"
      ]
    },
    {
      "cell_type": "code",
      "metadata": {
        "id": "u6CCHVOX7XDx"
      },
      "source": [
        "# Imports\n",
        "import pandas as pd"
      ],
      "execution_count": 1,
      "outputs": []
    },
    {
      "cell_type": "code",
      "metadata": {
        "colab": {
          "base_uri": "https://localhost:8080/",
          "height": 204
        },
        "id": "im9QOPF57LlX",
        "outputId": "ba2d0257-ba69-40e0-a570-f9e32d60fd77"
      },
      "source": [
        "# Test pour importer un csv\n",
        "data_url = \"https://raw.githubusercontent.com/rturquier/depythons/main/LREM_inter.csv\"\n",
        "df_test = pd.read_csv(data_url)\n",
        "df_test.head()"
      ],
      "execution_count": 5,
      "outputs": [
        {
          "output_type": "execute_result",
          "data": {
            "text/html": [
              "<div>\n",
              "<style scoped>\n",
              "    .dataframe tbody tr th:only-of-type {\n",
              "        vertical-align: middle;\n",
              "    }\n",
              "\n",
              "    .dataframe tbody tr th {\n",
              "        vertical-align: top;\n",
              "    }\n",
              "\n",
              "    .dataframe thead th {\n",
              "        text-align: right;\n",
              "    }\n",
              "</style>\n",
              "<table border=\"1\" class=\"dataframe\">\n",
              "  <thead>\n",
              "    <tr style=\"text-align: right;\">\n",
              "      <th></th>\n",
              "      <th>Unnamed: 0</th>\n",
              "      <th>groupe</th>\n",
              "      <th>nom</th>\n",
              "      <th>interventions</th>\n",
              "    </tr>\n",
              "  </thead>\n",
              "  <tbody>\n",
              "    <tr>\n",
              "      <th>0</th>\n",
              "      <td>0</td>\n",
              "      <td>LREM</td>\n",
              "      <td>Cédric Roussel</td>\n",
              "      <td>[\" Je retire l'amendement. \", \" Je salue tout ...</td>\n",
              "    </tr>\n",
              "    <tr>\n",
              "      <th>1</th>\n",
              "      <td>1</td>\n",
              "      <td>LREM</td>\n",
              "      <td>Nadia Hai</td>\n",
              "      <td>[\" On n'est pas en commission ! \", ' Ah ! ', \"...</td>\n",
              "    </tr>\n",
              "    <tr>\n",
              "      <th>2</th>\n",
              "      <td>2</td>\n",
              "      <td>LREM</td>\n",
              "      <td>Laurent Pietraszewski</td>\n",
              "      <td>[' On a compris, mais calmez-vous quand même !...</td>\n",
              "    </tr>\n",
              "    <tr>\n",
              "      <th>3</th>\n",
              "      <td>3</td>\n",
              "      <td>LREM</td>\n",
              "      <td>Guillaume Kasbarian</td>\n",
              "      <td>[\"Guillaume Kasbarian  Présenté en février der...</td>\n",
              "    </tr>\n",
              "    <tr>\n",
              "      <th>4</th>\n",
              "      <td>4</td>\n",
              "      <td>LREM</td>\n",
              "      <td>Guillaume Vuilletet</td>\n",
              "      <td>[\" Je ne suis que le porte-voix de M. Adam, re...</td>\n",
              "    </tr>\n",
              "  </tbody>\n",
              "</table>\n",
              "</div>"
            ],
            "text/plain": [
              "   Unnamed: 0  ...                                      interventions\n",
              "0           0  ...  [\" Je retire l'amendement. \", \" Je salue tout ...\n",
              "1           1  ...  [\" On n'est pas en commission ! \", ' Ah ! ', \"...\n",
              "2           2  ...  [' On a compris, mais calmez-vous quand même !...\n",
              "3           3  ...  [\"Guillaume Kasbarian  Présenté en février der...\n",
              "4           4  ...  [\" Je ne suis que le porte-voix de M. Adam, re...\n",
              "\n",
              "[5 rows x 4 columns]"
            ]
          },
          "metadata": {
            "tags": []
          },
          "execution_count": 5
        }
      ]
    },
    {
      "cell_type": "code",
      "metadata": {
        "id": "KhTIgGQn73gU"
      },
      "source": [
        ""
      ],
      "execution_count": null,
      "outputs": []
    }
  ]
}