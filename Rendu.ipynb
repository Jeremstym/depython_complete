{
  "nbformat": 4,
  "nbformat_minor": 0,
  "metadata": {
    "colab": {
      "name": "Rendu.ipynb",
      "provenance": [],
      "collapsed_sections": [],
      "include_colab_link": true
    },
    "kernelspec": {
      "display_name": "Python 3",
      "language": "python",
      "name": "python3"
    },
    "language_info": {
      "codemirror_mode": {
        "name": "ipython",
        "version": 3
      },
      "file_extension": ".py",
      "mimetype": "text/x-python",
      "name": "python",
      "nbconvert_exporter": "python",
      "pygments_lexer": "ipython3",
      "version": "3.8.5"
    }
  },
  "cells": [
    {
      "cell_type": "markdown",
      "metadata": {
        "id": "view-in-github",
        "colab_type": "text"
      },
      "source": [
        "<a href=\"https://colab.research.google.com/github/rturquier/depythons/blob/main/Rendu.ipynb\" target=\"_parent\"><img src=\"https://colab.research.google.com/assets/colab-badge.svg\" alt=\"Open In Colab\"/></a>"
      ]
    },
    {
      "cell_type": "markdown",
      "metadata": {
        "id": "AyDgk7w54dfJ"
      },
      "source": [
        "#### Projet informatique - Python pour le data scientist\n",
        "##### Jérémie Stym-Popper, Luca Teodorescu, Rémi Turquier\n",
        "# _La République en Marche_ est-elle de gauche ou de droite ?\n",
        "\n",
        "[Titre provisoire]"
      ]
    },
    {
      "cell_type": "code",
      "metadata": {
        "id": "u6CCHVOX7XDx"
      },
      "source": [
        "# Imports\n",
        "import pandas as pd"
      ],
      "execution_count": null,
      "outputs": []
    },
    {
      "cell_type": "markdown",
      "metadata": {
        "id": "H6wrFWawkgh1"
      },
      "source": [
        "## Récupération des données\n",
        "Les données ont été récupérées par l'intermédiaire de [l'API](https://github.com/regardscitoyens/nosdeputes.fr/blob/master/doc/api.md) mise à disposition par l'association Regards citoyens.\n",
        "\n",
        "Nous avons d'abord utilisé un module nommé depute_api, que nous avons ensuite complété avec trois fonctions :\n",
        "Les fonctions *interventions* et *interventions2* permettent d'entrer le nom d'un député pour obtenir une liste d'interventions (sous forme de liste de str).\n",
        "La fonction ..."
      ]
    },
    {
      "cell_type": "code",
      "metadata": {
        "id": "OW5P37oZPCVR"
      },
      "source": [
        "# ----- Codage de l'API --------------------------------------------------\n",
        "from operator import itemgetter\n",
        "import requests\n",
        "import warnings\n",
        "import re\n",
        "import bs4\n",
        "import unidecode\n",
        "from urllib import request\n",
        "\n",
        "\n",
        "with warnings.catch_warnings():\n",
        "    warnings.filterwarnings(\"ignore\", category=UserWarning)\n",
        "    from fuzzywuzzy.process import extractBests\n",
        "\n",
        "\n",
        "__all__ = ['CPCApi']\n",
        "\n",
        "\n",
        "def memoize(f):\n",
        "    cache = {}\n",
        "\n",
        "    def aux(*args, **kargs):\n",
        "        k = (args, tuple(sorted(kargs.items())))\n",
        "        if k not in cache:\n",
        "            cache[k] = f(*args, **kargs)\n",
        "        return cache[k]\n",
        "    return aux\n",
        "\n",
        "\n",
        "class CPCApi(object):\n",
        "    format = 'json'\n",
        "\n",
        "    def __init__(self, ptype='depute', legislature=None):\n",
        "        \"\"\"\n",
        "        type: depute or senateur\n",
        "        legislature: 2007-2012 or None\n",
        "        \"\"\"\n",
        "\n",
        "        assert(ptype in ['depute', 'senateur'])\n",
        "        assert(legislature in ['2007-2012', '2012-2017', None])\n",
        "        self.legislature = legislature\n",
        "        self.ptype = ptype\n",
        "        self.ptype_plural = ptype + 's'\n",
        "        self.base_url = 'https://%s.nos%s.fr' % (legislature or 'www', self.ptype_plural)\n",
        "\n",
        "    def synthese(self, month=None):\n",
        "        \"\"\"\n",
        "        month format: YYYYMM\n",
        "        \"\"\"\n",
        "        if month is None and self.legislature == '2012-2017':\n",
        "            raise AssertionError('Global Synthesis on legislature does not work, see https://github.com/regardscitoyens/nosdeputes.fr/issues/69')\n",
        "\n",
        "        if month is None:\n",
        "            month = 'data'\n",
        "\n",
        "        url = '%s/synthese/%s/%s' % (self.base_url, month, self.format)\n",
        "\n",
        "        data = requests.get(url).json()\n",
        "        return [depute[self.ptype] for depute in data[self.ptype_plural]]\n",
        "\n",
        "    def parlementaire(self, slug_name):\n",
        "        url = '%s/%s/%s' % (self.base_url, slug_name, self.format)\n",
        "        return requests.get(url).json()[self.ptype]\n",
        "\n",
        "    def picture(self, slug_name, pixels='60'):\n",
        "        return requests.get(self.picture_url(slug_name, pixels=pixels))\n",
        "\n",
        "    def picture_url(self, slug_name, pixels='60'):\n",
        "        return '%s/%s/photo/%s/%s' % (self.base_url, self.ptype, slug_name, pixels)\n",
        "\n",
        "    def search(self, q, page=1):\n",
        "        # XXX : the response with json format is not a valid json :'(\n",
        "        # Temporary return csv raw data\n",
        "        url = '%s/recherche/%s?page=%s&format=%s' % (self.base_url, q, page, 'csv')\n",
        "        return requests.get(url).content\n",
        "    \n",
        "    \n",
        "    @memoize\n",
        "    def parlementaires(self, active=None):\n",
        "        if active is None:\n",
        "            url = '%s/%s/%s' % (self.base_url, self.ptype_plural, self.format)\n",
        "        else:\n",
        "            url = '%s/%s/enmandat/%s' % (self.base_url, self.ptype_plural, self.format)\n",
        "\n",
        "        data = requests.get(url).json()\n",
        "        return [depute[self.ptype] for depute in data[self.ptype_plural]]\n",
        "    \n",
        "    def search_parlementaires(self, q, field='nom', limit=5):\n",
        "        return extractBests(q, self.parlementaires(), processor=lambda x: x[field] if type(x) == dict else x, limit=limit)\n",
        "\n",
        "\n",
        "\n",
        "    def interventions(self, dep_name, n_sessions=10, start=4850):\n",
        "        name = self.search_parlementaires(dep_name)[0][0][\"nom\"]\n",
        "        dep_intervention = []\n",
        "        pattern = \"(?<=Permalien\" + name + \")\" + \".*?(?=Voir tous les commentaires)\"\n",
        "        for num_txt in range(start, start + n_sessions):\n",
        "            url = \"https://www.nosdeputes.fr/15/seance/%s\" % (str(num_txt))\n",
        "            source = request.urlopen(url).read()            \n",
        "            # source.encoding = source.apparent_encoding\n",
        "            page = bs4.BeautifulSoup(source, \"lxml\")\n",
        "            x = re.findall(pattern, page.get_text(), flags=re.S)\n",
        "            dep_intervention += x\n",
        "\n",
        "        return dep_intervention\n",
        "    \n",
        "    def interventions2(self, dep_name):\n",
        "        name = self.search_parlementaires(dep_name)[0][0][\"nom\"]\n",
        "        name_pattern = re.sub(' ', '+', unidecode.unidecode(name.lower()))\n",
        "        dep_intervention = []\n",
        "        url = \"https://www.nosdeputes.fr/recherche?object_name=Intervention&tag=parlementaire%3D{0}&sort=1\".format(name_pattern)\n",
        "        source = request.urlopen(url).read()            \n",
        "        page = bs4.BeautifulSoup(source, \"lxml\")\n",
        "        for x in page.find_all('p', {'class' : 'content'}):\n",
        "            dep_intervention += x\n",
        "\n",
        "        return dep_intervention\n",
        "    \n",
        "    def liste_mots(self, dep_name):\n",
        "        name = self.search_parlementaires(dep_name)[0][0][\"nom\"]\n",
        "        name_pattern = re.sub(' ', '-', unidecode.unidecode(name.lower()))\n",
        "        mots_dep = []\n",
        "        url = \"https://www.nosdeputes.fr/{0}/tags\".format(name_pattern)\n",
        "        source = request.urlopen(url).read()            \n",
        "        page = bs4.BeautifulSoup(source, \"lxml\")\n",
        "        for x in page.find_all('span', {'class' : 'tag_level_4'}):\n",
        "            mots_dep.append(re.sub(\"\\n\", \"\", x.get_text()))\n",
        "            \n",
        "        return mots_dep\n"
      ],
      "execution_count": null,
      "outputs": []
    },
    {
      "cell_type": "markdown",
      "metadata": {
        "id": "zGU4ALalPCVS"
      },
      "source": [
        "Ensuite, nous avons créé plusieurs DataFrames à l'aide de la fonction interventions 2, avec les fonctions suivantes : "
      ]
    },
    {
      "cell_type": "code",
      "metadata": {
        "id": "eJlvLIZsPCVT"
      },
      "source": [
        "# Fonctions intermédiaires\n",
        "\n",
        "def deputies_of_group(group, n_deputies):\n",
        "    all_names = deputies_df[deputies_df[\"groupe_sigle\"] == group][\"nom\"]\n",
        "    return all_names[:n_deputies]\n",
        "\n",
        "\n",
        "def interventions_of_group(group, n_deputies=15):\n",
        "    names = deputies_of_group(group, n_deputies)\n",
        "    print(names)\n",
        "    interventions = []\n",
        "    for name in names:\n",
        "        print(name)\n",
        "        interventions += [[group, name, api.interventions2(name)]]\n",
        "    return interventions\n",
        "\n",
        "# Fonction de stockage des interventions \n",
        "\n",
        "def stockintervention(groupe):\n",
        "    interventions_group = []\n",
        "    nbdep = deputies_df.groupby('groupe_sigle')['nom'].count()[str(groupe)]\n",
        "    print(nbdep)\n",
        "    interventions_group += interventions_of_group(groupe, nbdep)\n",
        "    interventions_df = pd.DataFrame(\n",
        "        interventions_group,\n",
        "        columns=[\"groupe\", \"nom\", \"interventions\"]\n",
        "        )\n",
        "    \n",
        "    return interventions_df"
      ],
      "execution_count": null,
      "outputs": []
    },
    {
      "cell_type": "markdown",
      "metadata": {
        "id": "TwHj_lLqPCVT"
      },
      "source": [
        "Voici un exemple d'utilisation. Pour éviter de perdre du temps ici (la fonction peut mettre du temps à s'exécuter sur les échantillons de grande taille), on exécute la fonction sur un petit parti politique."
      ]
    },
    {
      "cell_type": "code",
      "metadata": {
        "id": "hI2VdK4aPCVU",
        "outputId": "090c474b-ea59-44e4-b677-d10b5c4030c9"
      },
      "source": [
        "api = CPCApi()\n",
        "deputies_json = api.parlementaires()\n",
        "deputies_df = pd.json_normalize(deputies_json)\n",
        "\n",
        "UAI_df = stockintervention('UAI')\n",
        "UAI_df"
      ],
      "execution_count": null,
      "outputs": [
        {
          "output_type": "stream",
          "text": [
            "4\n",
            "76           Yves Jégo\n",
            "80      Franck Riester\n",
            "289      Maurice Leroy\n",
            "515    Napole Polutele\n",
            "Name: nom, dtype: object\n",
            "Yves Jégo\n",
            "Franck Riester\n",
            "Maurice Leroy\n",
            "Napole Polutele\n"
          ],
          "name": "stdout"
        },
        {
          "output_type": "execute_result",
          "data": {
            "text/html": [
              "<div>\n",
              "<style scoped>\n",
              "    .dataframe tbody tr th:only-of-type {\n",
              "        vertical-align: middle;\n",
              "    }\n",
              "\n",
              "    .dataframe tbody tr th {\n",
              "        vertical-align: top;\n",
              "    }\n",
              "\n",
              "    .dataframe thead th {\n",
              "        text-align: right;\n",
              "    }\n",
              "</style>\n",
              "<table border=\"1\" class=\"dataframe\">\n",
              "  <thead>\n",
              "    <tr style=\"text-align: right;\">\n",
              "      <th></th>\n",
              "      <th>groupe</th>\n",
              "      <th>nom</th>\n",
              "      <th>interventions</th>\n",
              "    </tr>\n",
              "  </thead>\n",
              "  <tbody>\n",
              "    <tr>\n",
              "      <th>0</th>\n",
              "      <td>UAI</td>\n",
              "      <td>Yves Jégo</td>\n",
              "      <td>[Yves Jégo  Prochaine séance, ce soir, à vingt...</td>\n",
              "    </tr>\n",
              "    <tr>\n",
              "      <th>1</th>\n",
              "      <td>UAI</td>\n",
              "      <td>Franck Riester</td>\n",
              "      <td>[ Vous pouvez compter sur le groupe UDI, Agir ...</td>\n",
              "    </tr>\n",
              "    <tr>\n",
              "      <th>2</th>\n",
              "      <td>UAI</td>\n",
              "      <td>Maurice Leroy</td>\n",
              "      <td>[Maurice Leroy  – Nous avons examiné la PPE en...</td>\n",
              "    </tr>\n",
              "    <tr>\n",
              "      <th>3</th>\n",
              "      <td>UAI</td>\n",
              "      <td>Napole Polutele</td>\n",
              "      <td>[ Oui, madame la présidente. ,  Madame la mini...</td>\n",
              "    </tr>\n",
              "  </tbody>\n",
              "</table>\n",
              "</div>"
            ],
            "text/plain": [
              "  groupe              nom                                      interventions\n",
              "0    UAI        Yves Jégo  [Yves Jégo  Prochaine séance, ce soir, à vingt...\n",
              "1    UAI   Franck Riester  [ Vous pouvez compter sur le groupe UDI, Agir ...\n",
              "2    UAI    Maurice Leroy  [Maurice Leroy  – Nous avons examiné la PPE en...\n",
              "3    UAI  Napole Polutele  [ Oui, madame la présidente. ,  Madame la mini..."
            ]
          },
          "metadata": {
            "tags": []
          },
          "execution_count": 19
        }
      ]
    },
    {
      "cell_type": "markdown",
      "metadata": {
        "id": "OAInatZOPCVV"
      },
      "source": [
        "Importons maintenant les données qui nous intéressent"
      ]
    },
    {
      "cell_type": "code",
      "metadata": {
        "id": "kT8sAhwMPCVW"
      },
      "source": [
        "LFI_df = pd.read_csv(\"https://raw.githubusercontent.com/rturquier/depythons/main/Stock_csv/LFI2_inter.csv\")\n",
        "LREM_df = pd.read_csv(\"https://raw.githubusercontent.com/rturquier/depythons/main/Stock_csv/LREM2_inter.csv\")\n",
        "LR_df = pd.read_csv(\"https://raw.githubusercontent.com/rturquier/depythons/main/Stock_csv/LR2_inter.csv\")\n",
        "SOC_df = pd.read_csv(\"https://raw.githubusercontent.com/rturquier/depythons/main/Stock_csv/SOC2_inter.csv\")"
      ],
      "execution_count": null,
      "outputs": []
    },
    {
      "cell_type": "markdown",
      "metadata": {
        "id": "xM3XXd3KlFz0"
      },
      "source": [
        "## Nettoyage des données\n",
        "Après une exploration préliminaire, nous avons choisi de nous concentrer sur deux groupes parlementaires. Les groupes LFI et LR nous ont paru ceux les plus susceptibles d'utiliser un discours différent et que nous pourrions distinguer dans notre modèle. "
      ]
    },
    {
      "cell_type": "code",
      "metadata": {
        "id": "im9QOPF57LlX"
      },
      "source": [
        "### Import des données brutes récupérées avec l'API\n",
        "data_url = \"https://raw.githubusercontent.com/rturquier/depythons/main/Stock_csv/gd2_inter.csv\"\n",
        "df_brut = pd.read_csv(data_url)\n",
        "df_brut.sample(n=5)"
      ],
      "execution_count": null,
      "outputs": []
    },
    {
      "cell_type": "code",
      "metadata": {
        "colab": {
          "base_uri": "https://localhost:8080/",
          "height": 204
        },
        "id": "KhTIgGQn73gU",
        "outputId": "4ab419d5-647e-44a7-e67d-e2b8ea0d9002"
      },
      "source": [
        "# Création d'une indicatrice `droite` qui sera la cible de la classification\n",
        "df_brut = df_brut.assign(droite = df_brut[\"groupe\"] == \"LR\")"
      ],
      "execution_count": null,
      "outputs": [
        {
          "output_type": "execute_result",
          "data": {
            "text/html": [
              "<div>\n",
              "<style scoped>\n",
              "    .dataframe tbody tr th:only-of-type {\n",
              "        vertical-align: middle;\n",
              "    }\n",
              "\n",
              "    .dataframe tbody tr th {\n",
              "        vertical-align: top;\n",
              "    }\n",
              "\n",
              "    .dataframe thead th {\n",
              "        text-align: right;\n",
              "    }\n",
              "</style>\n",
              "<table border=\"1\" class=\"dataframe\">\n",
              "  <thead>\n",
              "    <tr style=\"text-align: right;\">\n",
              "      <th></th>\n",
              "      <th>groupe</th>\n",
              "      <th>nom</th>\n",
              "      <th>interventions</th>\n",
              "      <th>droite</th>\n",
              "    </tr>\n",
              "  </thead>\n",
              "  <tbody>\n",
              "    <tr>\n",
              "      <th>84</th>\n",
              "      <td>LR</td>\n",
              "      <td>Gilles Lurton</td>\n",
              "      <td>[\" Monsieur le Premier ministre, vous nous ave...</td>\n",
              "      <td>True</td>\n",
              "    </tr>\n",
              "    <tr>\n",
              "      <th>86</th>\n",
              "      <td>LR</td>\n",
              "      <td>Jean-François Parigi</td>\n",
              "      <td>[' Restez modeste ! ', ' Manipulation ! ', ' C...</td>\n",
              "      <td>True</td>\n",
              "    </tr>\n",
              "    <tr>\n",
              "      <th>100</th>\n",
              "      <td>LR</td>\n",
              "      <td>Dino Cinieri</td>\n",
              "      <td>[\" La demi-part supplémentaire qui revient de ...</td>\n",
              "      <td>True</td>\n",
              "    </tr>\n",
              "    <tr>\n",
              "      <th>99</th>\n",
              "      <td>LR</td>\n",
              "      <td>Jean-Charles Taugourdeau</td>\n",
              "      <td>[\" Je vous recevrai avec grand plaisir dans ma...</td>\n",
              "      <td>True</td>\n",
              "    </tr>\n",
              "    <tr>\n",
              "      <th>98</th>\n",
              "      <td>LR</td>\n",
              "      <td>Jérôme Nury</td>\n",
              "      <td>[\" Je vous remercie pour ces réponses claires....</td>\n",
              "      <td>True</td>\n",
              "    </tr>\n",
              "  </tbody>\n",
              "</table>\n",
              "</div>"
            ],
            "text/plain": [
              "    groupe                       nom  \\\n",
              "84      LR             Gilles Lurton   \n",
              "86      LR      Jean-François Parigi   \n",
              "100     LR              Dino Cinieri   \n",
              "99      LR  Jean-Charles Taugourdeau   \n",
              "98      LR               Jérôme Nury   \n",
              "\n",
              "                                         interventions  droite  \n",
              "84   [\" Monsieur le Premier ministre, vous nous ave...    True  \n",
              "86   [' Restez modeste ! ', ' Manipulation ! ', ' C...    True  \n",
              "100  [\" La demi-part supplémentaire qui revient de ...    True  \n",
              "99   [\" Je vous recevrai avec grand plaisir dans ma...    True  \n",
              "98   [\" Je vous remercie pour ces réponses claires....    True  "
            ]
          },
          "metadata": {
            "tags": []
          },
          "execution_count": 49
        }
      ]
    },
    {
      "cell_type": "code",
      "metadata": {
        "colab": {
          "base_uri": "https://localhost:8080/"
        },
        "id": "a6SDD_yytQU6",
        "outputId": "abdc0eaa-4501-48f7-c6c2-d3dcea900fed"
      },
      "source": [
        "# Équilibrage du nombre de députés\n",
        "def balance_left_right(df):\n",
        "  count = df.droite.value_counts()\n",
        "  n_droite, n_gauche = count[True], count[False]\n",
        "  df = df.sort_values(by = [\"droite\"], ascending = False)\n",
        "  \n",
        "  if n_droite > n_gauche :\n",
        "    df = df[n_droite - n_gauche:]\n",
        "  elif n_droite < n_gauche :\n",
        "    df = df[2 * n_droite:]\n",
        "\n",
        "  return df\n",
        "\n",
        "df_brut = balance_left_right(df_brut)\n",
        "df_brut.droite.value_counts()"
      ],
      "execution_count": null,
      "outputs": [
        {
          "output_type": "execute_result",
          "data": {
            "text/plain": [
              "True     51\n",
              "False    51\n",
              "Name: droite, dtype: int64"
            ]
          },
          "metadata": {
            "tags": []
          },
          "execution_count": 50
        }
      ]
    },
    {
      "cell_type": "code",
      "metadata": {
        "colab": {
          "base_uri": "https://localhost:8080/",
          "height": 419
        },
        "id": "O0lFEGtugn2k",
        "outputId": "1514b6d3-6d2c-4796-c7d1-ba2c2e4122b9"
      },
      "source": [
        "# Régler un problème de type\n",
        "from ast import literal_eval\n",
        "def convert_to_list(interventions):\n",
        "  return literal_eval(str(interventions))\n",
        "\n",
        "df_brut[\"interventions\"] = df_brut[\"interventions\"].apply(convert_to_list)"
      ],
      "execution_count": null,
      "outputs": [
        {
          "output_type": "execute_result",
          "data": {
            "text/html": [
              "<div>\n",
              "<style scoped>\n",
              "    .dataframe tbody tr th:only-of-type {\n",
              "        vertical-align: middle;\n",
              "    }\n",
              "\n",
              "    .dataframe tbody tr th {\n",
              "        vertical-align: top;\n",
              "    }\n",
              "\n",
              "    .dataframe thead th {\n",
              "        text-align: right;\n",
              "    }\n",
              "</style>\n",
              "<table border=\"1\" class=\"dataframe\">\n",
              "  <thead>\n",
              "    <tr style=\"text-align: right;\">\n",
              "      <th></th>\n",
              "      <th>groupe</th>\n",
              "      <th>nom</th>\n",
              "      <th>interventions</th>\n",
              "      <th>droite</th>\n",
              "    </tr>\n",
              "  </thead>\n",
              "  <tbody>\n",
              "    <tr>\n",
              "      <th>78</th>\n",
              "      <td>LR</td>\n",
              "      <td>Valérie Lacroute</td>\n",
              "      <td>[ Jusqu'où ira-t-on ? Alors, monsieur le Premi...</td>\n",
              "      <td>True</td>\n",
              "    </tr>\n",
              "    <tr>\n",
              "      <th>79</th>\n",
              "      <td>LR</td>\n",
              "      <td>Jean-Claude Bouchet</td>\n",
              "      <td>[ Eh oui ! ,  La décadence ! ,  Très bien ! , ...</td>\n",
              "      <td>True</td>\n",
              "    </tr>\n",
              "    <tr>\n",
              "      <th>80</th>\n",
              "      <td>LR</td>\n",
              "      <td>Claude Goasguen</td>\n",
              "      <td>[ Ils les vendent ! ,  Cela s'appelle du troc ...</td>\n",
              "      <td>True</td>\n",
              "    </tr>\n",
              "    <tr>\n",
              "      <th>81</th>\n",
              "      <td>LR</td>\n",
              "      <td>Éric Diard</td>\n",
              "      <td>[ Nous tenons cependant à souligner les avancé...</td>\n",
              "      <td>True</td>\n",
              "    </tr>\n",
              "    <tr>\n",
              "      <th>82</th>\n",
              "      <td>LR</td>\n",
              "      <td>Guillaume Larrivé</td>\n",
              "      <td>[ Néanmoins je crois qu'au cours de la navette...</td>\n",
              "      <td>True</td>\n",
              "    </tr>\n",
              "    <tr>\n",
              "      <th>...</th>\n",
              "      <td>...</td>\n",
              "      <td>...</td>\n",
              "      <td>...</td>\n",
              "      <td>...</td>\n",
              "    </tr>\n",
              "    <tr>\n",
              "      <th>154</th>\n",
              "      <td>SOC</td>\n",
              "      <td>Serge Letchimy</td>\n",
              "      <td>[ Monsieur le ministre des outre-mer, des plui...</td>\n",
              "      <td>False</td>\n",
              "    </tr>\n",
              "    <tr>\n",
              "      <th>153</th>\n",
              "      <td>SOC</td>\n",
              "      <td>Luc Carvounas</td>\n",
              "      <td>[ celle de porter la voix de la nation et de r...</td>\n",
              "      <td>False</td>\n",
              "    </tr>\n",
              "    <tr>\n",
              "      <th>152</th>\n",
              "      <td>SOC</td>\n",
              "      <td>Christine Pires Beaune</td>\n",
              "      <td>[ D'accord. ,  Monsieur le ministre délégué, l...</td>\n",
              "      <td>False</td>\n",
              "    </tr>\n",
              "    <tr>\n",
              "      <th>142</th>\n",
              "      <td>SOC</td>\n",
              "      <td>Hervé Saulignac</td>\n",
              "      <td>[ Cette proposition de loi a suscité tout à la...</td>\n",
              "      <td>False</td>\n",
              "    </tr>\n",
              "    <tr>\n",
              "      <th>167</th>\n",
              "      <td>SOC</td>\n",
              "      <td>Isabelle Santiago</td>\n",
              "      <td>[ Les jeunes de l'ASE, l'Aide sociale à l'enfa...</td>\n",
              "      <td>False</td>\n",
              "    </tr>\n",
              "  </tbody>\n",
              "</table>\n",
              "<p>102 rows × 4 columns</p>\n",
              "</div>"
            ],
            "text/plain": [
              "    groupe                     nom  \\\n",
              "78      LR        Valérie Lacroute   \n",
              "79      LR     Jean-Claude Bouchet   \n",
              "80      LR         Claude Goasguen   \n",
              "81      LR              Éric Diard   \n",
              "82      LR       Guillaume Larrivé   \n",
              "..     ...                     ...   \n",
              "154    SOC          Serge Letchimy   \n",
              "153    SOC           Luc Carvounas   \n",
              "152    SOC  Christine Pires Beaune   \n",
              "142    SOC         Hervé Saulignac   \n",
              "167    SOC       Isabelle Santiago   \n",
              "\n",
              "                                         interventions  droite  \n",
              "78   [ Jusqu'où ira-t-on ? Alors, monsieur le Premi...    True  \n",
              "79   [ Eh oui ! ,  La décadence ! ,  Très bien ! , ...    True  \n",
              "80   [ Ils les vendent ! ,  Cela s'appelle du troc ...    True  \n",
              "81   [ Nous tenons cependant à souligner les avancé...    True  \n",
              "82   [ Néanmoins je crois qu'au cours de la navette...    True  \n",
              "..                                                 ...     ...  \n",
              "154  [ Monsieur le ministre des outre-mer, des plui...   False  \n",
              "153  [ celle de porter la voix de la nation et de r...   False  \n",
              "152  [ D'accord. ,  Monsieur le ministre délégué, l...   False  \n",
              "142  [ Cette proposition de loi a suscité tout à la...   False  \n",
              "167  [ Les jeunes de l'ASE, l'Aide sociale à l'enfa...   False  \n",
              "\n",
              "[102 rows x 4 columns]"
            ]
          },
          "metadata": {
            "tags": []
          },
          "execution_count": 51
        }
      ]
    },
    {
      "cell_type": "code",
      "metadata": {
        "id": "K0wHQO2L-MBX"
      },
      "source": [
        "# Séparer toutes les interventions en colonnes différentes\n",
        "df_tidy = df_brut.explode(\"interventions\")\n",
        "df_tidy"
      ],
      "execution_count": null,
      "outputs": []
    },
    {
      "cell_type": "code",
      "metadata": {
        "colab": {
          "base_uri": "https://localhost:8080/",
          "height": 419
        },
        "id": "2byMHZf7ZDsj",
        "outputId": "14293485-2624-4066-f5d8-66c6862b41c4"
      },
      "source": [
        "# Créer une feature \"longeur de l'intervention\"\n",
        "df_brut = df_brut.assign(longeur = df_brut[\"interventions\"].str.len())\n",
        "df_brut"
      ],
      "execution_count": null,
      "outputs": [
        {
          "output_type": "execute_result",
          "data": {
            "text/html": [
              "<div>\n",
              "<style scoped>\n",
              "    .dataframe tbody tr th:only-of-type {\n",
              "        vertical-align: middle;\n",
              "    }\n",
              "\n",
              "    .dataframe tbody tr th {\n",
              "        vertical-align: top;\n",
              "    }\n",
              "\n",
              "    .dataframe thead th {\n",
              "        text-align: right;\n",
              "    }\n",
              "</style>\n",
              "<table border=\"1\" class=\"dataframe\">\n",
              "  <thead>\n",
              "    <tr style=\"text-align: right;\">\n",
              "      <th></th>\n",
              "      <th>groupe</th>\n",
              "      <th>nom</th>\n",
              "      <th>interventions</th>\n",
              "      <th>droite</th>\n",
              "      <th>longeur</th>\n",
              "    </tr>\n",
              "  </thead>\n",
              "  <tbody>\n",
              "    <tr>\n",
              "      <th>78</th>\n",
              "      <td>LR</td>\n",
              "      <td>Valérie Lacroute</td>\n",
              "      <td>Jusqu'où ira-t-on ? Alors, monsieur le Premie...</td>\n",
              "      <td>True</td>\n",
              "      <td>244.0</td>\n",
              "    </tr>\n",
              "    <tr>\n",
              "      <th>78</th>\n",
              "      <td>LR</td>\n",
              "      <td>Valérie Lacroute</td>\n",
              "      <td>La situation économique est dramatique. Le Pr...</td>\n",
              "      <td>True</td>\n",
              "      <td>506.0</td>\n",
              "    </tr>\n",
              "    <tr>\n",
              "      <th>78</th>\n",
              "      <td>LR</td>\n",
              "      <td>Valérie Lacroute</td>\n",
              "      <td>… abandon de nos aînés dans les EHPAD, incohé...</td>\n",
              "      <td>True</td>\n",
              "      <td>133.0</td>\n",
              "    </tr>\n",
              "    <tr>\n",
              "      <th>78</th>\n",
              "      <td>LR</td>\n",
              "      <td>Valérie Lacroute</td>\n",
              "      <td>Mon bilan est peut-être modeste mais j'ai la ...</td>\n",
              "      <td>True</td>\n",
              "      <td>392.0</td>\n",
              "    </tr>\n",
              "    <tr>\n",
              "      <th>78</th>\n",
              "      <td>LR</td>\n",
              "      <td>Valérie Lacroute</td>\n",
              "      <td>Au passage, j'adresse, une nouvelle fois, au ...</td>\n",
              "      <td>True</td>\n",
              "      <td>119.0</td>\n",
              "    </tr>\n",
              "    <tr>\n",
              "      <th>...</th>\n",
              "      <td>...</td>\n",
              "      <td>...</td>\n",
              "      <td>...</td>\n",
              "      <td>...</td>\n",
              "      <td>...</td>\n",
              "    </tr>\n",
              "    <tr>\n",
              "      <th>167</th>\n",
              "      <td>SOC</td>\n",
              "      <td>Isabelle Santiago</td>\n",
              "      <td>Il vise également à supprimer l'alinéa 16. Le...</td>\n",
              "      <td>False</td>\n",
              "      <td>444.0</td>\n",
              "    </tr>\n",
              "    <tr>\n",
              "      <th>167</th>\n",
              "      <td>SOC</td>\n",
              "      <td>Isabelle Santiago</td>\n",
              "      <td>Monsieur le Premier ministre, conséquence dir...</td>\n",
              "      <td>False</td>\n",
              "      <td>663.0</td>\n",
              "    </tr>\n",
              "    <tr>\n",
              "      <th>167</th>\n",
              "      <td>SOC</td>\n",
              "      <td>Isabelle Santiago</td>\n",
              "      <td>Le présent amendement propose de supprimer l'...</td>\n",
              "      <td>False</td>\n",
              "      <td>618.0</td>\n",
              "    </tr>\n",
              "    <tr>\n",
              "      <th>167</th>\n",
              "      <td>SOC</td>\n",
              "      <td>Isabelle Santiago</td>\n",
              "      <td>Il vise à instaurer un prélèvement sur les re...</td>\n",
              "      <td>False</td>\n",
              "      <td>659.0</td>\n",
              "    </tr>\n",
              "    <tr>\n",
              "      <th>167</th>\n",
              "      <td>SOC</td>\n",
              "      <td>Isabelle Santiago</td>\n",
              "      <td>Monsieur le Premier ministre, dimanche dernie...</td>\n",
              "      <td>False</td>\n",
              "      <td>669.0</td>\n",
              "    </tr>\n",
              "  </tbody>\n",
              "</table>\n",
              "<p>4479 rows × 5 columns</p>\n",
              "</div>"
            ],
            "text/plain": [
              "    groupe                nom  \\\n",
              "78      LR   Valérie Lacroute   \n",
              "78      LR   Valérie Lacroute   \n",
              "78      LR   Valérie Lacroute   \n",
              "78      LR   Valérie Lacroute   \n",
              "78      LR   Valérie Lacroute   \n",
              "..     ...                ...   \n",
              "167    SOC  Isabelle Santiago   \n",
              "167    SOC  Isabelle Santiago   \n",
              "167    SOC  Isabelle Santiago   \n",
              "167    SOC  Isabelle Santiago   \n",
              "167    SOC  Isabelle Santiago   \n",
              "\n",
              "                                         interventions  droite  longeur  \n",
              "78    Jusqu'où ira-t-on ? Alors, monsieur le Premie...    True    244.0  \n",
              "78    La situation économique est dramatique. Le Pr...    True    506.0  \n",
              "78    … abandon de nos aînés dans les EHPAD, incohé...    True    133.0  \n",
              "78    Mon bilan est peut-être modeste mais j'ai la ...    True    392.0  \n",
              "78    Au passage, j'adresse, une nouvelle fois, au ...    True    119.0  \n",
              "..                                                 ...     ...      ...  \n",
              "167   Il vise également à supprimer l'alinéa 16. Le...   False    444.0  \n",
              "167   Monsieur le Premier ministre, conséquence dir...   False    663.0  \n",
              "167   Le présent amendement propose de supprimer l'...   False    618.0  \n",
              "167   Il vise à instaurer un prélèvement sur les re...   False    659.0  \n",
              "167   Monsieur le Premier ministre, dimanche dernie...   False    669.0  \n",
              "\n",
              "[4479 rows x 5 columns]"
            ]
          },
          "metadata": {
            "tags": []
          },
          "execution_count": 53
        }
      ]
    },
    {
      "cell_type": "markdown",
      "metadata": {
        "id": "EX1okKFfQcNn"
      },
      "source": [
        "## Exploration et feature engineering"
      ]
    },
    {
      "cell_type": "code",
      "metadata": {
        "id": "tr7evwW0QdVy"
      },
      "source": [
        "# Il faudrait faire un test-train-split ici, je crois"
      ],
      "execution_count": null,
      "outputs": []
    },
    {
      "cell_type": "code",
      "metadata": {
        "id": "1Yjhplu3QhBp"
      },
      "source": [
        "# Création de features simples : \n",
        "# - longueur de l'intervention, en nombre de caractères\n",
        "# - nombre de points d'exclamation\n",
        "# - nombre de points d'interrogation\n",
        "df_tidy = df_tidy.assign(\n",
        "    longueur = df_tidy[\"interventions\"].str.len(),\n",
        "    exclamation = df_tidy[\"interventions\"].str.count(\"!\"),\n",
        "    interrogation = df_tidy[\"interventions\"].str.count(\"\\?\")\n",
        "    )"
      ],
      "execution_count": null,
      "outputs": []
    },
    {
      "cell_type": "markdown",
      "metadata": {
        "id": "p0ZAydeEPCVc"
      },
      "source": [
        "## Visualisation des données (wordcloud, statistiques descriptives...)\n",
        "\n",
        "Nous allons maintenant dans cette partie visualiser les tendances dans les différents partis, ainsi que les mots qui sont les plus utilisés. Nous commençons par le wordcloud."
      ]
    },
    {
      "cell_type": "code",
      "metadata": {
        "id": "AhEb0zObPCVd"
      },
      "source": [
        "# Imports\n",
        "\n",
        "from wordcloud import WordCloud, STOPWORDS, ImageColorGenerator\n",
        "import matplotlib.pyplot as plt\n",
        "\n",
        "%matplotlib inline\n",
        "\n",
        "from urllib import request\n",
        "\n",
        "# Création d'un stopwords\n",
        "\n",
        "stopping_list = request.urlopen(\"https://raw.githubusercontent.com/rturquier/depythons/main/stopwords-fr.txt\").read()\n",
        "stopping_list = stopping_list.decode('utf-8')\n",
        "stopwords_list = stopping_list.split('\\n')\n",
        "\n",
        "def wordcloud_gen(dep_name):\n",
        "    name = api.search_parlementaires(dep_name)[0][0]['nom']\n",
        "    text_dep = api.interventions2(name)\n",
        "    \n",
        "    text_cloud = \"\"\n",
        "    for morceau in text_dep:\n",
        "        text_cloud += morceau\n",
        "    \n",
        "    stopwords = set(STOPWORDS)  \n",
        "    stopwords.update(stopwords_list)\n",
        "\n",
        "    try_cloud = WordCloud(stopwords = stopwords,\n",
        "                          max_font_size=50, max_words=150, \n",
        "                          background_color=\"white\").generate(text_cloud)\n",
        "\n",
        "    plt.imshow(try_cloud, interpolation='bilinear')\n",
        "    plt.axis(\"off\")\n",
        "    plt.show()"
      ],
      "execution_count": null,
      "outputs": []
    },
    {
      "cell_type": "markdown",
      "metadata": {
        "id": "esjyOFUXPCVe"
      },
      "source": [
        "Quelques petits essais..."
      ]
    },
    {
      "cell_type": "code",
      "metadata": {
        "id": "OU4eFFXUPCVe",
        "outputId": "ab16e9fe-7214-45f6-e213-407f17829ccd"
      },
      "source": [
        "wordcloud_gen(\"Jean-Luc Mélenchon\"), wordcloud_gen('Eric Ciotti')"
      ],
      "execution_count": null,
      "outputs": [
        {
          "output_type": "display_data",
          "data": {
            "image/png": "[encoded data removed]",
            "text/plain": [
              "<Figure size 432x288 with 1 Axes>"
            ]
          },
          "metadata": {
            "tags": [],
            "needs_background": "light"
          }
        },
        {
          "output_type": "display_data",
          "data": {
            "image/png": "[encoded data removed]",
            "text/plain": [
              "<Figure size 432x288 with 1 Axes>"
            ]
          },
          "metadata": {
            "tags": [],
            "needs_background": "light"
          }
        },
        {
          "output_type": "execute_result",
          "data": {
            "text/plain": [
              "(None, None)"
            ]
          },
          "metadata": {
            "tags": []
          },
          "execution_count": 48
        }
      ]
    },
    {
      "cell_type": "markdown",
      "metadata": {
        "id": "O-RmXt3xPCVf"
      },
      "source": [
        "### Liste de mots customisée\n",
        "\n",
        "Créons dès à présent une fonction qui retourne les mots les plus utilisés par les membres d'un parti. Cette liste de mots va nous servir pour modéliser les champs lexicaux (quel parti a le plus tendance à utiliser tel mot ?). "
      ]
    },
    {
      "cell_type": "code",
      "metadata": {
        "id": "Xkllno7mPCVg"
      },
      "source": [
        "from collections import Counter\n",
        "\n",
        "def give_text(groupe_df):\n",
        "    list_groupe = []\n",
        "    for words in groupe_df['interventions']:\n",
        "        list_groupe.append(words)\n",
        "        \n",
        "    text_groupe = \"\"\n",
        "    \n",
        "    for block in list_groupe:\n",
        "        for carac in block:\n",
        "            text_groupe += carac\n",
        "            \n",
        "    return text_groupe\n",
        "\n",
        "\n",
        "\n",
        "def customized(parti_df, nb_mots=100):\n",
        "    parti_split = give_text(parti_df).split()\n",
        "    parti_pure = [word for word in parti_split if word not in stopwords_list]\n",
        "    parti_counter = Counter(parti_pure)\n",
        "    parti_commons = parti_counter.most_common(nb_mots)\n",
        "    \n",
        "    customized_list = []\n",
        "    for x in parti_commons:\n",
        "        customized_list.append(x[0])\n",
        "    \n",
        "    return customized_list"
      ],
      "execution_count": null,
      "outputs": []
    },
    {
      "cell_type": "markdown",
      "metadata": {
        "id": "Q1jlrJsUPCVh"
      },
      "source": [
        "Utilisons ces fonctions pour créer une liste de mots customisée, qui contient les mots les plus utilisés, partis de gauche et de droite confondus."
      ]
    },
    {
      "cell_type": "code",
      "metadata": {
        "id": "I0lSH6JWPCVh",
        "outputId": "a243f78a-7908-4342-b754-89bfd768da17"
      },
      "source": [
        "super_liste = customized(LFI_df) + customized(LR_df) + customized(SOC_df)\n",
        "super_liste = list(set(super_liste)) # Suppression des doublons\n",
        "super_liste"
      ],
      "execution_count": null,
      "outputs": [
        {
          "output_type": "execute_result",
          "data": {
            "text/plain": [
              "['France',\n",
              " 'Mais',\n",
              " 'demande',\n",
              " 'finances',\n",
              " 'amendement,',\n",
              " 'public',\n",
              " 'besoin',\n",
              " 'nationale',\n",
              " 'mesure',\n",
              " \"l'enseignement\",\n",
              " 'Cette',\n",
              " 'supprimer',\n",
              " 'Or',\n",
              " 'Par',\n",
              " 'Gouvernement',\n",
              " 'crise',\n",
              " \"L'amendement\",\n",
              " 'rapport',\n",
              " 'compte',\n",
              " 'politique',\n",
              " 'Très',\n",
              " 'Dans',\n",
              " 'uniquement',\n",
              " 'On',\n",
              " 'service',\n",
              " 'femmes',\n",
              " 'mesures',\n",
              " \"s'agit\",\n",
              " \"d'autres\",\n",
              " 'milliards',\n",
              " 'prévoit',\n",
              " 'Madame',\n",
              " 'faut',\n",
              " 'Et',\n",
              " 'situation',\n",
              " 'aides',\n",
              " 'matière',\n",
              " 'mois',\n",
              " 'De',\n",
              " 'crédits',\n",
              " 'rapporteur',\n",
              " 'effet,',\n",
              " 'no',\n",
              " 'également',\n",
              " 'soutenir',\n",
              " 'titre',\n",
              " 'sociale',\n",
              " 'madame',\n",
              " \"j'ai\",\n",
              " 'secteur',\n",
              " 'droits',\n",
              " 'M.',\n",
              " \"l'ensemble\",\n",
              " 'proposons',\n",
              " 'cas',\n",
              " 'Ils',\n",
              " 'Mme',\n",
              " 'santé',\n",
              " 'apparentés',\n",
              " 'sanitaire',\n",
              " 'temps',\n",
              " '»,',\n",
              " 'raison',\n",
              " 'territoires',\n",
              " 'ans',\n",
              " 'euros',\n",
              " 'faire',\n",
              " 'groupe',\n",
              " 'projet',\n",
              " 'part',\n",
              " 'que,',\n",
              " 'nombre',\n",
              " \"l'on\",\n",
              " 'vise',\n",
              " 'mission',\n",
              " 'amendement',\n",
              " 'établissements',\n",
              " 'Socialistes',\n",
              " 'texte',\n",
              " 'vidéo)',\n",
              " 'recherche',\n",
              " 'pays',\n",
              " 'prendre',\n",
              " 'supplémentaires',\n",
              " '\"Bénédicte',\n",
              " 'droit',\n",
              " 'cadre',\n",
              " 'mettre',\n",
              " 'propose',\n",
              " \"l'amendement\",\n",
              " 'place',\n",
              " 'Cet',\n",
              " 'police',\n",
              " 'proposition',\n",
              " \"J'ai\",\n",
              " 'budget',\n",
              " 'Ce',\n",
              " 'sécurité',\n",
              " 'Français',\n",
              " 'ministre,',\n",
              " 'débat',\n",
              " 'problème',\n",
              " \"qu'on\",\n",
              " 'Premier',\n",
              " 'secrétaire',\n",
              " 'Comme',\n",
              " 'monde',\n",
              " 'Cela',\n",
              " 'millions',\n",
              " 'économique',\n",
              " \"l'article\",\n",
              " 'Habib',\n",
              " \"qu'elle\",\n",
              " 'loi',\n",
              " 'Ces',\n",
              " \"l'État\",\n",
              " 'amendements',\n",
              " 'heures',\n",
              " 'déjà',\n",
              " 'question',\n",
              " 'Monsieur',\n",
              " 'suppression',\n",
              " 'collectivités',\n",
              " \"d'euros\",\n",
              " \"d'être\",\n",
              " 'création',\n",
              " 'fonds',\n",
              " '(disponible',\n",
              " 'entreprises',\n",
              " \"qu'ils\",\n",
              " 'collègue',\n",
              " 'commission',\n",
              " 'Taurine',\n",
              " 'Si',\n",
              " 'dispositif',\n",
              " 'plan',\n",
              " 'vie',\n",
              " 'Pour',\n",
              " 'moyens',\n",
              " 'monsieur',\n",
              " 'travail',\n",
              " '1',\n",
              " 'ministre',\n",
              " \"n'ont\"]"
            ]
          },
          "metadata": {
            "tags": []
          },
          "execution_count": 57
        }
      ]
    },
    {
      "cell_type": "code",
      "metadata": {
        "id": "xpEE2y5JPCVi"
      },
      "source": [
        ""
      ],
      "execution_count": null,
      "outputs": []
    }
  ]
}