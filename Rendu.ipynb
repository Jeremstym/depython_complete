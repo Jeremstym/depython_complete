{
 "cells": [
  {
   "cell_type": "markdown",
   "metadata": {
    "colab_type": "text",
    "id": "view-in-github"
   },
   "source": [
    "<a href=\"https://colab.research.google.com/github/rturquier/depythons/blob/main/Rendu.ipynb\" target=\"_parent\"><img src=\"https://colab.research.google.com/assets/colab-badge.svg\" alt=\"Open In Colab\"/></a>"
   ]
  },
  {
   "cell_type": "markdown",
   "metadata": {
    "id": "AyDgk7w54dfJ"
   },
   "source": [
    "#### Projet informatique - Python pour le data scientist\n",
    "##### Jérémie Stym-Popper, Luca Teodorescu, Rémi Turquier\n",
    "# Peut-on prédire l'appartenance politique selon le discours des députés ?\n",
    "\n",
    "\n",
    "Ce projet consiste à effectuer du *Natural Language Processing* sur le discours que tiennent les députés parlementaires.\n",
    "\n",
    "L'objectif principal consiste à entraîner un ou plusieurs modèles sur les députés appartenant à des partis étant traditionnellement reconnus de gauche (PS, LFI) et de droite (LR), puis essayer de prédire cette classfication sur le parti LREM qui se situe entre les deux bords. \n",
    "\n",
    "Nous avons prélevé les textes depuis deux sources : une première manière à consister en utilisant les interventions des députés à l'Assemblée (nous avons utiliser l'API venant du site [nosdeputes.fr](https://www.nosdeputes.fr/), puis scrappé les discours d'un député ciblé. Nous avons également scrappé Twitter pour retrouver les tweets des députés et diversifier ainsi nos sources.\n",
    "\n",
    "Dans ce Notebook, nous utilisons à plusieurs reprises des modules que nous avons codés par ailleurs et déposés sur Github. Ces modules utilisent des packages comme **wordcloud**, **unidecode**, **warnings** et **fuzzywuzzy** qu'il faudrait préalablement installer pour pouvoir tout lire."
   ]
  },
  {
   "cell_type": "code",
   "execution_count": null,
   "metadata": {
    "id": "u6CCHVOX7XDx",
    "lines_to_next_cell": 2
   },
   "outputs": [],
   "source": [
    "# Imports\n",
    "from urllib import request\n",
    "\n",
    "import numpy as np\n",
    "import pandas as pd\n",
    "import spacy"
   ]
  },
  {
   "cell_type": "code",
   "execution_count": 57,
   "metadata": {
    "collapsed": true
   },
   "outputs": [],
   "source": [
    "# Si les imports de la cellule suivante ne fonctionnent pas,\n",
    "# on peut exécuter ces lignes :\n",
    "\n",
    "# import sys\n",
    "# directory = r\"path/to/repo\"\n",
    "# sys.path.append(directory)"
   ]
  },
  {
   "cell_type": "code",
   "execution_count": 2,
   "metadata": {
    "collapsed": true
   },
   "outputs": [],
   "source": [
    "from depute_api import CPCApi"
   ]
  },
  {
   "cell_type": "markdown",
   "metadata": {
    "id": "H6wrFWawkgh1"
   },
   "source": [
    "## Récupération des données\n",
    "Les données ont été récupérées par l'intermédiaire de [l'API](https://github.com/regardscitoyens/nosdeputes.fr/blob/master/doc/api.md) mise à disposition par l'association Regards citoyens.\n",
    "\n",
    "Nous avons d'abord utilisé un module nommé depute_api, que nous avons ensuite complété avec deux fonctions :\n",
    "Les fonctions *interventions* et *interventions2* permettent d'entrer le nom d'un député pour obtenir une liste d'interventions (sous forme de liste de str)."
   ]
  },
  {
   "cell_type": "markdown",
   "metadata": {
    "id": "zGU4ALalPCVS"
   },
   "source": [
    "Ensuite, nous avons créé plusieurs DataFrames à l'aide de la fonction interventions 2, avec les fonctions suivantes :"
   ]
  },
  {
   "cell_type": "code",
   "execution_count": 3,
   "metadata": {
    "collapsed": true,
    "id": "eJlvLIZsPCVT"
   },
   "outputs": [],
   "source": [
    "from get_dep_remi import stockintervention"
   ]
  },
  {
   "cell_type": "markdown",
   "metadata": {
    "id": "TwHj_lLqPCVT"
   },
   "source": [
    "Voici un exemple d'utilisation. Pour éviter de perdre du temps ici (la fonction peut mettre du temps à s'exécuter sur les échantillons de grande taille), on exécute la fonction sur un petit parti politique."
   ]
  },
  {
   "cell_type": "code",
   "execution_count": 60,
   "metadata": {
    "id": "hI2VdK4aPCVU",
    "lines_to_next_cell": 2,
    "outputId": "090c474b-ea59-44e4-b677-d10b5c4030c9"
   },
   "outputs": [
    {
     "name": "stdout",
     "output_type": "stream",
     "text": [
      "4\n",
      "76           Yves Jégo\n",
      "80      Franck Riester\n",
      "289      Maurice Leroy\n",
      "515    Napole Polutele\n",
      "Name: nom, dtype: object\n",
      "Yves Jégo\n",
      "Franck Riester\n",
      "Maurice Leroy\n",
      "Napole Polutele\n"
     ]
    },
    {
     "data": {
      "text/html": [
       "<div>\n",
       "<style scoped>\n",
       "    .dataframe tbody tr th:only-of-type {\n",
       "        vertical-align: middle;\n",
       "    }\n",
       "\n",
       "    .dataframe tbody tr th {\n",
       "        vertical-align: top;\n",
       "    }\n",
       "\n",
       "    .dataframe thead th {\n",
       "        text-align: right;\n",
       "    }\n",
       "</style>\n",
       "<table border=\"1\" class=\"dataframe\">\n",
       "  <thead>\n",
       "    <tr style=\"text-align: right;\">\n",
       "      <th></th>\n",
       "      <th>groupe</th>\n",
       "      <th>nom</th>\n",
       "      <th>interventions</th>\n",
       "    </tr>\n",
       "  </thead>\n",
       "  <tbody>\n",
       "    <tr>\n",
       "      <th>0</th>\n",
       "      <td>UAI</td>\n",
       "      <td>Yves Jégo</td>\n",
       "      <td>[Yves Jégo  Prochaine séance, ce soir, à vingt...</td>\n",
       "    </tr>\n",
       "    <tr>\n",
       "      <th>1</th>\n",
       "      <td>UAI</td>\n",
       "      <td>Franck Riester</td>\n",
       "      <td>[ Vous pouvez compter sur le groupe UDI, Agir ...</td>\n",
       "    </tr>\n",
       "    <tr>\n",
       "      <th>2</th>\n",
       "      <td>UAI</td>\n",
       "      <td>Maurice Leroy</td>\n",
       "      <td>[Maurice Leroy  – Nous avons examiné la PPE en...</td>\n",
       "    </tr>\n",
       "    <tr>\n",
       "      <th>3</th>\n",
       "      <td>UAI</td>\n",
       "      <td>Napole Polutele</td>\n",
       "      <td>[ Oui, madame la présidente. ,  Madame la mini...</td>\n",
       "    </tr>\n",
       "  </tbody>\n",
       "</table>\n",
       "</div>"
      ],
      "text/plain": [
       "  groupe              nom                                      interventions\n",
       "0    UAI        Yves Jégo  [Yves Jégo  Prochaine séance, ce soir, à vingt...\n",
       "1    UAI   Franck Riester  [ Vous pouvez compter sur le groupe UDI, Agir ...\n",
       "2    UAI    Maurice Leroy  [Maurice Leroy  – Nous avons examiné la PPE en...\n",
       "3    UAI  Napole Polutele  [ Oui, madame la présidente. ,  Madame la mini..."
      ]
     },
     "execution_count": 60,
     "metadata": {},
     "output_type": "execute_result"
    }
   ],
   "source": [
    "api = CPCApi()\n",
    "deputies_json = api.parlementaires()\n",
    "deputies_df = pd.json_normalize(deputies_json)\n",
    "\n",
    "UAI_df = stockintervention(\"UAI\")\n",
    "UAI_df"
   ]
  },
  {
   "cell_type": "markdown",
   "metadata": {
    "id": "xM3XXd3KlFz0",
    "lines_to_next_cell": 0
   },
   "source": [
    "## Nettoyage des données\n",
    "Après une exploration préliminaire, nous avons choisi de nous concentrer sur trois groupes parlementaires.\n",
    "Nous avons sélectionné les interventions des groupes LFI (La France Insoumise) et SOC (Socialistes) pour la gauche, et le groupe LR (Les Républicains) pour la droite.\n",
    "### Création de la variable cible et mise en forme *tidy*"
   ]
  },
  {
   "cell_type": "code",
   "execution_count": 61,
   "metadata": {
    "id": "im9QOPF57LlX"
   },
   "outputs": [
    {
     "data": {
      "text/html": [
       "<div>\n",
       "<style scoped>\n",
       "    .dataframe tbody tr th:only-of-type {\n",
       "        vertical-align: middle;\n",
       "    }\n",
       "\n",
       "    .dataframe tbody tr th {\n",
       "        vertical-align: top;\n",
       "    }\n",
       "\n",
       "    .dataframe thead th {\n",
       "        text-align: right;\n",
       "    }\n",
       "</style>\n",
       "<table border=\"1\" class=\"dataframe\">\n",
       "  <thead>\n",
       "    <tr style=\"text-align: right;\">\n",
       "      <th></th>\n",
       "      <th>groupe</th>\n",
       "      <th>nom</th>\n",
       "      <th>interventions</th>\n",
       "    </tr>\n",
       "  </thead>\n",
       "  <tbody>\n",
       "    <tr>\n",
       "      <th>108</th>\n",
       "      <td>LR</td>\n",
       "      <td>Fabrice Brun</td>\n",
       "      <td>[\" Je remercie Mme la ministre déléguée de nou...</td>\n",
       "    </tr>\n",
       "    <tr>\n",
       "      <th>90</th>\n",
       "      <td>LR</td>\n",
       "      <td>Vincent Rolland</td>\n",
       "      <td>[' Eh oui ! ', ' Tout à fait ! ', ' Il y en a ...</td>\n",
       "    </tr>\n",
       "    <tr>\n",
       "      <th>13</th>\n",
       "      <td>LFI</td>\n",
       "      <td>Jean-Hugues Ratenon</td>\n",
       "      <td>[\" Monsieur le rapporteur, madame la ministre,...</td>\n",
       "    </tr>\n",
       "    <tr>\n",
       "      <th>120</th>\n",
       "      <td>LR</td>\n",
       "      <td>Jean-Luc Bourgeaux</td>\n",
       "      <td>[\" … alors que cela fait des siècles qu'ils on...</td>\n",
       "    </tr>\n",
       "    <tr>\n",
       "      <th>36</th>\n",
       "      <td>LR</td>\n",
       "      <td>Éric Straumann</td>\n",
       "      <td>[\" Madame la ministre je vous remercie de votr...</td>\n",
       "    </tr>\n",
       "  </tbody>\n",
       "</table>\n",
       "</div>"
      ],
      "text/plain": [
       "    groupe                  nom  \\\n",
       "108     LR         Fabrice Brun   \n",
       "90      LR      Vincent Rolland   \n",
       "13     LFI  Jean-Hugues Ratenon   \n",
       "120     LR   Jean-Luc Bourgeaux   \n",
       "36      LR       Éric Straumann   \n",
       "\n",
       "                                         interventions  \n",
       "108  [\" Je remercie Mme la ministre déléguée de nou...  \n",
       "90   [' Eh oui ! ', ' Tout à fait ! ', ' Il y en a ...  \n",
       "13   [\" Monsieur le rapporteur, madame la ministre,...  \n",
       "120  [\" … alors que cela fait des siècles qu'ils on...  \n",
       "36   [\" Madame la ministre je vous remercie de votr...  "
      ]
     },
     "execution_count": 61,
     "metadata": {},
     "output_type": "execute_result"
    }
   ],
   "source": [
    "### Import des données brutes récupérées avec l'API\n",
    "data_url = (\n",
    "    \"https://raw.githubusercontent.com/rturquier/depythons/main/Stock_csv/gd2_inter.csv\"\n",
    ")\n",
    "df_brut = pd.read_csv(data_url)\n",
    "df_brut.sample(n=5)"
   ]
  },
  {
   "cell_type": "code",
   "execution_count": 62,
   "metadata": {
    "colab": {
     "base_uri": "https://localhost:8080/",
     "height": 204
    },
    "collapsed": true,
    "id": "KhTIgGQn73gU",
    "lines_to_next_cell": 2,
    "outputId": "4ab419d5-647e-44a7-e67d-e2b8ea0d9002"
   },
   "outputs": [],
   "source": [
    "# Création d'une indicatrice `droite` qui sera la cible de la classification\n",
    "df_brut = df_brut.assign(droite=df_brut[\"groupe\"] == \"LR\")"
   ]
  },
  {
   "cell_type": "code",
   "execution_count": 63,
   "metadata": {
    "colab": {
     "base_uri": "https://localhost:8080/",
     "height": 419
    },
    "collapsed": true,
    "id": "O0lFEGtugn2k",
    "outputId": "1514b6d3-6d2c-4796-c7d1-ba2c2e4122b9"
   },
   "outputs": [],
   "source": [
    "# Régler un problème de type\n",
    "from ast import literal_eval\n",
    "\n",
    "\n",
    "def convert_to_list(interventions):\n",
    "    return literal_eval(str(interventions))\n",
    "\n",
    "\n",
    "df_brut[\"interventions\"] = df_brut[\"interventions\"].apply(convert_to_list)"
   ]
  },
  {
   "cell_type": "code",
   "execution_count": 64,
   "metadata": {
    "id": "K0wHQO2L-MBX",
    "lines_to_next_cell": 1
   },
   "outputs": [
    {
     "data": {
      "text/html": [
       "<div>\n",
       "<style scoped>\n",
       "    .dataframe tbody tr th:only-of-type {\n",
       "        vertical-align: middle;\n",
       "    }\n",
       "\n",
       "    .dataframe tbody tr th {\n",
       "        vertical-align: top;\n",
       "    }\n",
       "\n",
       "    .dataframe thead th {\n",
       "        text-align: right;\n",
       "    }\n",
       "</style>\n",
       "<table border=\"1\" class=\"dataframe\">\n",
       "  <thead>\n",
       "    <tr style=\"text-align: right;\">\n",
       "      <th></th>\n",
       "      <th>groupe</th>\n",
       "      <th>nom</th>\n",
       "      <th>interventions</th>\n",
       "      <th>droite</th>\n",
       "    </tr>\n",
       "  </thead>\n",
       "  <tbody>\n",
       "    <tr>\n",
       "      <th>0</th>\n",
       "      <td>LFI</td>\n",
       "      <td>Jean-Luc Mélenchon</td>\n",
       "      <td>Ça c'est très juste ! Et ça méritait d'être d...</td>\n",
       "      <td>False</td>\n",
       "    </tr>\n",
       "    <tr>\n",
       "      <th>0</th>\n",
       "      <td>LFI</td>\n",
       "      <td>Jean-Luc Mélenchon</td>\n",
       "      <td>Vous avez à juste titre fait apercevoir à nos...</td>\n",
       "      <td>False</td>\n",
       "    </tr>\n",
       "    <tr>\n",
       "      <th>0</th>\n",
       "      <td>LFI</td>\n",
       "      <td>Jean-Luc Mélenchon</td>\n",
       "      <td>… – il n'est pas possible de compter sur une ...</td>\n",
       "      <td>False</td>\n",
       "    </tr>\n",
       "    <tr>\n",
       "      <th>0</th>\n",
       "      <td>LFI</td>\n",
       "      <td>Jean-Luc Mélenchon</td>\n",
       "      <td>Je voudrais féliciter notre collègue M'jid El...</td>\n",
       "      <td>False</td>\n",
       "    </tr>\n",
       "    <tr>\n",
       "      <th>0</th>\n",
       "      <td>LFI</td>\n",
       "      <td>Jean-Luc Mélenchon</td>\n",
       "      <td>Très bien !</td>\n",
       "      <td>False</td>\n",
       "    </tr>\n",
       "    <tr>\n",
       "      <th>...</th>\n",
       "      <td>...</td>\n",
       "      <td>...</td>\n",
       "      <td>...</td>\n",
       "      <td>...</td>\n",
       "    </tr>\n",
       "    <tr>\n",
       "      <th>167</th>\n",
       "      <td>SOC</td>\n",
       "      <td>Isabelle Santiago</td>\n",
       "      <td>Il vise également à supprimer l'alinéa 16. Le...</td>\n",
       "      <td>False</td>\n",
       "    </tr>\n",
       "    <tr>\n",
       "      <th>167</th>\n",
       "      <td>SOC</td>\n",
       "      <td>Isabelle Santiago</td>\n",
       "      <td>Monsieur le Premier ministre, conséquence dir...</td>\n",
       "      <td>False</td>\n",
       "    </tr>\n",
       "    <tr>\n",
       "      <th>167</th>\n",
       "      <td>SOC</td>\n",
       "      <td>Isabelle Santiago</td>\n",
       "      <td>Le présent amendement propose de supprimer l'...</td>\n",
       "      <td>False</td>\n",
       "    </tr>\n",
       "    <tr>\n",
       "      <th>167</th>\n",
       "      <td>SOC</td>\n",
       "      <td>Isabelle Santiago</td>\n",
       "      <td>Il vise à instaurer un prélèvement sur les re...</td>\n",
       "      <td>False</td>\n",
       "    </tr>\n",
       "    <tr>\n",
       "      <th>167</th>\n",
       "      <td>SOC</td>\n",
       "      <td>Isabelle Santiago</td>\n",
       "      <td>Monsieur le Premier ministre, dimanche dernie...</td>\n",
       "      <td>False</td>\n",
       "    </tr>\n",
       "  </tbody>\n",
       "</table>\n",
       "<p>7687 rows × 4 columns</p>\n",
       "</div>"
      ],
      "text/plain": [
       "    groupe                 nom  \\\n",
       "0      LFI  Jean-Luc Mélenchon   \n",
       "0      LFI  Jean-Luc Mélenchon   \n",
       "0      LFI  Jean-Luc Mélenchon   \n",
       "0      LFI  Jean-Luc Mélenchon   \n",
       "0      LFI  Jean-Luc Mélenchon   \n",
       "..     ...                 ...   \n",
       "167    SOC   Isabelle Santiago   \n",
       "167    SOC   Isabelle Santiago   \n",
       "167    SOC   Isabelle Santiago   \n",
       "167    SOC   Isabelle Santiago   \n",
       "167    SOC   Isabelle Santiago   \n",
       "\n",
       "                                         interventions  droite  \n",
       "0     Ça c'est très juste ! Et ça méritait d'être d...   False  \n",
       "0     Vous avez à juste titre fait apercevoir à nos...   False  \n",
       "0     … – il n'est pas possible de compter sur une ...   False  \n",
       "0     Je voudrais féliciter notre collègue M'jid El...   False  \n",
       "0                                         Très bien !    False  \n",
       "..                                                 ...     ...  \n",
       "167   Il vise également à supprimer l'alinéa 16. Le...   False  \n",
       "167   Monsieur le Premier ministre, conséquence dir...   False  \n",
       "167   Le présent amendement propose de supprimer l'...   False  \n",
       "167   Il vise à instaurer un prélèvement sur les re...   False  \n",
       "167   Monsieur le Premier ministre, dimanche dernie...   False  \n",
       "\n",
       "[7687 rows x 4 columns]"
      ]
     },
     "execution_count": 64,
     "metadata": {},
     "output_type": "execute_result"
    }
   ],
   "source": [
    "# Séparer toutes les interventions en colonnes différentes\n",
    "df_tidy = df_brut.explode(\"interventions\")\n",
    "df_tidy"
   ]
  },
  {
   "cell_type": "code",
   "execution_count": 65,
   "metadata": {
    "lines_to_next_cell": 2
   },
   "outputs": [
    {
     "data": {
      "text/plain": [
       "(2454, 2454)"
      ]
     },
     "execution_count": 65,
     "metadata": {},
     "output_type": "execute_result"
    }
   ],
   "source": [
    "# -- Équilibrage du nombre de d'interventions --\n",
    "# Nous nous sommes posé la question de l'équilibrage des données.\n",
    "# Après avoir envisagé plusieurs méthodes, nous avons choisi d'équilibrer les\n",
    "# donées à la main. Ce n'est pas forcément la meilleure méthode, mais c'est\n",
    "# sans doute la plus simple.\n",
    "def n_droite_n_gauche(df):\n",
    "    count = df.droite.value_counts()\n",
    "    return count[True], count[False]\n",
    "\n",
    "\n",
    "def balance_left_right(df):\n",
    "    n_droite, n_gauche = n_droite_n_gauche(df)\n",
    "    df = df.sort_values(by=[\"droite\"], ascending=False)\n",
    "\n",
    "    if n_droite > n_gauche:\n",
    "        df = df[n_droite - n_gauche :]\n",
    "    elif n_droite < n_gauche:\n",
    "        df = df[2 * n_droite :]\n",
    "\n",
    "    return df\n",
    "\n",
    "\n",
    "df_tidy = balance_left_right(df_tidy)\n",
    "n_droite_n_gauche(df_tidy)"
   ]
  },
  {
   "cell_type": "markdown",
   "metadata": {},
   "source": [
    "Le nombre d'interventions est bien équilibré.\n",
    "\n",
    "### Longueur des interventions et regroupement par groupes de 5 interventions"
   ]
  },
  {
   "cell_type": "code",
   "execution_count": 66,
   "metadata": {
    "collapsed": true
   },
   "outputs": [],
   "source": [
    "# Création d'une variable qui contient la longueur des interventions\n",
    "df_tidy = df_tidy.assign(longueur=df_tidy[\"interventions\"].str.len())"
   ]
  },
  {
   "cell_type": "code",
   "execution_count": 67,
   "metadata": {
    "collapsed": true,
    "lines_to_next_cell": 2
   },
   "outputs": [],
   "source": [
    "# Regroupement par groupes de 5 interventions\n",
    "# Pour cela, on crée une variable `numero_paquet_de_5` qui prend la même valeur\n",
    "# pour 5 députés du même bord.\n",
    "n_droite, n_gauche = n_droite_n_gauche(df_tidy)\n",
    "\n",
    "df_tidy = df_tidy.sort_values(by=[\"droite\"], ascending=False)\n",
    "df_tidy[\"numero_paquet_de_5\"] = list(range(n_droite)) + list(range(n_gauche))\n",
    "df_tidy[\"numero_paquet_de_5\"] = np.floor(df_tidy[\"numero_paquet_de_5\"] / 5)\n",
    "df_tidy[\"numero_paquet_de_5\"] = df_tidy[\"numero_paquet_de_5\"].astype(int)"
   ]
  },
  {
   "cell_type": "code",
   "execution_count": 68,
   "metadata": {
    "collapsed": true
   },
   "outputs": [],
   "source": [
    "# Grouper par bord politique et par numéro de paquet de 5, puis aggréger\n",
    "df_collapsed = (\n",
    "    df_tidy.drop(columns=[\"groupe\", \"nom\"])\n",
    "    .groupby([\"droite\", \"numero_paquet_de_5\"])\n",
    "    .agg({\"interventions\": \"\".join, \"longueur\": [\"min\", \"max\", \"mean\"]})\n",
    "    .reset_index()\n",
    ")\n",
    "\n",
    "# Arranger le nom des colonnes\n",
    "df_collapsed.columns = [\n",
    "    \"_\".join(col).rstrip(\"_\") for col in df_collapsed.columns.values\n",
    "]\n",
    "\n",
    "df_collapsed = df_collapsed.drop(columns=\"numero_paquet_de_5\").rename(\n",
    "    columns={\"interventions_join\": \"interventions\"}\n",
    ")\n",
    "\n",
    "df_collapsed"
   ]
  },
  {
   "cell_type": "markdown",
   "metadata": {},
   "source": [
    "Il reste à traiter le texte. On applique les transformations vues dans le dernier TD : mettre en minuscule, séparer tous les mots (tokenisation), supprimer les mots courants (stopwords), et ramener à la racine grammticale (lemmatisation)."
   ]
  },
  {
   "cell_type": "code",
   "execution_count": null,
   "metadata": {},
   "outputs": [],
   "source": [
    "# Mise en minuscules\n",
    "df_spacy = df_collapsed.assign(interventions=df_collapsed.interventions.str.lower())"
   ]
  },
  {
   "cell_type": "code",
   "execution_count": null,
   "metadata": {},
   "outputs": [],
   "source": [
    "# Tokenisation\n",
    "# Commande pour télécharger les données pour la version française de spaCy :\n",
    "# python -m spacy download fr_core_news_sm\n",
    "sp = spacy.load(\"fr_core_news_sm\")\n",
    "df_spacy[\"interventions\"] = df_spacy.interventions.apply(lambda x: sp(x))"
   ]
  },
  {
   "cell_type": "code",
   "execution_count": null,
   "metadata": {
    "lines_to_next_cell": 0
   },
   "outputs": [],
   "source": [
    "# Lemmatisation\n",
    "df_spacy[\"interventions\"] = df_spacy.interventions.apply(\n",
    "    lambda tokens: [token.lemma_ for token in tokens]\n",
    ")\n",
    "df_zipf = df_spacy.copy()"
   ]
  },
  {
   "cell_type": "code",
   "execution_count": null,
   "metadata": {},
   "outputs": [],
   "source": [
    "# Stopwords\n",
    "stop_words = sp.Defaults.stop_words | {\"'\", \",\", \";\", \":\", \" \", \"\", \".\"}\n",
    "\n",
    "df_spacy[\"interventions\"] = df_spacy.interventions.apply(\n",
    "    lambda words: [word for word in words if not word in stop_words]\n",
    ")"
   ]
  },
  {
   "cell_type": "code",
   "execution_count": 69,
   "metadata": {
    "lines_to_next_cell": 0
   },
   "outputs": [
    {
     "ename": "OSError",
     "evalue": "[E050] Can't find model 'fr'. It doesn't seem to be a shortcut link, a Python package or a valid path to a data directory.",
     "output_type": "error",
     "traceback": [
      "\u001b[1;31m---------------------------------------------------------------------------\u001b[0m",
      "\u001b[1;31mOSError\u001b[0m                                   Traceback (most recent call last)",
      "\u001b[1;32m<ipython-input-69-86023e80d16a>\u001b[0m in \u001b[0;36m<module>\u001b[1;34m\u001b[0m\n\u001b[0;32m      3\u001b[0m \u001b[1;33m\u001b[0m\u001b[0m\n\u001b[0;32m      4\u001b[0m \u001b[1;31m# Tokenisation\u001b[0m\u001b[1;33m\u001b[0m\u001b[1;33m\u001b[0m\u001b[1;33m\u001b[0m\u001b[0m\n\u001b[1;32m----> 5\u001b[1;33m \u001b[0msp\u001b[0m \u001b[1;33m=\u001b[0m \u001b[0mspacy\u001b[0m\u001b[1;33m.\u001b[0m\u001b[0mload\u001b[0m\u001b[1;33m(\u001b[0m\u001b[1;34m\"fr\"\u001b[0m\u001b[1;33m)\u001b[0m\u001b[1;33m\u001b[0m\u001b[1;33m\u001b[0m\u001b[0m\n\u001b[0m\u001b[0;32m      6\u001b[0m \u001b[0mdf_spacy\u001b[0m\u001b[1;33m[\u001b[0m\u001b[1;34m\"interventions\"\u001b[0m\u001b[1;33m]\u001b[0m \u001b[1;33m=\u001b[0m \u001b[0mdf_spacy\u001b[0m\u001b[1;33m.\u001b[0m\u001b[0minterventions\u001b[0m\u001b[1;33m.\u001b[0m\u001b[0mapply\u001b[0m\u001b[1;33m(\u001b[0m\u001b[1;32mlambda\u001b[0m \u001b[0mx\u001b[0m\u001b[1;33m:\u001b[0m \u001b[0msp\u001b[0m\u001b[1;33m(\u001b[0m\u001b[0mx\u001b[0m\u001b[1;33m)\u001b[0m\u001b[1;33m)\u001b[0m\u001b[1;33m\u001b[0m\u001b[1;33m\u001b[0m\u001b[0m\n\u001b[0;32m      7\u001b[0m \u001b[1;33m\u001b[0m\u001b[0m\n",
      "\u001b[1;32m~\\anaconda3\\lib\\site-packages\\spacy\\__init__.py\u001b[0m in \u001b[0;36mload\u001b[1;34m(name, **overrides)\u001b[0m\n\u001b[0;32m     28\u001b[0m     \u001b[1;32mif\u001b[0m \u001b[0mdepr_path\u001b[0m \u001b[1;32mnot\u001b[0m \u001b[1;32min\u001b[0m \u001b[1;33m(\u001b[0m\u001b[1;32mTrue\u001b[0m\u001b[1;33m,\u001b[0m \u001b[1;32mFalse\u001b[0m\u001b[1;33m,\u001b[0m \u001b[1;32mNone\u001b[0m\u001b[1;33m)\u001b[0m\u001b[1;33m:\u001b[0m\u001b[1;33m\u001b[0m\u001b[1;33m\u001b[0m\u001b[0m\n\u001b[0;32m     29\u001b[0m         \u001b[0mwarnings\u001b[0m\u001b[1;33m.\u001b[0m\u001b[0mwarn\u001b[0m\u001b[1;33m(\u001b[0m\u001b[0mWarnings\u001b[0m\u001b[1;33m.\u001b[0m\u001b[0mW001\u001b[0m\u001b[1;33m.\u001b[0m\u001b[0mformat\u001b[0m\u001b[1;33m(\u001b[0m\u001b[0mpath\u001b[0m\u001b[1;33m=\u001b[0m\u001b[0mdepr_path\u001b[0m\u001b[1;33m)\u001b[0m\u001b[1;33m,\u001b[0m \u001b[0mDeprecationWarning\u001b[0m\u001b[1;33m)\u001b[0m\u001b[1;33m\u001b[0m\u001b[1;33m\u001b[0m\u001b[0m\n\u001b[1;32m---> 30\u001b[1;33m     \u001b[1;32mreturn\u001b[0m \u001b[0mutil\u001b[0m\u001b[1;33m.\u001b[0m\u001b[0mload_model\u001b[0m\u001b[1;33m(\u001b[0m\u001b[0mname\u001b[0m\u001b[1;33m,\u001b[0m \u001b[1;33m**\u001b[0m\u001b[0moverrides\u001b[0m\u001b[1;33m)\u001b[0m\u001b[1;33m\u001b[0m\u001b[1;33m\u001b[0m\u001b[0m\n\u001b[0m\u001b[0;32m     31\u001b[0m \u001b[1;33m\u001b[0m\u001b[0m\n\u001b[0;32m     32\u001b[0m \u001b[1;33m\u001b[0m\u001b[0m\n",
      "\u001b[1;32m~\\anaconda3\\lib\\site-packages\\spacy\\util.py\u001b[0m in \u001b[0;36mload_model\u001b[1;34m(name, **overrides)\u001b[0m\n\u001b[0;32m    173\u001b[0m     \u001b[1;32melif\u001b[0m \u001b[0mhasattr\u001b[0m\u001b[1;33m(\u001b[0m\u001b[0mname\u001b[0m\u001b[1;33m,\u001b[0m \u001b[1;34m\"exists\"\u001b[0m\u001b[1;33m)\u001b[0m\u001b[1;33m:\u001b[0m  \u001b[1;31m# Path or Path-like to model data\u001b[0m\u001b[1;33m\u001b[0m\u001b[1;33m\u001b[0m\u001b[0m\n\u001b[0;32m    174\u001b[0m         \u001b[1;32mreturn\u001b[0m \u001b[0mload_model_from_path\u001b[0m\u001b[1;33m(\u001b[0m\u001b[0mname\u001b[0m\u001b[1;33m,\u001b[0m \u001b[1;33m**\u001b[0m\u001b[0moverrides\u001b[0m\u001b[1;33m)\u001b[0m\u001b[1;33m\u001b[0m\u001b[1;33m\u001b[0m\u001b[0m\n\u001b[1;32m--> 175\u001b[1;33m     \u001b[1;32mraise\u001b[0m \u001b[0mIOError\u001b[0m\u001b[1;33m(\u001b[0m\u001b[0mErrors\u001b[0m\u001b[1;33m.\u001b[0m\u001b[0mE050\u001b[0m\u001b[1;33m.\u001b[0m\u001b[0mformat\u001b[0m\u001b[1;33m(\u001b[0m\u001b[0mname\u001b[0m\u001b[1;33m=\u001b[0m\u001b[0mname\u001b[0m\u001b[1;33m)\u001b[0m\u001b[1;33m)\u001b[0m\u001b[1;33m\u001b[0m\u001b[1;33m\u001b[0m\u001b[0m\n\u001b[0m\u001b[0;32m    176\u001b[0m \u001b[1;33m\u001b[0m\u001b[0m\n\u001b[0;32m    177\u001b[0m \u001b[1;33m\u001b[0m\u001b[0m\n",
      "\u001b[1;31mOSError\u001b[0m: [E050] Can't find model 'fr'. It doesn't seem to be a shortcut link, a Python package or a valid path to a data directory."
     ]
    }
   ],
   "source": [
    "# Résultat\n",
    "print(\n",
    "    str(df_collapsed.interventions[42]) + \"\\n ---> \\n\" + str(df_spacy.interventions[42])\n",
    ")"
   ]
  },
  {
   "cell_type": "markdown",
   "metadata": {},
   "source": [
    "On essaye desormais de faire une analyse des fréquences des mots selon le catégorie droite/gauche et vérifier une potentielle loi de Zipf\n",
    "Dans un premier temps sans enlever les stopwords\n",
    "df_spacy\n",
    "df_zipf\n",
    "import collections\n",
    "import re\n",
    "import matplotlib.pyplot as plt"
   ]
  },
  {
   "cell_type": "code",
   "execution_count": null,
   "metadata": {
    "lines_to_next_cell": 0
   },
   "outputs": [],
   "source": [
    "# On sépare en deux dataframe une pour chaque catégorie et on fait de même avec la dataframe spacy travaillée juste avant\n",
    "df_zipf_droite = df_zipf[df_collapsed[\"droite\"]]\n",
    "df_zipf_gauche = df_zipf[df_collapsed[\"droite\"] != True]\n",
    "df_spacy_droite = df_spacy[df_collapsed[\"droite\"]]\n",
    "df_spacy_gauche = df_spacy[df_collapsed[\"droite\"] != True]"
   ]
  },
  {
   "cell_type": "code",
   "execution_count": null,
   "metadata": {},
   "outputs": [],
   "source": [
    "# Dictionnaries de wordcount\n",
    "wordcount_droite = collections.defaultdict(int)\n",
    "wordcount_gauche = collections.defaultdict(int)\n",
    "for inters in df_zipf_droite[\"interventions\"]:\n",
    "    for word in inters:\n",
    "        wordcount_droite[word] += 1\n",
    "for inters in df_zipf_gauche[\"interventions\"]:\n",
    "    for word in inters:\n",
    "        wordcount_gauche[word] += 1"
   ]
  },
  {
   "cell_type": "code",
   "execution_count": null,
   "metadata": {
    "lines_to_next_cell": 0
   },
   "outputs": [],
   "source": [
    "# On va afficher les 20 mots les plus populaires pour la gauche et la droite en comptant les stopwords\n",
    "fig, axs = plt.subplots(2, 1, figsize=(15, 10))\n",
    "fig.suptitle(\"Fréquences d'utilisation des mots dans les allocutions pour chaque bords politiques\")\n",
    "mcg = sorted(wordcount_gauche.items(), key=lambda k_v: k_v[1], reverse=True)[:20]\n",
    "mcg = dict(mcg)\n",
    "namesg = list(mcg.keys())\n",
    "valuesg = list(mcg.values())\n",
    "axs[0].bar(range(len(mcg)),valuesg,tick_label=namesg, color='red')\n",
    "axs[0].set_title('Pour la gauche')\n",
    "mcd = sorted(wordcount_droite.items(), key=lambda k_v: k_v[1], reverse=True)[:20]\n",
    "mcd = dict(mcd)\n",
    "namesd = list(mcd.keys())\n",
    "valuesd = list(mcd.values())\n",
    "axs[1].bar(range(len(mcd)),valuesd,tick_label=namesd, color='blue')\n",
    "axs[1].set_title('Pour la droite :')"
   ]
  },
  {
   "cell_type": "code",
   "execution_count": null,
   "metadata": {},
   "outputs": [],
   "source": [
    "# On va maintenant voir sans les stopwords\n",
    "wordcount_droite = collections.defaultdict(int)\n",
    "wordcount_gauche = collections.defaultdict(int)\n",
    "for inters in df_spacy_droite[\"interventions\"]:\n",
    "    for word in inters:\n",
    "        word = re.sub(r\"\\W\", \"\", word)\n",
    "        if word not in stop_words:\n",
    "            wordcount_droite[word] += 1\n",
    "for inters in df_spacy_gauche[\"interventions\"]:\n",
    "    for word in inters:\n",
    "        word = re.sub(r\"\\W\", \"\", word)\n",
    "        if word not in stop_words:\n",
    "            wordcount_gauche[word] += 1"
   ]
  },
  {
   "cell_type": "code",
   "execution_count": null,
   "metadata": {},
   "outputs": [],
   "source": [
    "# On va afficher les 10 mots les plus populaires pour la gauche et la droite\n",
    "fig, axs = plt.subplots(2, 1, figsize=(20, 10))\n",
    "fig.suptitle(\"Fréquences d'utilisation des mots dans les allocutions pour chaque bords politiques sans stopwords,\")\n",
    "mcg = sorted(wordcount_gauche.items(), key=lambda k_v: k_v[1], reverse=True)[:20]\n",
    "mcg = dict(mcg)\n",
    "namesg = list(mcg.keys())\n",
    "valuesg = list(mcg.values())\n",
    "axs[0].bar(range(len(mcg)),valuesg,tick_label=namesg, color='red')\n",
    "axs[0].set_title('Pour la gauche')\n",
    "mcd = sorted(wordcount_droite.items(), key=lambda k_v: k_v[1], reverse=True)[:20]\n",
    "mcd = dict(mcd)\n",
    "namesd = list(mcd.keys())\n",
    "valuesd = list(mcd.values())\n",
    "axs[1].bar(range(len(mcd)),valuesd,tick_label=namesd, color='blue')\n",
    "axs[1].set_title('Pour la droite :')"
   ]
  },
  {
   "cell_type": "markdown",
   "metadata": {
    "lines_to_next_cell": 2
   },
   "source": [
    "Maintenant que le traitement préparatoire des données est terminé, nous\n",
    "pouvons passer aux parties exploration et modélisation. Pour éviter toute\n",
    "fuite d'information des données de test vers les données d'entrainement,\n",
    "nous faisons dès maintenant la séparation. Nous avons retenu la proportion\n",
    "*train* / *test* usuelle de 80% / 20%.\n"
   ]
  },
  {
   "cell_type": "code",
   "execution_count": null,
   "metadata": {},
   "outputs": [],
   "source": [
    "from sklearn.model_selection import train_test_split\n",
    "\n",
    "X = df_spacy.drop(\"droite\", axis=1)\n",
    "y = df_spacy[\"droite\"]\n",
    "\n",
    "# L'argument `random_state` permet d'obtenir des résultats reproductibles.\n",
    "split_list = train_test_split(\n",
    "     X, y, test_size=0.2, random_state=42\n",
    ")\n",
    "\n",
    "# Réindexer maintenant pour éviter des soucis au moment du tf-idf\n",
    "X_train, X_test, y_train, y_test = [\n",
    "    df.reset_index().drop(columns = [\"index\"]) for df in split_list\n",
    "]"
   ]
  },
  {
   "cell_type": "markdown",
   "metadata": {
    "id": "p0ZAydeEPCVc"
   },
   "source": [
    "## Analyse descriptive des données\n",
    "\n",
    "Nous allons maintenant dans cette partie visualiser les tendances dans les différents partis, ainsi que les mots qui sont les plus utilisés. Nous commençons par le wordcloud.\n",
    "Avant toutes choses, nous importons et complétons un texte de stopwords pour retirer tous les mots impertinents de la visualisation, et de la modélisation à suivre."
   ]
  },
  {
   "cell_type": "code",
   "execution_count": 70,
   "metadata": {
    "collapsed": true
   },
   "outputs": [],
   "source": [
    "# Création d'un stopwords\n",
    "\n",
    "stopping_list = request.urlopen(\n",
    "    \"https://raw.githubusercontent.com/rturquier/depythons/main/stopwords-fr.txt\"\n",
    ").read()\n",
    "stopping_list = stopping_list.decode(\"utf-8\")\n",
    "stopwords_list = stopping_list.split(\"\\n\")"
   ]
  },
  {
   "cell_type": "code",
   "execution_count": 71,
   "metadata": {
    "collapsed": true,
    "id": "AhEb0zObPCVd"
   },
   "outputs": [],
   "source": [
    "from wordcloud_depython import wordcloud_gen"
   ]
  },
  {
   "cell_type": "markdown",
   "metadata": {
    "id": "esjyOFUXPCVe"
   },
   "source": [
    "Quelques petits essais..."
   ]
  },
  {
   "cell_type": "code",
   "execution_count": 72,
   "metadata": {
    "id": "OU4eFFXUPCVe",
    "outputId": "ab16e9fe-7214-45f6-e213-407f17829ccd"
   },
   "outputs": [
    {
     "data": {
      "image/png": "[encoded data removed]",
      "text/plain": [
       "<Figure size 432x288 with 1 Axes>"
      ]
     },
     "metadata": {
      "needs_background": "light"
     },
     "output_type": "display_data"
    },
    {
     "data": {
      "image/png": "[encoded data removed]",
      "text/plain": [
       "<Figure size 432x288 with 1 Axes>"
      ]
     },
     "metadata": {
      "needs_background": "light"
     },
     "output_type": "display_data"
    },
    {
     "data": {
      "text/plain": [
       "(None, None)"
      ]
     },
     "execution_count": 72,
     "metadata": {},
     "output_type": "execute_result"
    }
   ],
   "source": [
    "wordcloud_gen(\"Jean-Luc Mélenchon\"), wordcloud_gen(\"Eric Ciotti\")"
   ]
  },
  {
   "cell_type": "markdown",
   "metadata": {
    "id": "O-RmXt3xPCVf"
   },
   "source": [
    "### Liste de mots customisée\n",
    "\n",
    "Nous avons créé deux fonction qui permettent de retourner les mots les plus utilisés par les membres d'un parti. Cette liste de mots va nous servir pour modéliser les champs lexicaux (quel parti a le plus tendance à utiliser tel mot ?). Nous créons cette liste de 144 mots sous le nom de *super_liste*."
   ]
  },
  {
   "cell_type": "code",
   "execution_count": 73,
   "metadata": {
    "collapsed": true
   },
   "outputs": [],
   "source": [
    "from custom_words import super_liste"
   ]
  },
  {
   "cell_type": "markdown",
   "metadata": {
    "collapsed": true,
    "id": "I0lSH6JWPCVh",
    "lines_to_next_cell": 2,
    "outputId": "a243f78a-7908-4342-b754-89bfd768da17"
   },
   "source": [
    "# Modéslisation\n"
   ]
  },
  {
   "cell_type": "markdown",
   "metadata": {},
   "source": [
    "#### Deuxième étape\n",
    "\n",
    "Nous allons maintenant créer les matrices **Tf-Idf** qui vont nous servir pour les modèles."
   ]
  },
  {
   "cell_type": "code",
   "execution_count": 75,
   "metadata": {
    "collapsed": true
   },
   "outputs": [],
   "source": [
    "# Voici tous les imports qui sont nécessaires pour cette partie et la suite\n",
    "\n",
    "import collections\n",
    "\n",
    "from sklearn.pipeline import make_pipeline\n",
    "from sklearn.feature_extraction.text import CountVectorizer\n",
    "from sklearn.feature_extraction.text import TfidfTransformer\n",
    "from sklearn.feature_extraction.text import TfidfVectorizer\n",
    "from sklearn.model_selection import GridSearchCV\n",
    "from sklearn.preprocessing import StandardScaler\n",
    "\n",
    "from sklearn.model_selection import train_test_split\n",
    "from sklearn.ensemble import RandomForestClassifier\n",
    "from sklearn.svm import SVC\n",
    "from sklearn.metrics import classification_report\n",
    "\n",
    "LREM_df = pd.read_csv(\n",
    "    \"https://raw.githubusercontent.com/rturquier/depythons/main/Stock_csv/LREM2_inter.csv\"\n",
    ")\n",
    "\n"
   ]
  },
  {
   "cell_type": "markdown",
   "metadata": {},
   "source": [
    "**Définition du Tfidf**\n",
    "Tfidf est une manière de transformer un corpus de texte en features. Chaque\n",
    "mot a d'autant plus de poids qu'il est relativement fréquent dans un paquet\n",
    "de 5 interventions par rapport aux autres paquet. Par exemple, un mot qui\n",
    "apparait souvent, mais dans uniformément n'a pas beaucoup d'importance.\n",
    "\n",
    "Comme la partie IDF (*Inverse Document Frequence*) utilise de l'information\n",
    "de tout le corpus, il était important de séparer les données d'entrainement\n",
    "des données de test avant d'appliquer tf-idf, dans cette [question StackOverflow](https://stackoverflow.com/questions/47778403/computing-tf-idf-on-the-whole-dataset-or-only-on-training-data).\n",
    "\n",
    "Nous nous sommes rendu compte qu'utiliser *tous* les mots des interventions\n",
    "(hormis les *stopwords*) conduisait à un sur-apprentissage. Cela est du au\n",
    "fait que nous avons un nombre de données inférieur au nombre potentiel de\n",
    "features créées par tf-idf.\n",
    "\n",
    "Nous avons testé deux façons de limiter le nombre de features :\n",
    "1. créer une liste de mots limitée à la main, et utiliser l'argument `vocabulary` de `TfidfVectorizer`\n",
    "2. utiliser le paramètre `max_features`\n",
    "\n",
    "Le code qui a servi à la première approche se trouve dans le fichier\n",
    "`custom_words.py`. Nous avons finalement retenu la seconde approche, qui\n",
    "tire meilleur parti des outils de NLP.\n"
   ]
  },
  {
   "cell_type": "code",
   "execution_count": 76,
   "metadata": {
    "lines_to_next_cell": 2
   },
   "outputs": [
    {
     "data": {
      "text/html": [
       "<div>\n",
       "<style scoped>\n",
       "    .dataframe tbody tr th:only-of-type {\n",
       "        vertical-align: middle;\n",
       "    }\n",
       "\n",
       "    .dataframe tbody tr th {\n",
       "        vertical-align: top;\n",
       "    }\n",
       "\n",
       "    .dataframe thead th {\n",
       "        text-align: right;\n",
       "    }\n",
       "</style>\n",
       "<table border=\"1\" class=\"dataframe\">\n",
       "  <thead>\n",
       "    <tr style=\"text-align: right;\">\n",
       "      <th></th>\n",
       "      <th>droite</th>\n",
       "      <th>0</th>\n",
       "      <th>1</th>\n",
       "      <th>2</th>\n",
       "      <th>3</th>\n",
       "      <th>4</th>\n",
       "      <th>5</th>\n",
       "      <th>6</th>\n",
       "      <th>7</th>\n",
       "      <th>8</th>\n",
       "      <th>...</th>\n",
       "      <th>134</th>\n",
       "      <th>135</th>\n",
       "      <th>136</th>\n",
       "      <th>137</th>\n",
       "      <th>138</th>\n",
       "      <th>139</th>\n",
       "      <th>140</th>\n",
       "      <th>141</th>\n",
       "      <th>142</th>\n",
       "      <th>143</th>\n",
       "    </tr>\n",
       "  </thead>\n",
       "  <tbody>\n",
       "    <tr>\n",
       "      <th>0</th>\n",
       "      <td>True</td>\n",
       "      <td>0.0</td>\n",
       "      <td>0.000000</td>\n",
       "      <td>0.069537</td>\n",
       "      <td>0.0</td>\n",
       "      <td>0.079838</td>\n",
       "      <td>0.0</td>\n",
       "      <td>0.063163</td>\n",
       "      <td>0.067312</td>\n",
       "      <td>0.0</td>\n",
       "      <td>...</td>\n",
       "      <td>0.000000</td>\n",
       "      <td>0.0</td>\n",
       "      <td>0.094380</td>\n",
       "      <td>0.000000</td>\n",
       "      <td>0.0</td>\n",
       "      <td>0.0</td>\n",
       "      <td>0.031781</td>\n",
       "      <td>0.0</td>\n",
       "      <td>0.000000</td>\n",
       "      <td>0.0</td>\n",
       "    </tr>\n",
       "    <tr>\n",
       "      <th>1</th>\n",
       "      <td>True</td>\n",
       "      <td>0.0</td>\n",
       "      <td>0.385405</td>\n",
       "      <td>0.000000</td>\n",
       "      <td>0.0</td>\n",
       "      <td>0.000000</td>\n",
       "      <td>0.0</td>\n",
       "      <td>0.000000</td>\n",
       "      <td>0.065555</td>\n",
       "      <td>0.0</td>\n",
       "      <td>...</td>\n",
       "      <td>0.000000</td>\n",
       "      <td>0.0</td>\n",
       "      <td>0.000000</td>\n",
       "      <td>0.000000</td>\n",
       "      <td>0.0</td>\n",
       "      <td>0.0</td>\n",
       "      <td>0.061902</td>\n",
       "      <td>0.0</td>\n",
       "      <td>0.000000</td>\n",
       "      <td>0.0</td>\n",
       "    </tr>\n",
       "    <tr>\n",
       "      <th>2</th>\n",
       "      <td>True</td>\n",
       "      <td>0.0</td>\n",
       "      <td>0.035049</td>\n",
       "      <td>0.000000</td>\n",
       "      <td>0.0</td>\n",
       "      <td>0.023570</td>\n",
       "      <td>0.0</td>\n",
       "      <td>0.111883</td>\n",
       "      <td>0.029808</td>\n",
       "      <td>0.0</td>\n",
       "      <td>...</td>\n",
       "      <td>0.000000</td>\n",
       "      <td>0.0</td>\n",
       "      <td>0.000000</td>\n",
       "      <td>0.292737</td>\n",
       "      <td>0.0</td>\n",
       "      <td>0.0</td>\n",
       "      <td>0.028147</td>\n",
       "      <td>0.0</td>\n",
       "      <td>0.000000</td>\n",
       "      <td>0.0</td>\n",
       "    </tr>\n",
       "    <tr>\n",
       "      <th>3</th>\n",
       "      <td>True</td>\n",
       "      <td>0.0</td>\n",
       "      <td>0.000000</td>\n",
       "      <td>0.115703</td>\n",
       "      <td>0.0</td>\n",
       "      <td>0.088561</td>\n",
       "      <td>0.0</td>\n",
       "      <td>0.035033</td>\n",
       "      <td>0.074667</td>\n",
       "      <td>0.0</td>\n",
       "      <td>...</td>\n",
       "      <td>0.079731</td>\n",
       "      <td>0.0</td>\n",
       "      <td>0.000000</td>\n",
       "      <td>0.000000</td>\n",
       "      <td>0.0</td>\n",
       "      <td>0.0</td>\n",
       "      <td>0.000000</td>\n",
       "      <td>0.0</td>\n",
       "      <td>0.243489</td>\n",
       "      <td>0.0</td>\n",
       "    </tr>\n",
       "    <tr>\n",
       "      <th>4</th>\n",
       "      <td>True</td>\n",
       "      <td>0.0</td>\n",
       "      <td>0.000000</td>\n",
       "      <td>0.071175</td>\n",
       "      <td>0.0</td>\n",
       "      <td>0.217915</td>\n",
       "      <td>0.0</td>\n",
       "      <td>0.096977</td>\n",
       "      <td>0.034449</td>\n",
       "      <td>0.0</td>\n",
       "      <td>...</td>\n",
       "      <td>0.147139</td>\n",
       "      <td>0.0</td>\n",
       "      <td>0.000000</td>\n",
       "      <td>0.246047</td>\n",
       "      <td>0.0</td>\n",
       "      <td>0.0</td>\n",
       "      <td>0.065059</td>\n",
       "      <td>0.0</td>\n",
       "      <td>0.000000</td>\n",
       "      <td>0.0</td>\n",
       "    </tr>\n",
       "    <tr>\n",
       "      <th>...</th>\n",
       "      <td>...</td>\n",
       "      <td>...</td>\n",
       "      <td>...</td>\n",
       "      <td>...</td>\n",
       "      <td>...</td>\n",
       "      <td>...</td>\n",
       "      <td>...</td>\n",
       "      <td>...</td>\n",
       "      <td>...</td>\n",
       "      <td>...</td>\n",
       "      <td>...</td>\n",
       "      <td>...</td>\n",
       "      <td>...</td>\n",
       "      <td>...</td>\n",
       "      <td>...</td>\n",
       "      <td>...</td>\n",
       "      <td>...</td>\n",
       "      <td>...</td>\n",
       "      <td>...</td>\n",
       "      <td>...</td>\n",
       "      <td>...</td>\n",
       "    </tr>\n",
       "    <tr>\n",
       "      <th>163</th>\n",
       "      <td>False</td>\n",
       "      <td>0.0</td>\n",
       "      <td>0.096931</td>\n",
       "      <td>0.127742</td>\n",
       "      <td>0.0</td>\n",
       "      <td>0.032592</td>\n",
       "      <td>0.0</td>\n",
       "      <td>0.019339</td>\n",
       "      <td>0.103045</td>\n",
       "      <td>0.0</td>\n",
       "      <td>...</td>\n",
       "      <td>0.000000</td>\n",
       "      <td>0.0</td>\n",
       "      <td>0.144482</td>\n",
       "      <td>0.128798</td>\n",
       "      <td>0.0</td>\n",
       "      <td>0.0</td>\n",
       "      <td>0.058382</td>\n",
       "      <td>0.0</td>\n",
       "      <td>0.000000</td>\n",
       "      <td>0.0</td>\n",
       "    </tr>\n",
       "    <tr>\n",
       "      <th>164</th>\n",
       "      <td>False</td>\n",
       "      <td>0.0</td>\n",
       "      <td>0.000000</td>\n",
       "      <td>0.030528</td>\n",
       "      <td>0.0</td>\n",
       "      <td>0.163568</td>\n",
       "      <td>0.0</td>\n",
       "      <td>0.055460</td>\n",
       "      <td>0.118206</td>\n",
       "      <td>0.0</td>\n",
       "      <td>...</td>\n",
       "      <td>0.094666</td>\n",
       "      <td>0.0</td>\n",
       "      <td>0.082870</td>\n",
       "      <td>0.211067</td>\n",
       "      <td>0.0</td>\n",
       "      <td>0.0</td>\n",
       "      <td>0.167429</td>\n",
       "      <td>0.0</td>\n",
       "      <td>0.038547</td>\n",
       "      <td>0.0</td>\n",
       "    </tr>\n",
       "    <tr>\n",
       "      <th>165</th>\n",
       "      <td>False</td>\n",
       "      <td>0.0</td>\n",
       "      <td>0.093245</td>\n",
       "      <td>0.218462</td>\n",
       "      <td>0.0</td>\n",
       "      <td>0.000000</td>\n",
       "      <td>0.0</td>\n",
       "      <td>0.024805</td>\n",
       "      <td>0.026434</td>\n",
       "      <td>0.0</td>\n",
       "      <td>...</td>\n",
       "      <td>0.028226</td>\n",
       "      <td>0.0</td>\n",
       "      <td>0.000000</td>\n",
       "      <td>0.188801</td>\n",
       "      <td>0.0</td>\n",
       "      <td>0.0</td>\n",
       "      <td>0.024961</td>\n",
       "      <td>0.0</td>\n",
       "      <td>0.034480</td>\n",
       "      <td>0.0</td>\n",
       "    </tr>\n",
       "    <tr>\n",
       "      <th>166</th>\n",
       "      <td>False</td>\n",
       "      <td>0.0</td>\n",
       "      <td>0.104417</td>\n",
       "      <td>0.146782</td>\n",
       "      <td>0.0</td>\n",
       "      <td>0.014044</td>\n",
       "      <td>0.0</td>\n",
       "      <td>0.116661</td>\n",
       "      <td>0.053282</td>\n",
       "      <td>0.0</td>\n",
       "      <td>...</td>\n",
       "      <td>0.000000</td>\n",
       "      <td>0.0</td>\n",
       "      <td>0.000000</td>\n",
       "      <td>0.364703</td>\n",
       "      <td>0.0</td>\n",
       "      <td>0.0</td>\n",
       "      <td>0.050313</td>\n",
       "      <td>0.0</td>\n",
       "      <td>0.000000</td>\n",
       "      <td>0.0</td>\n",
       "    </tr>\n",
       "    <tr>\n",
       "      <th>167</th>\n",
       "      <td>False</td>\n",
       "      <td>0.0</td>\n",
       "      <td>0.000000</td>\n",
       "      <td>0.000000</td>\n",
       "      <td>0.0</td>\n",
       "      <td>0.043276</td>\n",
       "      <td>0.0</td>\n",
       "      <td>0.000000</td>\n",
       "      <td>0.000000</td>\n",
       "      <td>0.0</td>\n",
       "      <td>...</td>\n",
       "      <td>0.000000</td>\n",
       "      <td>0.0</td>\n",
       "      <td>0.230218</td>\n",
       "      <td>0.146590</td>\n",
       "      <td>0.0</td>\n",
       "      <td>0.0</td>\n",
       "      <td>0.000000</td>\n",
       "      <td>0.0</td>\n",
       "      <td>0.000000</td>\n",
       "      <td>0.0</td>\n",
       "    </tr>\n",
       "  </tbody>\n",
       "</table>\n",
       "<p>168 rows × 145 columns</p>\n",
       "</div>"
      ],
      "text/plain": [
       "     droite    0         1         2    3         4    5         6         7  \\\n",
       "0      True  0.0  0.000000  0.069537  0.0  0.079838  0.0  0.063163  0.067312   \n",
       "1      True  0.0  0.385405  0.000000  0.0  0.000000  0.0  0.000000  0.065555   \n",
       "2      True  0.0  0.035049  0.000000  0.0  0.023570  0.0  0.111883  0.029808   \n",
       "3      True  0.0  0.000000  0.115703  0.0  0.088561  0.0  0.035033  0.074667   \n",
       "4      True  0.0  0.000000  0.071175  0.0  0.217915  0.0  0.096977  0.034449   \n",
       "..      ...  ...       ...       ...  ...       ...  ...       ...       ...   \n",
       "163   False  0.0  0.096931  0.127742  0.0  0.032592  0.0  0.019339  0.103045   \n",
       "164   False  0.0  0.000000  0.030528  0.0  0.163568  0.0  0.055460  0.118206   \n",
       "165   False  0.0  0.093245  0.218462  0.0  0.000000  0.0  0.024805  0.026434   \n",
       "166   False  0.0  0.104417  0.146782  0.0  0.014044  0.0  0.116661  0.053282   \n",
       "167   False  0.0  0.000000  0.000000  0.0  0.043276  0.0  0.000000  0.000000   \n",
       "\n",
       "       8  ...       134  135       136       137  138  139       140  141  \\\n",
       "0    0.0  ...  0.000000  0.0  0.094380  0.000000  0.0  0.0  0.031781  0.0   \n",
       "1    0.0  ...  0.000000  0.0  0.000000  0.000000  0.0  0.0  0.061902  0.0   \n",
       "2    0.0  ...  0.000000  0.0  0.000000  0.292737  0.0  0.0  0.028147  0.0   \n",
       "3    0.0  ...  0.079731  0.0  0.000000  0.000000  0.0  0.0  0.000000  0.0   \n",
       "4    0.0  ...  0.147139  0.0  0.000000  0.246047  0.0  0.0  0.065059  0.0   \n",
       "..   ...  ...       ...  ...       ...       ...  ...  ...       ...  ...   \n",
       "163  0.0  ...  0.000000  0.0  0.144482  0.128798  0.0  0.0  0.058382  0.0   \n",
       "164  0.0  ...  0.094666  0.0  0.082870  0.211067  0.0  0.0  0.167429  0.0   \n",
       "165  0.0  ...  0.028226  0.0  0.000000  0.188801  0.0  0.0  0.024961  0.0   \n",
       "166  0.0  ...  0.000000  0.0  0.000000  0.364703  0.0  0.0  0.050313  0.0   \n",
       "167  0.0  ...  0.000000  0.0  0.230218  0.146590  0.0  0.0  0.000000  0.0   \n",
       "\n",
       "          142  143  \n",
       "0    0.000000  0.0  \n",
       "1    0.000000  0.0  \n",
       "2    0.000000  0.0  \n",
       "3    0.243489  0.0  \n",
       "4    0.000000  0.0  \n",
       "..        ...  ...  \n",
       "163  0.000000  0.0  \n",
       "164  0.038547  0.0  \n",
       "165  0.034480  0.0  \n",
       "166  0.000000  0.0  \n",
       "167  0.000000  0.0  \n",
       "\n",
       "[168 rows x 145 columns]"
      ]
     },
     "execution_count": 76,
     "metadata": {},
     "output_type": "execute_result"
    }
   ],
   "source": [
    "# On crée d'abord une fonction vide, qui permet de dire au `TfidfVectorizer`\n",
    "# que nous avons déjà pré-traité le texte.\n",
    "\n",
    "def dummy_fun(doc):\n",
    "    return doc\n",
    "\n",
    "tf_idf = TfidfVectorizer(\n",
    "    analyzer = 'word',\n",
    "    tokenizer = dummy_fun,\n",
    "    preprocessor = dummy_fun,\n",
    "    token_pattern = None,\n",
    "    # vocabulary = super_liste\n",
    "    max_features = 150\n",
    ")"
   ]
  },
  {
   "cell_type": "code",
   "execution_count": null,
   "metadata": {},
   "outputs": [],
   "source": [
    "# Création des features avec tf-idf\n",
    "X_train_tf_idf = tf_idf.fit_transform(X_train[\"interventions\"])\n",
    "\n",
    "# Quelques features retenues :\n",
    "tf_idf.get_feature_names()[::10]"
   ]
  },
  {
   "cell_type": "code",
   "execution_count": null,
   "metadata": {},
   "outputs": [],
   "source": [
    "# Ajout des features tf_idf à la longueur des interventions\n",
    "X_train_tf_idf = pd.DataFrame.sparse.from_spmatrix(X_train_tf_idf)\n",
    "X_train = (X_train.merge(X_train_tf_idf, left_index = True, right_index = True)\n",
    "            .drop(columns = [\"interventions\"])\n",
    ")\n",
    "\n",
    "# Scaling\n",
    "scaler = StandardScaler()\n",
    "X_train = scaler.fit_transform(X_train)"
   ]
  },
  {
   "cell_type": "markdown",
   "metadata": {},
   "source": [
    "#### Troisième étape\n",
    "Nous allons maintenant évaluer quels sont les meilleurs hyperparamètres pour chaque modèle.\n",
    "* D'abord le modèle RandomForestClassifier\n",
    "* Ensuite le modèle SVC"
   ]
  },
  {
   "cell_type": "code",
   "execution_count": null,
   "metadata": {
    "collapsed": true
   },
   "outputs": [],
   "source": [
    "### Validation croisée pour le RandomForestClassifier\n",
    "param_grid_rfc = {\n",
    "    \"n_estimators\": [200, 500],\n",
    "    \"max_features\": [\"auto\", \"sqrt\", \"log2\"],\n",
    "    \"max_depth\": [4, 5, 6, 7, 8],\n",
    "    \"criterion\": [\"gini\", \"entropy\"],\n",
    "}\n",
    "\n",
    "CV_rfc = GridSearchCV(estimator=RandomForestClassifier(), param_grid=param_grid, cv=5)\n",
    "\n",
    "CV_rfc.fit(X_train, y_train)\n",
    "opti_param_rfc = CV_rfc.best_params_\n",
    "\n",
    "\"\"\"\n",
    "La fonction met du temps à s'exécuter. Voici les paramètres qu'elle trouve\n",
    "{'criterion': 'gini',\n",
    " 'max_depth': 6,\n",
    " 'max_features': 'sqrt',\n",
    " 'n_estimators': 200}\n",
    "Pas la peine de la relancer à chaque fois.\n",
    "\"\"\""
   ]
  },
  {
   "cell_type": "code",
   "execution_count": 78,
   "metadata": {},
   "outputs": [
    {
     "name": "stdout",
     "output_type": "stream",
     "text": [
      "Les meilleurs hyperparamètres sont {'C': 1, 'kernel': 'linear'}\n"
     ]
    }
   ],
   "source": [
    "## Validation croisée pour trouver les hyperparamètres pour le modèle SVC\n",
    "\n",
    "param_grid_svc = [\n",
    "    {\"kernel\": [\"rbf\"], \"gamma\": [1e-3, 1e-4], \"C\": [1, 10, 100, 1000]},\n",
    "    {\"kernel\": [\"linear\"], \"C\": [1, 10, 100, 1000]},\n",
    "]\n",
    "\n",
    "\n",
    "CV_svc = GridSearchCV(estimator=SVC(), param_grid=param_grid_svc, cv=5)\n",
    "\n",
    "CV_svc.fit(X_train, y_train)\n",
    "opti_param_svc = CV_svc.best_params_\n",
    "print(\"Les meilleurs hyperparamètres sont \" + str(opti_param_svc))"
   ]
  },
  {
   "cell_type": "markdown",
   "metadata": {},
   "source": [
    "Nous allons maintenant entraîner les deux modèles successivment."
   ]
  },
  {
   "cell_type": "code",
   "execution_count": 79,
   "metadata": {},
   "outputs": [
    {
     "name": "stdout",
     "output_type": "stream",
     "text": [
      "              precision    recall  f1-score   support\n",
      "\n",
      "       False       1.00      0.40      0.57        10\n",
      "        True       0.80      1.00      0.89        24\n",
      "\n",
      "    accuracy                           0.82        34\n",
      "   macro avg       0.90      0.70      0.73        34\n",
      "weighted avg       0.86      0.82      0.80        34\n",
      "\n",
      "Le score du test est 0.8235294117647058\n"
     ]
    }
   ],
   "source": [
    "# Mettre `y_train` au bon format\n",
    "y_train = y_train.values.ravel()\n",
    "\n",
    "# Entrainement de la forêt aléatoire\n",
    "clf = RandomForestClassifier(\n",
    "    criterion=\"gini\", max_depth=6, max_features=\"sqrt\", n_estimators=200\n",
    ")\n",
    "clf.fit(X_train, y_train)\n",
    "\n",
    "# Entrainement de la machine à vecteur de support (SVC)\n",
    "svc = SVC(C=1000, gamma = 0.0001, kernel=\"rbf\")\n",
    "svc.fit(X_train, y_train)"
   ]
  },
  {
   "cell_type": "markdown",
   "metadata": {},
   "source": [
    "Avant de pouvoir évaluer l'erreur de généralisation, il faut appliquer\n",
    "quelques transformations aux données de test.\n",
    "Ici, on applique uniquement la méthode `transform` des Transformers, la\n",
    "méthode `fit` étant réservée à l'étape d'entrainement."
   ]
  },
  {
   "cell_type": "code",
   "execution_count": 80,
   "metadata": {},
   "outputs": [
    {
     "name": "stdout",
     "output_type": "stream",
     "text": [
      "              precision    recall  f1-score   support\n",
      "\n",
      "       False       0.56      0.50      0.53        10\n",
      "        True       0.80      0.83      0.82        24\n",
      "\n",
      "    accuracy                           0.74        34\n",
      "   macro avg       0.68      0.67      0.67        34\n",
      "weighted avg       0.73      0.74      0.73        34\n",
      "\n",
      "Le score du test est 0.7352941176470589\n"
     ]
    }
   ],
   "source": [
    "# tf-idf\n",
    "X_test_tf_idf = tf_idf.transform(X_test[\"interventions\"])\n",
    "\n",
    "X_test_tf_idf = pd.DataFrame.sparse.from_spmatrix(X_test_tf_idf)\n",
    "X_test = (X_test.merge(X_test_tf_idf, left_index = True, right_index = True)\n",
    "            .drop(columns = [\"interventions\"])\n",
    ")\n",
    "\n",
    "# Scaling\n",
    "X_test = scaler.transform(X_test)\n",
    "\n"
   ]
  },
  {
   "cell_type": "markdown",
   "metadata": {},
   "source": [
    "Nous pouvons maintenant appliquer nos modèles aux données de test, et évaluer\n",
    "leur erreur de généralisation."
   ]
  },
  {
   "cell_type": "code",
   "execution_count": null,
   "metadata": {},
   "outputs": [],
   "source": [
    "y_pred_clf = clf.predict(X_test)\n",
    "\n",
    "print(classification_report(y_test, y_pred_clf))\n",
    "print(\"Le score du test est \" + str(clf.score(X_test, y_test_clf)))"
   ]
  },
  {
   "cell_type": "code",
   "execution_count": null,
   "metadata": {},
   "outputs": [],
   "source": [
    "\n",
    "\n",
    "y_pred_svc = svc.predict(X_test)\n",
    "print(classification_report(y_test, y_pred_svc))\n",
    "print(\"Le score du test est \" + str(svc.score(X_test, y_test_svc)))"
   ]
  },
  {
   "cell_type": "markdown",
   "metadata": {},
   "source": [
    "#### Quatrième étape\n",
    "Nous regardons maintenant quel classfication effectue le modèle sur le parti LREM.\n",
    "Premièrement, nous transformons d'abord la matrice LREM."
   ]
  },
  {
   "cell_type": "code",
   "execution_count": 81,
   "metadata": {
    "collapsed": true
   },
   "outputs": [],
   "source": [
    "final_pipe = make_pipeline(CountVectorizer(vocabulary=super_liste), TfidfTransformer())\n",
    "\n",
    "tf_idf_LREM = final_pipe.fit_transform(\n",
    "    LREM_df[\"interventions\"].values.astype(\"U\")\n",
    ").toarray()\n",
    "\n",
    "LREM_features = pd.DataFrame(tf_idf_LREM)"
   ]
  },
  {
   "cell_type": "code",
   "execution_count": 82,
   "metadata": {},
   "outputs": [
    {
     "name": "stdout",
     "output_type": "stream",
     "text": [
      "Counter({True: 287, False: 11})\n",
      "Le modèle RFC classe 287 députés à droite et 11 à gauche\n"
     ]
    }
   ],
   "source": [
    "LREM_pred = clf.predict(LREM_features)\n",
    "print(collections.Counter(LREM_pred))\n",
    "print(\n",
    "    \"Le modèle RFC classe\",\n",
    "    str(collections.Counter(LREM_pred)[1]),\n",
    "    \"députés à droite et\",\n",
    "    str(collections.Counter(LREM_pred)[0]),\n",
    "    \"à gauche\",\n",
    ")"
   ]
  },
  {
   "cell_type": "code",
   "execution_count": 83,
   "metadata": {},
   "outputs": [
    {
     "name": "stdout",
     "output_type": "stream",
     "text": [
      "Counter({True: 235, False: 63})\n",
      "Le modèle SVC classe 235 députés à droite et 63 à gauche\n"
     ]
    }
   ],
   "source": [
    "LREM_pred2 = svc.predict(LREM_features)\n",
    "print(collections.Counter(LREM_pred2))\n",
    "print(\n",
    "    \"Le modèle SVC classe\",\n",
    "    str(collections.Counter(LREM_pred2)[1]),\n",
    "    \"députés à droite et\",\n",
    "    str(collections.Counter(LREM_pred2)[0]),\n",
    "    \"à gauche\",\n",
    ")"
   ]
  }
 ],
 "metadata": {
  "colab": {
   "collapsed_sections": [],
   "include_colab_link": true,
   "name": "Rendu.ipynb",
   "provenance": []
  },
  "jupytext": {
   "encoding": "# -*- coding: utf-8 -*-",
   "formats": "ipynb,py:percent,md"
  },
  "kernelspec": {
   "display_name": "Python 3",
   "language": "python",
   "name": "python3"
  },
  "language_info": {
   "codemirror_mode": {
    "name": "ipython",
    "version": 3
   },
   "file_extension": ".py",
   "mimetype": "text/x-python",
   "name": "python",
   "nbconvert_exporter": "python",
   "pygments_lexer": "ipython3",
   "version": "3.8.5"
  }
 },
 "nbformat": 4,
 "nbformat_minor": 1
}
