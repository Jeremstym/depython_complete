{
 "cells": [
  {
   "cell_type": "markdown",
   "metadata": {
    "colab_type": "text",
    "id": "view-in-github"
   },
   "source": [
    "<a href=\"https://colab.research.google.com/github/rturquier/depythons/blob/main/Rendu.ipynb\" target=\"_parent\"><img src=\"https://colab.research.google.com/assets/colab-badge.svg\" alt=\"Open In Colab\"/></a>"
   ]
  },
  {
   "cell_type": "markdown",
   "metadata": {
    "id": "AyDgk7w54dfJ"
   },
   "source": [
    "#### Projet informatique - Python pour le data scientist\n",
    "##### Jérémie Stym-Popper, Luca Teodorescu, Rémi Turquier\n",
    "# _La République en Marche_ est-elle de gauche ou de droite ?\n",
    "\n",
    "[Titre provisoire]"
   ]
  },
  {
   "cell_type": "code",
   "execution_count": 1,
   "metadata": {
    "id": "u6CCHVOX7XDx"
   },
   "outputs": [],
   "source": [
    "# Imports\n",
    "import numpy as np\n",
    "import pandas as pd\n",
    "from urllib import request"
   ]
  },
  {
   "cell_type": "code",
   "execution_count": 3,
   "metadata": {},
   "outputs": [],
   "source": [
    "# Si difficultés à importer les modules, utiliser la méthode suivante : \n",
    "import sys\n",
    "directory = r\"C:\\Users\\Asus\\Desktop\\Jérémie\\Fac_ENSAE\\Informatique\\Datapython_2AS1\\Projet\\new_repo_git\\depythons\"\n",
    "sys.path.append(directory)"
   ]
  },
  {
   "cell_type": "code",
   "execution_count": 4,
   "metadata": {},
   "outputs": [],
   "source": [
    "from depute_api import CPCApi"
   ]
  },
  {
   "cell_type": "markdown",
   "metadata": {
    "id": "H6wrFWawkgh1"
   },
   "source": [
    "## Récupération des données\n",
    "Les données ont été récupérées par l'intermédiaire de [l'API](https://github.com/regardscitoyens/nosdeputes.fr/blob/master/doc/api.md) mise à disposition par l'association Regards citoyens.\n",
    "\n",
    "Nous avons d'abord utilisé un module nommé depute_api, que nous avons ensuite complété avec deux fonctions :\n",
    "Les fonctions *interventions* et *interventions2* permettent d'entrer le nom d'un député pour obtenir une liste d'interventions (sous forme de liste de str)."
   ]
  },
  {
   "cell_type": "markdown",
   "metadata": {
    "id": "zGU4ALalPCVS"
   },
   "source": [
    "Ensuite, nous avons créé plusieurs DataFrames à l'aide de la fonction interventions 2, avec les fonctions suivantes :"
   ]
  },
  {
   "cell_type": "code",
   "execution_count": 5,
   "metadata": {
    "id": "eJlvLIZsPCVT"
   },
   "outputs": [],
   "source": [
    "from get_dep_remi import stockintervention"
   ]
  },
  {
   "cell_type": "markdown",
   "metadata": {
    "id": "TwHj_lLqPCVT"
   },
   "source": [
    "Voici un exemple d'utilisation. Pour éviter de perdre du temps ici (la fonction peut mettre du temps à s'exécuter sur les échantillons de grande taille), on exécute la fonction sur un petit parti politique."
   ]
  },
  {
   "cell_type": "code",
   "execution_count": 6,
   "metadata": {
    "id": "hI2VdK4aPCVU",
    "lines_to_next_cell": 2,
    "outputId": "090c474b-ea59-44e4-b677-d10b5c4030c9"
   },
   "outputs": [
    {
     "name": "stdout",
     "output_type": "stream",
     "text": [
      "4\n",
      "76           Yves Jégo\n",
      "80      Franck Riester\n",
      "289      Maurice Leroy\n",
      "515    Napole Polutele\n",
      "Name: nom, dtype: object\n",
      "Yves Jégo\n",
      "Franck Riester\n",
      "Maurice Leroy\n",
      "Napole Polutele\n"
     ]
    },
    {
     "data": {
      "text/html": [
       "<div>\n",
       "<style scoped>\n",
       "    .dataframe tbody tr th:only-of-type {\n",
       "        vertical-align: middle;\n",
       "    }\n",
       "\n",
       "    .dataframe tbody tr th {\n",
       "        vertical-align: top;\n",
       "    }\n",
       "\n",
       "    .dataframe thead th {\n",
       "        text-align: right;\n",
       "    }\n",
       "</style>\n",
       "<table border=\"1\" class=\"dataframe\">\n",
       "  <thead>\n",
       "    <tr style=\"text-align: right;\">\n",
       "      <th></th>\n",
       "      <th>groupe</th>\n",
       "      <th>nom</th>\n",
       "      <th>interventions</th>\n",
       "    </tr>\n",
       "  </thead>\n",
       "  <tbody>\n",
       "    <tr>\n",
       "      <th>0</th>\n",
       "      <td>UAI</td>\n",
       "      <td>Yves Jégo</td>\n",
       "      <td>[Yves Jégo  Prochaine séance, ce soir, à vingt...</td>\n",
       "    </tr>\n",
       "    <tr>\n",
       "      <th>1</th>\n",
       "      <td>UAI</td>\n",
       "      <td>Franck Riester</td>\n",
       "      <td>[ Vous pouvez compter sur le groupe UDI, Agir ...</td>\n",
       "    </tr>\n",
       "    <tr>\n",
       "      <th>2</th>\n",
       "      <td>UAI</td>\n",
       "      <td>Maurice Leroy</td>\n",
       "      <td>[Maurice Leroy  – Nous avons examiné la PPE en...</td>\n",
       "    </tr>\n",
       "    <tr>\n",
       "      <th>3</th>\n",
       "      <td>UAI</td>\n",
       "      <td>Napole Polutele</td>\n",
       "      <td>[ Oui, madame la présidente. ,  Madame la mini...</td>\n",
       "    </tr>\n",
       "  </tbody>\n",
       "</table>\n",
       "</div>"
      ],
      "text/plain": [
       "  groupe              nom                                      interventions\n",
       "0    UAI        Yves Jégo  [Yves Jégo  Prochaine séance, ce soir, à vingt...\n",
       "1    UAI   Franck Riester  [ Vous pouvez compter sur le groupe UDI, Agir ...\n",
       "2    UAI    Maurice Leroy  [Maurice Leroy  – Nous avons examiné la PPE en...\n",
       "3    UAI  Napole Polutele  [ Oui, madame la présidente. ,  Madame la mini..."
      ]
     },
     "execution_count": 6,
     "metadata": {},
     "output_type": "execute_result"
    }
   ],
   "source": [
    "api = CPCApi()\n",
    "deputies_json = api.parlementaires()\n",
    "deputies_df = pd.json_normalize(deputies_json)\n",
    "\n",
    "UAI_df = stockintervention(\"UAI\")\n",
    "UAI_df"
   ]
  },
  {
   "cell_type": "markdown",
   "metadata": {
    "id": "xM3XXd3KlFz0",
    "lines_to_next_cell": 0
   },
   "source": [
    "## Nettoyage des données\n",
    "Après une exploration préliminaire, nous avons choisi de nous concentrer sur trois groupes parlementaires.\n",
    "Nous avons sélectionné les interventions des groupes LFI (La France Insoumise) et SOC (Socialistes) pour la gauche, et le groupe LR (Les Républicains) pour la droite.\n",
    "### Création de la variable cible et mise en forme *tidy*"
   ]
  },
  {
   "cell_type": "code",
   "execution_count": 7,
   "metadata": {
    "id": "im9QOPF57LlX"
   },
   "outputs": [
    {
     "data": {
      "text/html": [
       "<div>\n",
       "<style scoped>\n",
       "    .dataframe tbody tr th:only-of-type {\n",
       "        vertical-align: middle;\n",
       "    }\n",
       "\n",
       "    .dataframe tbody tr th {\n",
       "        vertical-align: top;\n",
       "    }\n",
       "\n",
       "    .dataframe thead th {\n",
       "        text-align: right;\n",
       "    }\n",
       "</style>\n",
       "<table border=\"1\" class=\"dataframe\">\n",
       "  <thead>\n",
       "    <tr style=\"text-align: right;\">\n",
       "      <th></th>\n",
       "      <th>groupe</th>\n",
       "      <th>nom</th>\n",
       "      <th>interventions</th>\n",
       "    </tr>\n",
       "  </thead>\n",
       "  <tbody>\n",
       "    <tr>\n",
       "      <th>40</th>\n",
       "      <td>LR</td>\n",
       "      <td>Julien Dive</td>\n",
       "      <td>[\" C'est laborieux ! \", ' Il est resté fidèle ...</td>\n",
       "    </tr>\n",
       "    <tr>\n",
       "      <th>149</th>\n",
       "      <td>SOC</td>\n",
       "      <td>Joaquim Pueyo</td>\n",
       "      <td>[\" Je tiens à remercier mes collègues, de tous...</td>\n",
       "    </tr>\n",
       "    <tr>\n",
       "      <th>65</th>\n",
       "      <td>LR</td>\n",
       "      <td>Bernard Brochand</td>\n",
       "      <td>[\" Avec 256 000 entrées, c'est maîtrisé ? \", '...</td>\n",
       "    </tr>\n",
       "    <tr>\n",
       "      <th>99</th>\n",
       "      <td>LR</td>\n",
       "      <td>Jean-Charles Taugourdeau</td>\n",
       "      <td>[\" Je vous recevrai avec grand plaisir dans ma...</td>\n",
       "    </tr>\n",
       "    <tr>\n",
       "      <th>59</th>\n",
       "      <td>LR</td>\n",
       "      <td>Franck Marlin</td>\n",
       "      <td>[' On attend des réponses ! ', \" C'est certain...</td>\n",
       "    </tr>\n",
       "  </tbody>\n",
       "</table>\n",
       "</div>"
      ],
      "text/plain": [
       "    groupe                       nom  \\\n",
       "40      LR               Julien Dive   \n",
       "149    SOC             Joaquim Pueyo   \n",
       "65      LR          Bernard Brochand   \n",
       "99      LR  Jean-Charles Taugourdeau   \n",
       "59      LR             Franck Marlin   \n",
       "\n",
       "                                         interventions  \n",
       "40   [\" C'est laborieux ! \", ' Il est resté fidèle ...  \n",
       "149  [\" Je tiens à remercier mes collègues, de tous...  \n",
       "65   [\" Avec 256 000 entrées, c'est maîtrisé ? \", '...  \n",
       "99   [\" Je vous recevrai avec grand plaisir dans ma...  \n",
       "59   [' On attend des réponses ! ', \" C'est certain...  "
      ]
     },
     "execution_count": 7,
     "metadata": {},
     "output_type": "execute_result"
    }
   ],
   "source": [
    "### Import des données brutes récupérées avec l'API\n",
    "data_url = (\n",
    "    \"https://raw.githubusercontent.com/rturquier/depythons/main/Stock_csv/gd2_inter.csv\"\n",
    ")\n",
    "df_brut = pd.read_csv(data_url)\n",
    "df_brut.sample(n=5)"
   ]
  },
  {
   "cell_type": "code",
   "execution_count": 8,
   "metadata": {
    "colab": {
     "base_uri": "https://localhost:8080/",
     "height": 204
    },
    "id": "KhTIgGQn73gU",
    "lines_to_next_cell": 2,
    "outputId": "4ab419d5-647e-44a7-e67d-e2b8ea0d9002"
   },
   "outputs": [],
   "source": [
    "# Création d'une indicatrice `droite` qui sera la cible de la classification\n",
    "df_brut = df_brut.assign(droite=df_brut[\"groupe\"] == \"LR\")"
   ]
  },
  {
   "cell_type": "code",
   "execution_count": 9,
   "metadata": {
    "colab": {
     "base_uri": "https://localhost:8080/",
     "height": 419
    },
    "id": "O0lFEGtugn2k",
    "outputId": "1514b6d3-6d2c-4796-c7d1-ba2c2e4122b9"
   },
   "outputs": [],
   "source": [
    "# Régler un problème de type\n",
    "from ast import literal_eval\n",
    "\n",
    "\n",
    "def convert_to_list(interventions):\n",
    "    return literal_eval(str(interventions))\n",
    "\n",
    "\n",
    "df_brut[\"interventions\"] = df_brut[\"interventions\"].apply(convert_to_list)"
   ]
  },
  {
   "cell_type": "code",
   "execution_count": 10,
   "metadata": {
    "id": "K0wHQO2L-MBX",
    "lines_to_next_cell": 1
   },
   "outputs": [
    {
     "data": {
      "text/html": [
       "<div>\n",
       "<style scoped>\n",
       "    .dataframe tbody tr th:only-of-type {\n",
       "        vertical-align: middle;\n",
       "    }\n",
       "\n",
       "    .dataframe tbody tr th {\n",
       "        vertical-align: top;\n",
       "    }\n",
       "\n",
       "    .dataframe thead th {\n",
       "        text-align: right;\n",
       "    }\n",
       "</style>\n",
       "<table border=\"1\" class=\"dataframe\">\n",
       "  <thead>\n",
       "    <tr style=\"text-align: right;\">\n",
       "      <th></th>\n",
       "      <th>groupe</th>\n",
       "      <th>nom</th>\n",
       "      <th>interventions</th>\n",
       "      <th>droite</th>\n",
       "    </tr>\n",
       "  </thead>\n",
       "  <tbody>\n",
       "    <tr>\n",
       "      <th>0</th>\n",
       "      <td>LFI</td>\n",
       "      <td>Jean-Luc Mélenchon</td>\n",
       "      <td>Ça c'est très juste ! Et ça méritait d'être d...</td>\n",
       "      <td>False</td>\n",
       "    </tr>\n",
       "    <tr>\n",
       "      <th>0</th>\n",
       "      <td>LFI</td>\n",
       "      <td>Jean-Luc Mélenchon</td>\n",
       "      <td>Vous avez à juste titre fait apercevoir à nos...</td>\n",
       "      <td>False</td>\n",
       "    </tr>\n",
       "    <tr>\n",
       "      <th>0</th>\n",
       "      <td>LFI</td>\n",
       "      <td>Jean-Luc Mélenchon</td>\n",
       "      <td>… – il n'est pas possible de compter sur une ...</td>\n",
       "      <td>False</td>\n",
       "    </tr>\n",
       "    <tr>\n",
       "      <th>0</th>\n",
       "      <td>LFI</td>\n",
       "      <td>Jean-Luc Mélenchon</td>\n",
       "      <td>Je voudrais féliciter notre collègue M'jid El...</td>\n",
       "      <td>False</td>\n",
       "    </tr>\n",
       "    <tr>\n",
       "      <th>0</th>\n",
       "      <td>LFI</td>\n",
       "      <td>Jean-Luc Mélenchon</td>\n",
       "      <td>Très bien !</td>\n",
       "      <td>False</td>\n",
       "    </tr>\n",
       "    <tr>\n",
       "      <th>...</th>\n",
       "      <td>...</td>\n",
       "      <td>...</td>\n",
       "      <td>...</td>\n",
       "      <td>...</td>\n",
       "    </tr>\n",
       "    <tr>\n",
       "      <th>167</th>\n",
       "      <td>SOC</td>\n",
       "      <td>Isabelle Santiago</td>\n",
       "      <td>Il vise également à supprimer l'alinéa 16. Le...</td>\n",
       "      <td>False</td>\n",
       "    </tr>\n",
       "    <tr>\n",
       "      <th>167</th>\n",
       "      <td>SOC</td>\n",
       "      <td>Isabelle Santiago</td>\n",
       "      <td>Monsieur le Premier ministre, conséquence dir...</td>\n",
       "      <td>False</td>\n",
       "    </tr>\n",
       "    <tr>\n",
       "      <th>167</th>\n",
       "      <td>SOC</td>\n",
       "      <td>Isabelle Santiago</td>\n",
       "      <td>Le présent amendement propose de supprimer l'...</td>\n",
       "      <td>False</td>\n",
       "    </tr>\n",
       "    <tr>\n",
       "      <th>167</th>\n",
       "      <td>SOC</td>\n",
       "      <td>Isabelle Santiago</td>\n",
       "      <td>Il vise à instaurer un prélèvement sur les re...</td>\n",
       "      <td>False</td>\n",
       "    </tr>\n",
       "    <tr>\n",
       "      <th>167</th>\n",
       "      <td>SOC</td>\n",
       "      <td>Isabelle Santiago</td>\n",
       "      <td>Monsieur le Premier ministre, dimanche dernie...</td>\n",
       "      <td>False</td>\n",
       "    </tr>\n",
       "  </tbody>\n",
       "</table>\n",
       "<p>7687 rows × 4 columns</p>\n",
       "</div>"
      ],
      "text/plain": [
       "    groupe                 nom  \\\n",
       "0      LFI  Jean-Luc Mélenchon   \n",
       "0      LFI  Jean-Luc Mélenchon   \n",
       "0      LFI  Jean-Luc Mélenchon   \n",
       "0      LFI  Jean-Luc Mélenchon   \n",
       "0      LFI  Jean-Luc Mélenchon   \n",
       "..     ...                 ...   \n",
       "167    SOC   Isabelle Santiago   \n",
       "167    SOC   Isabelle Santiago   \n",
       "167    SOC   Isabelle Santiago   \n",
       "167    SOC   Isabelle Santiago   \n",
       "167    SOC   Isabelle Santiago   \n",
       "\n",
       "                                         interventions  droite  \n",
       "0     Ça c'est très juste ! Et ça méritait d'être d...   False  \n",
       "0     Vous avez à juste titre fait apercevoir à nos...   False  \n",
       "0     … – il n'est pas possible de compter sur une ...   False  \n",
       "0     Je voudrais féliciter notre collègue M'jid El...   False  \n",
       "0                                         Très bien !    False  \n",
       "..                                                 ...     ...  \n",
       "167   Il vise également à supprimer l'alinéa 16. Le...   False  \n",
       "167   Monsieur le Premier ministre, conséquence dir...   False  \n",
       "167   Le présent amendement propose de supprimer l'...   False  \n",
       "167   Il vise à instaurer un prélèvement sur les re...   False  \n",
       "167   Monsieur le Premier ministre, dimanche dernie...   False  \n",
       "\n",
       "[7687 rows x 4 columns]"
      ]
     },
     "execution_count": 10,
     "metadata": {},
     "output_type": "execute_result"
    }
   ],
   "source": [
    "# Séparer toutes les interventions en colonnes différentes\n",
    "df_tidy = df_brut.explode(\"interventions\")\n",
    "df_tidy"
   ]
  },
  {
   "cell_type": "code",
   "execution_count": 11,
   "metadata": {
    "lines_to_next_cell": 2
   },
   "outputs": [
    {
     "data": {
      "text/plain": [
       "(2454, 2454)"
      ]
     },
     "execution_count": 11,
     "metadata": {},
     "output_type": "execute_result"
    }
   ],
   "source": [
    "# -- Équilibrage du nombre de d'interventions --\n",
    "# Nous nous sommes posé la question de l'équilibrage des données.\n",
    "# Après avoir envisagé plusieurs méthodes, nous avons choisi d'équilibrer les\n",
    "# donées à la main. Ce n'est pas forcément la meilleure méthode, mais c'est\n",
    "# sans doute la plus simple.\n",
    "def n_droite_n_gauche(df):\n",
    "    count = df.droite.value_counts()\n",
    "    return count[True], count[False]\n",
    "\n",
    "\n",
    "def balance_left_right(df):\n",
    "    n_droite, n_gauche = n_droite_n_gauche(df)\n",
    "    df = df.sort_values(by=[\"droite\"], ascending=False)\n",
    "\n",
    "    if n_droite > n_gauche:\n",
    "        df = df[n_droite - n_gauche :]\n",
    "    elif n_droite < n_gauche:\n",
    "        df = df[2 * n_droite :]\n",
    "\n",
    "    return df\n",
    "\n",
    "\n",
    "df_tidy = balance_left_right(df_tidy)\n",
    "n_droite_n_gauche(df_tidy)"
   ]
  },
  {
   "cell_type": "markdown",
   "metadata": {},
   "source": [
    "### Longueur des interventions et regroupement par groupes de 5 interventions"
   ]
  },
  {
   "cell_type": "code",
   "execution_count": 12,
   "metadata": {},
   "outputs": [],
   "source": [
    "# Création d'une variable qui contient la longueur des interventions\n",
    "df_tidy = df_tidy.assign(longueur=df_tidy[\"interventions\"].str.len())"
   ]
  },
  {
   "cell_type": "code",
   "execution_count": 13,
   "metadata": {
    "lines_to_next_cell": 2
   },
   "outputs": [],
   "source": [
    "# Regroupement par groupes de 5 interventions\n",
    "# Pour cela, on crée une variable `numero_paquet_de_5` qui prend la même valeur\n",
    "# pour 5 députés du même bord.\n",
    "n_droite, n_gauche = n_droite_n_gauche(df_tidy)\n",
    "\n",
    "df_tidy = df_tidy.sort_values(by=[\"droite\"], ascending=False)\n",
    "df_tidy[\"numero_paquet_de_5\"] = list(range(n_droite)) + list(range(n_gauche))\n",
    "df_tidy[\"numero_paquet_de_5\"] = np.floor(df_tidy[\"numero_paquet_de_5\"] / 5)\n",
    "df_tidy[\"numero_paquet_de_5\"] = df_tidy[\"numero_paquet_de_5\"].astype(int)"
   ]
  },
  {
   "cell_type": "code",
   "execution_count": 14,
   "metadata": {},
   "outputs": [],
   "source": [
    "# Grouper par bord politique et par numéro de paquet de 5, puis aggréger\n",
    "df_collapsed = (\n",
    "    df_tidy.drop(columns=[\"groupe\", \"nom\"])\n",
    "    .groupby([\"droite\", \"numero_paquet_de_5\"])\n",
    "    .agg({\"interventions\": \"\".join, \"longueur\": [\"min\", \"max\", \"mean\"]})\n",
    "    .reset_index()\n",
    ")\n",
    "\n",
    "# Arranger le nom des colonnes\n",
    "df_collapsed.columns = [\n",
    "    \"_\".join(col).rstrip(\"_\") for col in df_collapsed.columns.values\n",
    "]\n",
    "\n",
    "df_collapsed = df_collapsed.drop(columns=\"numero_paquet_de_5\").rename(\n",
    "    columns={\"interventions_join\": \"interventions\"}\n",
    ")"
   ]
  },
  {
   "cell_type": "markdown",
   "metadata": {
    "id": "p0ZAydeEPCVc"
   },
   "source": [
    "## Visualisation des données (wordcloud, statistiques descriptives...)\n",
    "\n",
    "Nous allons maintenant dans cette partie visualiser les tendances dans les différents partis, ainsi que les mots qui sont les plus utilisés. Nous commençons par le wordcloud.\n",
    "Avant toutes choses, nous importons et complétons un texte de stopwords pour retirer tous les mots impertinents de la visualisation, et de la modélisation à suivre."
   ]
  },
  {
   "cell_type": "code",
   "execution_count": 15,
   "metadata": {},
   "outputs": [],
   "source": [
    "# Création d'un stopwords\n",
    "\n",
    "stopping_list = request.urlopen(\n",
    "    \"https://raw.githubusercontent.com/rturquier/depythons/main/stopwords-fr.txt\"\n",
    ").read()\n",
    "stopping_list = stopping_list.decode(\"utf-8\")\n",
    "stopwords_list = stopping_list.split(\"\\n\")"
   ]
  },
  {
   "cell_type": "code",
   "execution_count": 16,
   "metadata": {
    "id": "AhEb0zObPCVd"
   },
   "outputs": [],
   "source": [
    "from wordcloud_depython import wordcloud_gen"
   ]
  },
  {
   "cell_type": "markdown",
   "metadata": {
    "id": "esjyOFUXPCVe"
   },
   "source": [
    "Quelques petits essais..."
   ]
  },
  {
   "cell_type": "code",
   "execution_count": 17,
   "metadata": {
    "id": "OU4eFFXUPCVe",
    "outputId": "ab16e9fe-7214-45f6-e213-407f17829ccd"
   },
   "outputs": [
    {
     "data": {
      "image/png": "[encoded data removed]",
      "text/plain": [
       "<Figure size 432x288 with 1 Axes>"
      ]
     },
     "metadata": {
      "needs_background": "light"
     },
     "output_type": "display_data"
    },
    {
     "data": {
      "image/png": "[encoded data removed]",
      "text/plain": [
       "<Figure size 432x288 with 1 Axes>"
      ]
     },
     "metadata": {
      "needs_background": "light"
     },
     "output_type": "display_data"
    },
    {
     "data": {
      "text/plain": [
       "(None, None)"
      ]
     },
     "execution_count": 17,
     "metadata": {},
     "output_type": "execute_result"
    }
   ],
   "source": [
    "wordcloud_gen(\"Jean-Luc Mélenchon\"), wordcloud_gen(\"Eric Ciotti\")"
   ]
  },
  {
   "cell_type": "markdown",
   "metadata": {
    "id": "O-RmXt3xPCVf"
   },
   "source": [
    "### Liste de mots customisée\n",
    "\n",
    "Nous avons créé deux fonction qui permettent de retourner les mots les plus utilisés par les membres d'un parti. Cette liste de mots va nous servir pour modéliser les champs lexicaux (quel parti a le plus tendance à utiliser tel mot ?). Nous créons cette liste de 144 mots sous le nom de *super_liste*."
   ]
  },
  {
   "cell_type": "code",
   "execution_count": 21,
   "metadata": {},
   "outputs": [],
   "source": [
    "from custom_words import super_liste"
   ]
  },
  {
   "cell_type": "markdown",
   "metadata": {
    "collapsed": true,
    "id": "I0lSH6JWPCVh",
    "outputId": "a243f78a-7908-4342-b754-89bfd768da17"
   },
   "source": [
    "# Modéslisation\n",
    "\n",
    "Nous passons maintenant à la partie de la modélisation. Nous avons pour cela procédé en plusieurs espace. \n",
    "1. La première consiste en la création d'une table *df_simple* qui regroupe uniquement les partis de gauche classiques (Socisalites et LFI) et le parti LR. Nous rajoutons une colonne \"droite\" qui renvoie **True** si le parti est de droite (LR ici), **False** sinon. Cela permettra après d'entraîner le modèle supervisé, le label étant donné par cette colonne.\n",
    "2. La deuxième étape consiste à transfomrer le DataFrame contenant \"Parti politique\", \"Nom du député\" et \"Interventions\" en une matrice **TF-IDF**. Les détails seront donnés plus bas.\n",
    "3. La deuxième étape consiste à entraîner deux modèles (ici, **RandomForestClassifier** et **SVC**) sur les données, en évaluant à chaque fois quels sont les meileurs hyperparamètres à l'aide de la méthode de validation croisée.\n",
    "4. La dernière étape consiste à exécuter le modèle sur les députés du parti LREM pour prédire à quel bord politique ils pourraient potentiellement appartenir, commte tenu des mots les plus courants de leurs interventions."
   ]
  },
  {
   "cell_type": "markdown",
   "metadata": {},
   "source": [
    "#### Première étape\n",
    "Nous créons d'abord la matrice df_simple"
   ]
  },
  {
   "cell_type": "code",
   "execution_count": 23,
   "metadata": {},
   "outputs": [
    {
     "data": {
      "text/html": [
       "<div>\n",
       "<style scoped>\n",
       "    .dataframe tbody tr th:only-of-type {\n",
       "        vertical-align: middle;\n",
       "    }\n",
       "\n",
       "    .dataframe tbody tr th {\n",
       "        vertical-align: top;\n",
       "    }\n",
       "\n",
       "    .dataframe thead th {\n",
       "        text-align: right;\n",
       "    }\n",
       "</style>\n",
       "<table border=\"1\" class=\"dataframe\">\n",
       "  <thead>\n",
       "    <tr style=\"text-align: right;\">\n",
       "      <th></th>\n",
       "      <th>groupe</th>\n",
       "      <th>nom</th>\n",
       "      <th>interventions</th>\n",
       "      <th>droite</th>\n",
       "    </tr>\n",
       "  </thead>\n",
       "  <tbody>\n",
       "    <tr>\n",
       "      <th>84</th>\n",
       "      <td>LR</td>\n",
       "      <td>Gilles Lurton</td>\n",
       "      <td>[\" Monsieur le Premier ministre, vous nous ave...</td>\n",
       "      <td>True</td>\n",
       "    </tr>\n",
       "    <tr>\n",
       "      <th>86</th>\n",
       "      <td>LR</td>\n",
       "      <td>Jean-François Parigi</td>\n",
       "      <td>[' Restez modeste ! ', ' Manipulation ! ', ' C...</td>\n",
       "      <td>True</td>\n",
       "    </tr>\n",
       "    <tr>\n",
       "      <th>100</th>\n",
       "      <td>LR</td>\n",
       "      <td>Dino Cinieri</td>\n",
       "      <td>[\" La demi-part supplémentaire qui revient de ...</td>\n",
       "      <td>True</td>\n",
       "    </tr>\n",
       "    <tr>\n",
       "      <th>99</th>\n",
       "      <td>LR</td>\n",
       "      <td>Jean-Charles Taugourdeau</td>\n",
       "      <td>[\" Je vous recevrai avec grand plaisir dans ma...</td>\n",
       "      <td>True</td>\n",
       "    </tr>\n",
       "    <tr>\n",
       "      <th>98</th>\n",
       "      <td>LR</td>\n",
       "      <td>Jérôme Nury</td>\n",
       "      <td>[\" Je vous remercie pour ces réponses claires....</td>\n",
       "      <td>True</td>\n",
       "    </tr>\n",
       "    <tr>\n",
       "      <th>...</th>\n",
       "      <td>...</td>\n",
       "      <td>...</td>\n",
       "      <td>...</td>\n",
       "      <td>...</td>\n",
       "    </tr>\n",
       "    <tr>\n",
       "      <th>136</th>\n",
       "      <td>SOC</td>\n",
       "      <td>Marietta Karamanli</td>\n",
       "      <td>[\" Je vous remercie de ces éléments et de votr...</td>\n",
       "      <td>False</td>\n",
       "    </tr>\n",
       "    <tr>\n",
       "      <th>137</th>\n",
       "      <td>SOC</td>\n",
       "      <td>Joël Aviragnet</td>\n",
       "      <td>[\" Il vise, lui aussi, à supprimer l'article i...</td>\n",
       "      <td>False</td>\n",
       "    </tr>\n",
       "    <tr>\n",
       "      <th>138</th>\n",
       "      <td>SOC</td>\n",
       "      <td>Boris Vallaud</td>\n",
       "      <td>[\" Quelle incongruité que la majorité pénale s...</td>\n",
       "      <td>False</td>\n",
       "    </tr>\n",
       "    <tr>\n",
       "      <th>139</th>\n",
       "      <td>SOC</td>\n",
       "      <td>Alain David</td>\n",
       "      <td>[\" Déposé par le groupe Socialistes et apparen...</td>\n",
       "      <td>False</td>\n",
       "    </tr>\n",
       "    <tr>\n",
       "      <th>167</th>\n",
       "      <td>SOC</td>\n",
       "      <td>Isabelle Santiago</td>\n",
       "      <td>[\" Les jeunes de l'ASE, l'Aide sociale à l'enf...</td>\n",
       "      <td>False</td>\n",
       "    </tr>\n",
       "  </tbody>\n",
       "</table>\n",
       "<p>168 rows × 4 columns</p>\n",
       "</div>"
      ],
      "text/plain": [
       "    groupe                       nom  \\\n",
       "84      LR             Gilles Lurton   \n",
       "86      LR      Jean-François Parigi   \n",
       "100     LR              Dino Cinieri   \n",
       "99      LR  Jean-Charles Taugourdeau   \n",
       "98      LR               Jérôme Nury   \n",
       "..     ...                       ...   \n",
       "136    SOC        Marietta Karamanli   \n",
       "137    SOC            Joël Aviragnet   \n",
       "138    SOC             Boris Vallaud   \n",
       "139    SOC               Alain David   \n",
       "167    SOC         Isabelle Santiago   \n",
       "\n",
       "                                         interventions  droite  \n",
       "84   [\" Monsieur le Premier ministre, vous nous ave...    True  \n",
       "86   [' Restez modeste ! ', ' Manipulation ! ', ' C...    True  \n",
       "100  [\" La demi-part supplémentaire qui revient de ...    True  \n",
       "99   [\" Je vous recevrai avec grand plaisir dans ma...    True  \n",
       "98   [\" Je vous remercie pour ces réponses claires....    True  \n",
       "..                                                 ...     ...  \n",
       "136  [\" Je vous remercie de ces éléments et de votr...   False  \n",
       "137  [\" Il vise, lui aussi, à supprimer l'article i...   False  \n",
       "138  [\" Quelle incongruité que la majorité pénale s...   False  \n",
       "139  [\" Déposé par le groupe Socialistes et apparen...   False  \n",
       "167  [\" Les jeunes de l'ASE, l'Aide sociale à l'enf...   False  \n",
       "\n",
       "[168 rows x 4 columns]"
      ]
     },
     "execution_count": 23,
     "metadata": {},
     "output_type": "execute_result"
    }
   ],
   "source": [
    "data_url = \"https://raw.githubusercontent.com/rturquier/depythons/main/Stock_csv/gd2_inter.csv\"\n",
    "df_brut = pd.read_csv(data_url)\n",
    "df_brut.sample(n=5)\n",
    "\n",
    "# Création d'une indicatrice `droite` qui sera la cible de la classification\n",
    "df_brut = df_brut.\\\n",
    "            assign(droite = df_brut[\"groupe\"] == \"LR\").\\\n",
    "            sort_values(by = [\"droite\"], ascending = False)\n",
    "df_brut.head()\n",
    "\n",
    "df_simple = df_brut.assign(droite = df_brut[\"groupe\"] == \"LR\")\n",
    "df_simple"
   ]
  },
  {
   "cell_type": "markdown",
   "metadata": {},
   "source": [
    "#### Deuxième étape\n",
    "\n",
    "Nous allons maintenant créer les matrices **Tf-Idf** qui vont nous servir pour les modèles."
   ]
  },
  {
   "cell_type": "code",
   "execution_count": 24,
   "metadata": {},
   "outputs": [],
   "source": [
    "# Voici tous les imports qui sont nécessaires pour cette partie et la suite\n",
    "\n",
    "import collections\n",
    "\n",
    "from sklearn.pipeline import make_pipeline\n",
    "from sklearn.feature_extraction.text import CountVectorizer\n",
    "from sklearn.feature_extraction.text import TfidfTransformer\n",
    "from sklearn.model_selection import GridSearchCV\n",
    "\n",
    "from sklearn.model_selection import train_test_split\n",
    "from sklearn.ensemble import RandomForestClassifier\n",
    "from sklearn.svm import SVC\n",
    "from sklearn.metrics import classification_report\n",
    "\n",
    "LREM_df = pd.read_csv(\"https://raw.githubusercontent.com/rturquier/depythons/main/Stock_csv/LREM2_inter.csv\")"
   ]
  },
  {
   "cell_type": "markdown",
   "metadata": {},
   "source": [
    "Nous créons une matrice td-idf pour le DataFrame gd_df, puis nous séparons les lignes en un échantillon d'entraînement et un échantillon de test.\n",
    "Ensuite nous effectuons la même chose avec le DataFrame df_simple."
   ]
  },
  {
   "cell_type": "code",
   "execution_count": 32,
   "metadata": {},
   "outputs": [
    {
     "data": {
      "text/html": [
       "<div>\n",
       "<style scoped>\n",
       "    .dataframe tbody tr th:only-of-type {\n",
       "        vertical-align: middle;\n",
       "    }\n",
       "\n",
       "    .dataframe tbody tr th {\n",
       "        vertical-align: top;\n",
       "    }\n",
       "\n",
       "    .dataframe thead th {\n",
       "        text-align: right;\n",
       "    }\n",
       "</style>\n",
       "<table border=\"1\" class=\"dataframe\">\n",
       "  <thead>\n",
       "    <tr style=\"text-align: right;\">\n",
       "      <th></th>\n",
       "      <th>droite</th>\n",
       "      <th>0</th>\n",
       "      <th>1</th>\n",
       "      <th>2</th>\n",
       "      <th>3</th>\n",
       "      <th>4</th>\n",
       "      <th>5</th>\n",
       "      <th>6</th>\n",
       "      <th>7</th>\n",
       "      <th>8</th>\n",
       "      <th>...</th>\n",
       "      <th>134</th>\n",
       "      <th>135</th>\n",
       "      <th>136</th>\n",
       "      <th>137</th>\n",
       "      <th>138</th>\n",
       "      <th>139</th>\n",
       "      <th>140</th>\n",
       "      <th>141</th>\n",
       "      <th>142</th>\n",
       "      <th>143</th>\n",
       "    </tr>\n",
       "  </thead>\n",
       "  <tbody>\n",
       "    <tr>\n",
       "      <th>0</th>\n",
       "      <td>True</td>\n",
       "      <td>0.0</td>\n",
       "      <td>0.000000</td>\n",
       "      <td>0.069537</td>\n",
       "      <td>0.0</td>\n",
       "      <td>0.079838</td>\n",
       "      <td>0.0</td>\n",
       "      <td>0.063163</td>\n",
       "      <td>0.067312</td>\n",
       "      <td>0.0</td>\n",
       "      <td>...</td>\n",
       "      <td>0.000000</td>\n",
       "      <td>0.0</td>\n",
       "      <td>0.094380</td>\n",
       "      <td>0.000000</td>\n",
       "      <td>0.0</td>\n",
       "      <td>0.0</td>\n",
       "      <td>0.031781</td>\n",
       "      <td>0.0</td>\n",
       "      <td>0.000000</td>\n",
       "      <td>0.0</td>\n",
       "    </tr>\n",
       "    <tr>\n",
       "      <th>1</th>\n",
       "      <td>True</td>\n",
       "      <td>0.0</td>\n",
       "      <td>0.385405</td>\n",
       "      <td>0.000000</td>\n",
       "      <td>0.0</td>\n",
       "      <td>0.000000</td>\n",
       "      <td>0.0</td>\n",
       "      <td>0.000000</td>\n",
       "      <td>0.065555</td>\n",
       "      <td>0.0</td>\n",
       "      <td>...</td>\n",
       "      <td>0.000000</td>\n",
       "      <td>0.0</td>\n",
       "      <td>0.000000</td>\n",
       "      <td>0.000000</td>\n",
       "      <td>0.0</td>\n",
       "      <td>0.0</td>\n",
       "      <td>0.061902</td>\n",
       "      <td>0.0</td>\n",
       "      <td>0.000000</td>\n",
       "      <td>0.0</td>\n",
       "    </tr>\n",
       "    <tr>\n",
       "      <th>2</th>\n",
       "      <td>True</td>\n",
       "      <td>0.0</td>\n",
       "      <td>0.035049</td>\n",
       "      <td>0.000000</td>\n",
       "      <td>0.0</td>\n",
       "      <td>0.023570</td>\n",
       "      <td>0.0</td>\n",
       "      <td>0.111883</td>\n",
       "      <td>0.029808</td>\n",
       "      <td>0.0</td>\n",
       "      <td>...</td>\n",
       "      <td>0.000000</td>\n",
       "      <td>0.0</td>\n",
       "      <td>0.000000</td>\n",
       "      <td>0.292737</td>\n",
       "      <td>0.0</td>\n",
       "      <td>0.0</td>\n",
       "      <td>0.028147</td>\n",
       "      <td>0.0</td>\n",
       "      <td>0.000000</td>\n",
       "      <td>0.0</td>\n",
       "    </tr>\n",
       "    <tr>\n",
       "      <th>3</th>\n",
       "      <td>True</td>\n",
       "      <td>0.0</td>\n",
       "      <td>0.000000</td>\n",
       "      <td>0.115703</td>\n",
       "      <td>0.0</td>\n",
       "      <td>0.088561</td>\n",
       "      <td>0.0</td>\n",
       "      <td>0.035033</td>\n",
       "      <td>0.074667</td>\n",
       "      <td>0.0</td>\n",
       "      <td>...</td>\n",
       "      <td>0.079731</td>\n",
       "      <td>0.0</td>\n",
       "      <td>0.000000</td>\n",
       "      <td>0.000000</td>\n",
       "      <td>0.0</td>\n",
       "      <td>0.0</td>\n",
       "      <td>0.000000</td>\n",
       "      <td>0.0</td>\n",
       "      <td>0.243489</td>\n",
       "      <td>0.0</td>\n",
       "    </tr>\n",
       "    <tr>\n",
       "      <th>4</th>\n",
       "      <td>True</td>\n",
       "      <td>0.0</td>\n",
       "      <td>0.000000</td>\n",
       "      <td>0.071175</td>\n",
       "      <td>0.0</td>\n",
       "      <td>0.217915</td>\n",
       "      <td>0.0</td>\n",
       "      <td>0.096977</td>\n",
       "      <td>0.034449</td>\n",
       "      <td>0.0</td>\n",
       "      <td>...</td>\n",
       "      <td>0.147139</td>\n",
       "      <td>0.0</td>\n",
       "      <td>0.000000</td>\n",
       "      <td>0.246047</td>\n",
       "      <td>0.0</td>\n",
       "      <td>0.0</td>\n",
       "      <td>0.065059</td>\n",
       "      <td>0.0</td>\n",
       "      <td>0.000000</td>\n",
       "      <td>0.0</td>\n",
       "    </tr>\n",
       "    <tr>\n",
       "      <th>...</th>\n",
       "      <td>...</td>\n",
       "      <td>...</td>\n",
       "      <td>...</td>\n",
       "      <td>...</td>\n",
       "      <td>...</td>\n",
       "      <td>...</td>\n",
       "      <td>...</td>\n",
       "      <td>...</td>\n",
       "      <td>...</td>\n",
       "      <td>...</td>\n",
       "      <td>...</td>\n",
       "      <td>...</td>\n",
       "      <td>...</td>\n",
       "      <td>...</td>\n",
       "      <td>...</td>\n",
       "      <td>...</td>\n",
       "      <td>...</td>\n",
       "      <td>...</td>\n",
       "      <td>...</td>\n",
       "      <td>...</td>\n",
       "      <td>...</td>\n",
       "    </tr>\n",
       "    <tr>\n",
       "      <th>163</th>\n",
       "      <td>False</td>\n",
       "      <td>0.0</td>\n",
       "      <td>0.096931</td>\n",
       "      <td>0.127742</td>\n",
       "      <td>0.0</td>\n",
       "      <td>0.032592</td>\n",
       "      <td>0.0</td>\n",
       "      <td>0.019339</td>\n",
       "      <td>0.103045</td>\n",
       "      <td>0.0</td>\n",
       "      <td>...</td>\n",
       "      <td>0.000000</td>\n",
       "      <td>0.0</td>\n",
       "      <td>0.144482</td>\n",
       "      <td>0.128798</td>\n",
       "      <td>0.0</td>\n",
       "      <td>0.0</td>\n",
       "      <td>0.058382</td>\n",
       "      <td>0.0</td>\n",
       "      <td>0.000000</td>\n",
       "      <td>0.0</td>\n",
       "    </tr>\n",
       "    <tr>\n",
       "      <th>164</th>\n",
       "      <td>False</td>\n",
       "      <td>0.0</td>\n",
       "      <td>0.000000</td>\n",
       "      <td>0.030528</td>\n",
       "      <td>0.0</td>\n",
       "      <td>0.163568</td>\n",
       "      <td>0.0</td>\n",
       "      <td>0.055460</td>\n",
       "      <td>0.118206</td>\n",
       "      <td>0.0</td>\n",
       "      <td>...</td>\n",
       "      <td>0.094666</td>\n",
       "      <td>0.0</td>\n",
       "      <td>0.082870</td>\n",
       "      <td>0.211067</td>\n",
       "      <td>0.0</td>\n",
       "      <td>0.0</td>\n",
       "      <td>0.167429</td>\n",
       "      <td>0.0</td>\n",
       "      <td>0.038547</td>\n",
       "      <td>0.0</td>\n",
       "    </tr>\n",
       "    <tr>\n",
       "      <th>165</th>\n",
       "      <td>False</td>\n",
       "      <td>0.0</td>\n",
       "      <td>0.093245</td>\n",
       "      <td>0.218462</td>\n",
       "      <td>0.0</td>\n",
       "      <td>0.000000</td>\n",
       "      <td>0.0</td>\n",
       "      <td>0.024805</td>\n",
       "      <td>0.026434</td>\n",
       "      <td>0.0</td>\n",
       "      <td>...</td>\n",
       "      <td>0.028226</td>\n",
       "      <td>0.0</td>\n",
       "      <td>0.000000</td>\n",
       "      <td>0.188801</td>\n",
       "      <td>0.0</td>\n",
       "      <td>0.0</td>\n",
       "      <td>0.024961</td>\n",
       "      <td>0.0</td>\n",
       "      <td>0.034480</td>\n",
       "      <td>0.0</td>\n",
       "    </tr>\n",
       "    <tr>\n",
       "      <th>166</th>\n",
       "      <td>False</td>\n",
       "      <td>0.0</td>\n",
       "      <td>0.104417</td>\n",
       "      <td>0.146782</td>\n",
       "      <td>0.0</td>\n",
       "      <td>0.014044</td>\n",
       "      <td>0.0</td>\n",
       "      <td>0.116661</td>\n",
       "      <td>0.053282</td>\n",
       "      <td>0.0</td>\n",
       "      <td>...</td>\n",
       "      <td>0.000000</td>\n",
       "      <td>0.0</td>\n",
       "      <td>0.000000</td>\n",
       "      <td>0.364703</td>\n",
       "      <td>0.0</td>\n",
       "      <td>0.0</td>\n",
       "      <td>0.050313</td>\n",
       "      <td>0.0</td>\n",
       "      <td>0.000000</td>\n",
       "      <td>0.0</td>\n",
       "    </tr>\n",
       "    <tr>\n",
       "      <th>167</th>\n",
       "      <td>False</td>\n",
       "      <td>0.0</td>\n",
       "      <td>0.000000</td>\n",
       "      <td>0.000000</td>\n",
       "      <td>0.0</td>\n",
       "      <td>0.043276</td>\n",
       "      <td>0.0</td>\n",
       "      <td>0.000000</td>\n",
       "      <td>0.000000</td>\n",
       "      <td>0.0</td>\n",
       "      <td>...</td>\n",
       "      <td>0.000000</td>\n",
       "      <td>0.0</td>\n",
       "      <td>0.230218</td>\n",
       "      <td>0.146590</td>\n",
       "      <td>0.0</td>\n",
       "      <td>0.0</td>\n",
       "      <td>0.000000</td>\n",
       "      <td>0.0</td>\n",
       "      <td>0.000000</td>\n",
       "      <td>0.0</td>\n",
       "    </tr>\n",
       "  </tbody>\n",
       "</table>\n",
       "<p>168 rows × 145 columns</p>\n",
       "</div>"
      ],
      "text/plain": [
       "     droite    0         1         2    3         4    5         6         7  \\\n",
       "0      True  0.0  0.000000  0.069537  0.0  0.079838  0.0  0.063163  0.067312   \n",
       "1      True  0.0  0.385405  0.000000  0.0  0.000000  0.0  0.000000  0.065555   \n",
       "2      True  0.0  0.035049  0.000000  0.0  0.023570  0.0  0.111883  0.029808   \n",
       "3      True  0.0  0.000000  0.115703  0.0  0.088561  0.0  0.035033  0.074667   \n",
       "4      True  0.0  0.000000  0.071175  0.0  0.217915  0.0  0.096977  0.034449   \n",
       "..      ...  ...       ...       ...  ...       ...  ...       ...       ...   \n",
       "163   False  0.0  0.096931  0.127742  0.0  0.032592  0.0  0.019339  0.103045   \n",
       "164   False  0.0  0.000000  0.030528  0.0  0.163568  0.0  0.055460  0.118206   \n",
       "165   False  0.0  0.093245  0.218462  0.0  0.000000  0.0  0.024805  0.026434   \n",
       "166   False  0.0  0.104417  0.146782  0.0  0.014044  0.0  0.116661  0.053282   \n",
       "167   False  0.0  0.000000  0.000000  0.0  0.043276  0.0  0.000000  0.000000   \n",
       "\n",
       "       8  ...       134  135       136       137  138  139       140  141  \\\n",
       "0    0.0  ...  0.000000  0.0  0.094380  0.000000  0.0  0.0  0.031781  0.0   \n",
       "1    0.0  ...  0.000000  0.0  0.000000  0.000000  0.0  0.0  0.061902  0.0   \n",
       "2    0.0  ...  0.000000  0.0  0.000000  0.292737  0.0  0.0  0.028147  0.0   \n",
       "3    0.0  ...  0.079731  0.0  0.000000  0.000000  0.0  0.0  0.000000  0.0   \n",
       "4    0.0  ...  0.147139  0.0  0.000000  0.246047  0.0  0.0  0.065059  0.0   \n",
       "..   ...  ...       ...  ...       ...       ...  ...  ...       ...  ...   \n",
       "163  0.0  ...  0.000000  0.0  0.144482  0.128798  0.0  0.0  0.058382  0.0   \n",
       "164  0.0  ...  0.094666  0.0  0.082870  0.211067  0.0  0.0  0.167429  0.0   \n",
       "165  0.0  ...  0.028226  0.0  0.000000  0.188801  0.0  0.0  0.024961  0.0   \n",
       "166  0.0  ...  0.000000  0.0  0.000000  0.364703  0.0  0.0  0.050313  0.0   \n",
       "167  0.0  ...  0.000000  0.0  0.230218  0.146590  0.0  0.0  0.000000  0.0   \n",
       "\n",
       "          142  143  \n",
       "0    0.000000  0.0  \n",
       "1    0.000000  0.0  \n",
       "2    0.000000  0.0  \n",
       "3    0.243489  0.0  \n",
       "4    0.000000  0.0  \n",
       "..        ...  ...  \n",
       "163  0.000000  0.0  \n",
       "164  0.038547  0.0  \n",
       "165  0.034480  0.0  \n",
       "166  0.000000  0.0  \n",
       "167  0.000000  0.0  \n",
       "\n",
       "[168 rows x 145 columns]"
      ]
     },
     "execution_count": 32,
     "metadata": {},
     "output_type": "execute_result"
    }
   ],
   "source": [
    "pipe_idf = make_pipeline(CountVectorizer(vocabulary=super_liste), TfidfTransformer())\n",
    "\n",
    "tf_idf_simple = pipe_idf2.fit_transform(df_simple['interventions'].values.astype('U')).toarray()\n",
    "\n",
    "simple_features = pd.DataFrame(tf_idf_simple, index=df_simple['droite'])\n",
    "simple_features = simple_features.reset_index() # Pour que 'groupe' devienne la target\n",
    "\n",
    "y = simple_features['droite']\n",
    "X = simple_features.drop('droite', axis=1)\n",
    "\n",
    "X_train, X_test, y_train, y_test = train_test_split(X, y, test_size=0.20)\n",
    "simple_features"
   ]
  },
  {
   "cell_type": "markdown",
   "metadata": {},
   "source": [
    "#### Troisième étape\n",
    "Nous allons maintenant évaluer quels sont les meilleurs hyperparamètres pour chaque modèle.\n",
    "* D'abord le modèle RandomForestClassifier\n",
    "* Ensuite le modèle SVC"
   ]
  },
  {
   "cell_type": "code",
   "execution_count": null,
   "metadata": {},
   "outputs": [],
   "source": [
    "###---- Évaluation des hyperparamètres avec validation croisée pour le RandomForestClassifier -----\n",
    "param_grid = { \n",
    "    'n_estimators': [200, 500],\n",
    "    'max_features': ['auto', 'sqrt', 'log2'],\n",
    "    'max_depth' : [4,5,6,7,8],\n",
    "    'criterion' :['gini', 'entropy']\n",
    "}\n",
    "\n",
    "CV_rfc2 = GridSearchCV(estimator=RandomForestClassifier(), param_grid=param_grid, cv=5)\n",
    "\n",
    "CV_rfc2.fit(X_train, y_train)\n",
    "opti_param1 = CV_rfc2.best_params_\n",
    "\n",
    "\"\"\"\n",
    "La fonction met du temps à s'exécuter. Voici les paramètres qu'elle trouve\n",
    "{'criterion': 'gini',\n",
    " 'max_depth': 8,\n",
    " 'max_features': 'auto',\n",
    " 'n_estimators': 200}\n",
    "Pas la peine de la relancer à chaque fois.\n",
    "\"\"\""
   ]
  },
  {
   "cell_type": "code",
   "execution_count": 34,
   "metadata": {},
   "outputs": [
    {
     "name": "stdout",
     "output_type": "stream",
     "text": [
      "Les meilleurs hyperparamètres sont {'C': 100, 'kernel': 'linear'}\n"
     ]
    }
   ],
   "source": [
    "## Validation croisée pour trouver hyperparamètres pour le modèle SVC -----\n",
    "\n",
    "tuned_parameters = [{'kernel': ['rbf'], 'gamma': [1e-3, 1e-4],\n",
    "                     'C': [1, 10, 100, 1000]},\n",
    "                    {'kernel': ['linear'], 'C': [1, 10, 100, 1000]}]\n",
    "\n",
    "\n",
    "CV_rfc3 = GridSearchCV(estimator=SVC(), \n",
    "                      param_grid=tuned_parameters, cv=5)\n",
    "\n",
    "CV_rfc3.fit(X_train, y_train)\n",
    "opti_param2 = CV_rfc3.best_params_\n",
    "print(\"Les meilleurs hyperparamètres sont \" + str(opti_param2))\n"
   ]
  },
  {
   "cell_type": "markdown",
   "metadata": {},
   "source": [
    "Nous allons maintenant entraîner les deux modèles successivment et évaluer leur pertinence."
   ]
  },
  {
   "cell_type": "code",
   "execution_count": 39,
   "metadata": {},
   "outputs": [
    {
     "name": "stdout",
     "output_type": "stream",
     "text": [
      "              precision    recall  f1-score   support\n",
      "\n",
      "       False       1.00      0.60      0.75        10\n",
      "        True       0.86      1.00      0.92        24\n",
      "\n",
      "    accuracy                           0.88        34\n",
      "   macro avg       0.93      0.80      0.84        34\n",
      "weighted avg       0.90      0.88      0.87        34\n",
      "\n",
      "Le score du test est 0.8823529411764706\n"
     ]
    }
   ],
   "source": [
    "clf = RandomForestClassifier(criterion=\"gini\", max_depth=8, max_features=\"auto\", n_estimators=200)\n",
    "\n",
    "clf.fit(X_train, y_train)\n",
    "\n",
    "y_pred = clf.predict(X_test)\n",
    "\n",
    "print(classification_report(y_test, y_pred))\n",
    "print(\"Le score du test est \" + str(clf.score(X_test, y_test)))"
   ]
  },
  {
   "cell_type": "code",
   "execution_count": 38,
   "metadata": {},
   "outputs": [
    {
     "name": "stdout",
     "output_type": "stream",
     "text": [
      "              precision    recall  f1-score   support\n",
      "\n",
      "       False       0.64      0.70      0.67        10\n",
      "        True       0.87      0.83      0.85        24\n",
      "\n",
      "    accuracy                           0.79        34\n",
      "   macro avg       0.75      0.77      0.76        34\n",
      "weighted avg       0.80      0.79      0.80        34\n",
      "\n",
      "Le score du test est 0.7941176470588235\n"
     ]
    }
   ],
   "source": [
    "svc_try = SVC(C=10, kernel=\"linear\")\n",
    "svc_try.fit(X_train, y_train)\n",
    "\n",
    "y_pred2 = svc_try.predict(X_test)\n",
    "print(classification_report(y_test, y_pred2)) \n",
    "print(\"Le score du test est \" + str(svc_try.score(X_test, y_test)))"
   ]
  },
  {
   "cell_type": "markdown",
   "metadata": {},
   "source": [
    "#### Quatrième étape\n",
    "Nous regardons maintenant quel classfication effectue le modèle sur le parti LREM.\n",
    "Premièrement, nous transformons d'abord la matrice LREM."
   ]
  },
  {
   "cell_type": "code",
   "execution_count": 40,
   "metadata": {},
   "outputs": [],
   "source": [
    "final_pipe = make_pipeline(CountVectorizer(vocabulary=super_liste), TfidfTransformer())\n",
    "\n",
    "tf_idf_LREM = final_pipe.fit_transform(LREM_df['interventions'].values.astype('U')).toarray()\n",
    "\n",
    "LREM_features = pd.DataFrame(tf_idf_LREM)"
   ]
  },
  {
   "cell_type": "code",
   "execution_count": 51,
   "metadata": {},
   "outputs": [
    {
     "name": "stdout",
     "output_type": "stream",
     "text": [
      "Counter({True: 288, False: 10})\n",
      "Le modèle RFC classe 288 députés à droite et 10 à gauche\n"
     ]
    }
   ],
   "source": [
    "LREM_pred = clf.predict(LREM_features)\n",
    "print(collections.Counter(LREM_pred))\n",
    "print(\"Le modèle RFC classe\", str(collections.Counter(LREM_pred)[1]), \"députés à droite et\", str(collections.Counter(LREM_pred)[0]), \"à gauche\")"
   ]
  },
  {
   "cell_type": "code",
   "execution_count": 52,
   "metadata": {},
   "outputs": [
    {
     "name": "stdout",
     "output_type": "stream",
     "text": [
      "Counter({True: 254, False: 44})\n",
      "Le modèle SVC classe 254 députés à droite et 44 à gauche\n"
     ]
    }
   ],
   "source": [
    "LREM_pred2 = svc_try.predict(LREM_features)\n",
    "print(collections.Counter(LREM_pred2))\n",
    "print(\"Le modèle SVC classe\", str(collections.Counter(LREM_pred2)[1]), \"députés à droite et\", str(collections.Counter(LREM_pred2)[0]), \"à gauche\")"
   ]
  }
 ],
 "metadata": {
  "colab": {
   "collapsed_sections": [],
   "include_colab_link": true,
   "name": "Rendu.ipynb",
   "provenance": []
  },
  "jupytext": {
   "encoding": "# -*- coding: utf-8 -*-",
   "formats": "ipynb,py:percent"
  },
  "kernelspec": {
   "display_name": "Python 3",
   "language": "python",
   "name": "python3"
  },
  "language_info": {
   "codemirror_mode": {
    "name": "ipython",
    "version": 3
   },
   "file_extension": ".py",
   "mimetype": "text/x-python",
   "name": "python",
   "nbconvert_exporter": "python",
   "pygments_lexer": "ipython3",
   "version": "3.8.5"
  }
 },
 "nbformat": 4,
 "nbformat_minor": 1
}
